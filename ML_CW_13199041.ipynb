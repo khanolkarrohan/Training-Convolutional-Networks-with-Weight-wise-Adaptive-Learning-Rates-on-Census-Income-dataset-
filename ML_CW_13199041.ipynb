{
  "nbformat": 4,
  "nbformat_minor": 0,
  "metadata": {
    "colab": {
      "name": "ML_CW_13199041",
      "provenance": [],
      "collapsed_sections": [],
      "toc_visible": true
    },
    "kernelspec": {
      "name": "python3",
      "display_name": "Python 3"
    },
    "language_info": {
      "name": "python"
    }
  },
  "cells": [
    {
      "cell_type": "markdown",
      "metadata": {
        "id": "Bf5EUexKWLX2"
      },
      "source": [
        "#Loading the Libraries "
      ]
    },
    {
      "cell_type": "code",
      "metadata": {
        "id": "VIdYxi-Re7ZT"
      },
      "source": [
        "import numpy as np\n",
        "import pandas as pd \n",
        "import tensorflow as tf \n",
        "from pandas import read_csv\n",
        "from pandas import set_option\n",
        "import matplotlib.pyplot as plt\n",
        "import seaborn as sns\n",
        "import math\n",
        "import time\n",
        "import keras\n",
        "from keras.layers import Dense, Conv2D, MaxPooling2D, Flatten, Dropout\n",
        "from keras.models import Sequential\n",
        "from tensorflow.keras.models import Sequential\n",
        "from keras.layers.core import Activation\n",
        "from keras.optimizers import Optimizer\n",
        "from sklearn.preprocessing import LabelBinarizer\n",
        "from tensorflow.keras import backend\n",
        "from keras import backend as K\n",
        "from keras.regularizers import l1, l2, l1_l2\n",
        "from keras.optimizers import Adam\n",
        "from keras.losses import kullback_leibler_divergence\n",
        "from keras.losses import mean_squared_error\n",
        "from keras.wrappers.scikit_learn import KerasClassifier \n",
        "from sklearn.model_selection import GridSearchCV\n",
        "from sklearn.model_selection import RandomizedSearchCV\n",
        "from sklearn.preprocessing import LabelEncoder\n",
        "from sklearn.model_selection import train_test_split\n",
        "from sklearn.preprocessing import Normalizer\n",
        "from sklearn.feature_selection import SelectKBest\n",
        "from sklearn.decomposition import PCA\n",
        "from sklearn.preprocessing import StandardScaler\n",
        "from sklearn.linear_model import LogisticRegression\n",
        "from sklearn.metrics import confusion_matrix\n",
        "from sklearn.feature_selection import RFE , chi2\n",
        "from sklearn.preprocessing import Normalizer\n",
        "from sklearn.ensemble import ExtraTreesClassifier\n",
        "from sklearn.model_selection import KFold\n",
        "from sklearn.model_selection import cross_val_score\n",
        "from sklearn.ensemble import RandomForestClassifier\n",
        "from sklearn.svm import SVC\n",
        "from sklearn.model_selection import GridSearchCV\n",
        "from sklearn.neighbors import KNeighborsClassifier\n",
        "from sklearn.naive_bayes import GaussianNB\n",
        "from sklearn.feature_selection import SelectFromModel\n",
        "from scipy.stats import uniform\n",
        "from matplotlib import pyplot\n",
        "import random as python_random\n",
        "from numpy import reshape\n",
        "from numpy import set_printoptions"
      ],
      "execution_count": null,
      "outputs": []
    },
    {
      "cell_type": "markdown",
      "metadata": {
        "id": "FUSkkNrBWV1D"
      },
      "source": [
        "#Dataset Loading "
      ]
    },
    {
      "cell_type": "code",
      "metadata": {
        "id": "wW8OIK4ufjiD"
      },
      "source": [
        "# Read the data set \n",
        "filename1 = 'adult.data'\n",
        "filename2 = 'adult.test'\n",
        "names = ('age','workclass','fnlwgt','education','education-num','marital-status','occupation','relationship','race','sex','capital-gain','capital-loss','hours-per-week','native-country','class')\n",
        "sample_train = pd.read_csv(filename1,names= names, na_values=[' ?','?'])\n",
        "sample_test = pd.read_csv(filename2, names= names, na_values=[' ?','?'])"
      ],
      "execution_count": null,
      "outputs": []
    },
    {
      "cell_type": "code",
      "metadata": {
        "colab": {
          "base_uri": "https://localhost:8080/"
        },
        "id": "Bd2Lq0g7xdQs",
        "outputId": "19c5cda1-7df6-4804-9fee-4ef7341c11e7"
      },
      "source": [
        "# To see the shape of the  train dataset\n",
        "sample_train.shape"
      ],
      "execution_count": null,
      "outputs": [
        {
          "output_type": "execute_result",
          "data": {
            "text/plain": [
              "(32561, 15)"
            ]
          },
          "metadata": {
            "tags": []
          },
          "execution_count": 16
        }
      ]
    },
    {
      "cell_type": "code",
      "metadata": {
        "colab": {
          "base_uri": "https://localhost:8080/"
        },
        "id": "S5G45jf-0S5q",
        "outputId": "1eea5d04-0fa9-45a5-f774-cc1af5b550ae"
      },
      "source": [
        "# To see the shape of the  test dataset\n",
        "sample_test.shape"
      ],
      "execution_count": null,
      "outputs": [
        {
          "output_type": "execute_result",
          "data": {
            "text/plain": [
              "(16282, 15)"
            ]
          },
          "metadata": {
            "tags": []
          },
          "execution_count": 17
        }
      ]
    },
    {
      "cell_type": "markdown",
      "metadata": {
        "id": "GCV7pHohWiPB"
      },
      "source": [
        "#Cleaning the dataset"
      ]
    },
    {
      "cell_type": "code",
      "metadata": {
        "colab": {
          "base_uri": "https://localhost:8080/"
        },
        "id": "NiF0KreFxhwu",
        "outputId": "6de4fced-61bf-43b0-f444-9058aef792aa"
      },
      "source": [
        "# Here we drop the rows which has ' ?' in the test dataset\n",
        "data_train = sample_train.dropna()\n",
        "data_train.shape"
      ],
      "execution_count": null,
      "outputs": [
        {
          "output_type": "execute_result",
          "data": {
            "text/plain": [
              "(30162, 15)"
            ]
          },
          "metadata": {
            "tags": []
          },
          "execution_count": 18
        }
      ]
    },
    {
      "cell_type": "code",
      "metadata": {
        "colab": {
          "base_uri": "https://localhost:8080/"
        },
        "id": "ZCBkDiDH0JDV",
        "outputId": "52251138-38d5-497d-f9bd-c9c67825cf82"
      },
      "source": [
        "# Here we drop the rows which has ' ?' in the train dataset\n",
        "data_test = sample_test.dropna()\n",
        "data_test.shape"
      ],
      "execution_count": null,
      "outputs": [
        {
          "output_type": "execute_result",
          "data": {
            "text/plain": [
              "(15060, 15)"
            ]
          },
          "metadata": {
            "tags": []
          },
          "execution_count": 19
        }
      ]
    },
    {
      "cell_type": "code",
      "metadata": {
        "colab": {
          "base_uri": "https://localhost:8080/",
          "height": 643
        },
        "id": "pZjG-6bD5NSv",
        "outputId": "8f23b20c-e692-424e-f69a-2ec40d1d4fa9"
      },
      "source": [
        "data_train"
      ],
      "execution_count": null,
      "outputs": [
        {
          "output_type": "execute_result",
          "data": {
            "text/html": [
              "<div>\n",
              "<style scoped>\n",
              "    .dataframe tbody tr th:only-of-type {\n",
              "        vertical-align: middle;\n",
              "    }\n",
              "\n",
              "    .dataframe tbody tr th {\n",
              "        vertical-align: top;\n",
              "    }\n",
              "\n",
              "    .dataframe thead th {\n",
              "        text-align: right;\n",
              "    }\n",
              "</style>\n",
              "<table border=\"1\" class=\"dataframe\">\n",
              "  <thead>\n",
              "    <tr style=\"text-align: right;\">\n",
              "      <th></th>\n",
              "      <th>age</th>\n",
              "      <th>workclass</th>\n",
              "      <th>fnlwgt</th>\n",
              "      <th>education</th>\n",
              "      <th>education-num</th>\n",
              "      <th>marital-status</th>\n",
              "      <th>occupation</th>\n",
              "      <th>relationship</th>\n",
              "      <th>race</th>\n",
              "      <th>sex</th>\n",
              "      <th>capital-gain</th>\n",
              "      <th>capital-loss</th>\n",
              "      <th>hours-per-week</th>\n",
              "      <th>native-country</th>\n",
              "      <th>class</th>\n",
              "    </tr>\n",
              "  </thead>\n",
              "  <tbody>\n",
              "    <tr>\n",
              "      <th>0</th>\n",
              "      <td>39</td>\n",
              "      <td>State-gov</td>\n",
              "      <td>77516</td>\n",
              "      <td>Bachelors</td>\n",
              "      <td>13</td>\n",
              "      <td>Never-married</td>\n",
              "      <td>Adm-clerical</td>\n",
              "      <td>Not-in-family</td>\n",
              "      <td>White</td>\n",
              "      <td>Male</td>\n",
              "      <td>2174</td>\n",
              "      <td>0</td>\n",
              "      <td>40</td>\n",
              "      <td>United-States</td>\n",
              "      <td>&lt;=50K</td>\n",
              "    </tr>\n",
              "    <tr>\n",
              "      <th>1</th>\n",
              "      <td>50</td>\n",
              "      <td>Self-emp-not-inc</td>\n",
              "      <td>83311</td>\n",
              "      <td>Bachelors</td>\n",
              "      <td>13</td>\n",
              "      <td>Married-civ-spouse</td>\n",
              "      <td>Exec-managerial</td>\n",
              "      <td>Husband</td>\n",
              "      <td>White</td>\n",
              "      <td>Male</td>\n",
              "      <td>0</td>\n",
              "      <td>0</td>\n",
              "      <td>13</td>\n",
              "      <td>United-States</td>\n",
              "      <td>&lt;=50K</td>\n",
              "    </tr>\n",
              "    <tr>\n",
              "      <th>2</th>\n",
              "      <td>38</td>\n",
              "      <td>Private</td>\n",
              "      <td>215646</td>\n",
              "      <td>HS-grad</td>\n",
              "      <td>9</td>\n",
              "      <td>Divorced</td>\n",
              "      <td>Handlers-cleaners</td>\n",
              "      <td>Not-in-family</td>\n",
              "      <td>White</td>\n",
              "      <td>Male</td>\n",
              "      <td>0</td>\n",
              "      <td>0</td>\n",
              "      <td>40</td>\n",
              "      <td>United-States</td>\n",
              "      <td>&lt;=50K</td>\n",
              "    </tr>\n",
              "    <tr>\n",
              "      <th>3</th>\n",
              "      <td>53</td>\n",
              "      <td>Private</td>\n",
              "      <td>234721</td>\n",
              "      <td>11th</td>\n",
              "      <td>7</td>\n",
              "      <td>Married-civ-spouse</td>\n",
              "      <td>Handlers-cleaners</td>\n",
              "      <td>Husband</td>\n",
              "      <td>Black</td>\n",
              "      <td>Male</td>\n",
              "      <td>0</td>\n",
              "      <td>0</td>\n",
              "      <td>40</td>\n",
              "      <td>United-States</td>\n",
              "      <td>&lt;=50K</td>\n",
              "    </tr>\n",
              "    <tr>\n",
              "      <th>4</th>\n",
              "      <td>28</td>\n",
              "      <td>Private</td>\n",
              "      <td>338409</td>\n",
              "      <td>Bachelors</td>\n",
              "      <td>13</td>\n",
              "      <td>Married-civ-spouse</td>\n",
              "      <td>Prof-specialty</td>\n",
              "      <td>Wife</td>\n",
              "      <td>Black</td>\n",
              "      <td>Female</td>\n",
              "      <td>0</td>\n",
              "      <td>0</td>\n",
              "      <td>40</td>\n",
              "      <td>Cuba</td>\n",
              "      <td>&lt;=50K</td>\n",
              "    </tr>\n",
              "    <tr>\n",
              "      <th>...</th>\n",
              "      <td>...</td>\n",
              "      <td>...</td>\n",
              "      <td>...</td>\n",
              "      <td>...</td>\n",
              "      <td>...</td>\n",
              "      <td>...</td>\n",
              "      <td>...</td>\n",
              "      <td>...</td>\n",
              "      <td>...</td>\n",
              "      <td>...</td>\n",
              "      <td>...</td>\n",
              "      <td>...</td>\n",
              "      <td>...</td>\n",
              "      <td>...</td>\n",
              "      <td>...</td>\n",
              "    </tr>\n",
              "    <tr>\n",
              "      <th>32556</th>\n",
              "      <td>27</td>\n",
              "      <td>Private</td>\n",
              "      <td>257302</td>\n",
              "      <td>Assoc-acdm</td>\n",
              "      <td>12</td>\n",
              "      <td>Married-civ-spouse</td>\n",
              "      <td>Tech-support</td>\n",
              "      <td>Wife</td>\n",
              "      <td>White</td>\n",
              "      <td>Female</td>\n",
              "      <td>0</td>\n",
              "      <td>0</td>\n",
              "      <td>38</td>\n",
              "      <td>United-States</td>\n",
              "      <td>&lt;=50K</td>\n",
              "    </tr>\n",
              "    <tr>\n",
              "      <th>32557</th>\n",
              "      <td>40</td>\n",
              "      <td>Private</td>\n",
              "      <td>154374</td>\n",
              "      <td>HS-grad</td>\n",
              "      <td>9</td>\n",
              "      <td>Married-civ-spouse</td>\n",
              "      <td>Machine-op-inspct</td>\n",
              "      <td>Husband</td>\n",
              "      <td>White</td>\n",
              "      <td>Male</td>\n",
              "      <td>0</td>\n",
              "      <td>0</td>\n",
              "      <td>40</td>\n",
              "      <td>United-States</td>\n",
              "      <td>&gt;50K</td>\n",
              "    </tr>\n",
              "    <tr>\n",
              "      <th>32558</th>\n",
              "      <td>58</td>\n",
              "      <td>Private</td>\n",
              "      <td>151910</td>\n",
              "      <td>HS-grad</td>\n",
              "      <td>9</td>\n",
              "      <td>Widowed</td>\n",
              "      <td>Adm-clerical</td>\n",
              "      <td>Unmarried</td>\n",
              "      <td>White</td>\n",
              "      <td>Female</td>\n",
              "      <td>0</td>\n",
              "      <td>0</td>\n",
              "      <td>40</td>\n",
              "      <td>United-States</td>\n",
              "      <td>&lt;=50K</td>\n",
              "    </tr>\n",
              "    <tr>\n",
              "      <th>32559</th>\n",
              "      <td>22</td>\n",
              "      <td>Private</td>\n",
              "      <td>201490</td>\n",
              "      <td>HS-grad</td>\n",
              "      <td>9</td>\n",
              "      <td>Never-married</td>\n",
              "      <td>Adm-clerical</td>\n",
              "      <td>Own-child</td>\n",
              "      <td>White</td>\n",
              "      <td>Male</td>\n",
              "      <td>0</td>\n",
              "      <td>0</td>\n",
              "      <td>20</td>\n",
              "      <td>United-States</td>\n",
              "      <td>&lt;=50K</td>\n",
              "    </tr>\n",
              "    <tr>\n",
              "      <th>32560</th>\n",
              "      <td>52</td>\n",
              "      <td>Self-emp-inc</td>\n",
              "      <td>287927</td>\n",
              "      <td>HS-grad</td>\n",
              "      <td>9</td>\n",
              "      <td>Married-civ-spouse</td>\n",
              "      <td>Exec-managerial</td>\n",
              "      <td>Wife</td>\n",
              "      <td>White</td>\n",
              "      <td>Female</td>\n",
              "      <td>15024</td>\n",
              "      <td>0</td>\n",
              "      <td>40</td>\n",
              "      <td>United-States</td>\n",
              "      <td>&gt;50K</td>\n",
              "    </tr>\n",
              "  </tbody>\n",
              "</table>\n",
              "<p>30162 rows × 15 columns</p>\n",
              "</div>"
            ],
            "text/plain": [
              "       age          workclass  fnlwgt  ... hours-per-week  native-country   class\n",
              "0       39          State-gov   77516  ...             40   United-States   <=50K\n",
              "1       50   Self-emp-not-inc   83311  ...             13   United-States   <=50K\n",
              "2       38            Private  215646  ...             40   United-States   <=50K\n",
              "3       53            Private  234721  ...             40   United-States   <=50K\n",
              "4       28            Private  338409  ...             40            Cuba   <=50K\n",
              "...    ...                ...     ...  ...            ...             ...     ...\n",
              "32556   27            Private  257302  ...             38   United-States   <=50K\n",
              "32557   40            Private  154374  ...             40   United-States    >50K\n",
              "32558   58            Private  151910  ...             40   United-States   <=50K\n",
              "32559   22            Private  201490  ...             20   United-States   <=50K\n",
              "32560   52       Self-emp-inc  287927  ...             40   United-States    >50K\n",
              "\n",
              "[30162 rows x 15 columns]"
            ]
          },
          "metadata": {
            "tags": []
          },
          "execution_count": 20
        }
      ]
    },
    {
      "cell_type": "code",
      "metadata": {
        "colab": {
          "base_uri": "https://localhost:8080/",
          "height": 660
        },
        "id": "ZMWwRfhJSpzl",
        "outputId": "5ca3e4fc-37c2-4dc5-952d-927c71a76a78"
      },
      "source": [
        "data_test"
      ],
      "execution_count": null,
      "outputs": [
        {
          "output_type": "execute_result",
          "data": {
            "text/html": [
              "<div>\n",
              "<style scoped>\n",
              "    .dataframe tbody tr th:only-of-type {\n",
              "        vertical-align: middle;\n",
              "    }\n",
              "\n",
              "    .dataframe tbody tr th {\n",
              "        vertical-align: top;\n",
              "    }\n",
              "\n",
              "    .dataframe thead th {\n",
              "        text-align: right;\n",
              "    }\n",
              "</style>\n",
              "<table border=\"1\" class=\"dataframe\">\n",
              "  <thead>\n",
              "    <tr style=\"text-align: right;\">\n",
              "      <th></th>\n",
              "      <th>age</th>\n",
              "      <th>workclass</th>\n",
              "      <th>fnlwgt</th>\n",
              "      <th>education</th>\n",
              "      <th>education-num</th>\n",
              "      <th>marital-status</th>\n",
              "      <th>occupation</th>\n",
              "      <th>relationship</th>\n",
              "      <th>race</th>\n",
              "      <th>sex</th>\n",
              "      <th>capital-gain</th>\n",
              "      <th>capital-loss</th>\n",
              "      <th>hours-per-week</th>\n",
              "      <th>native-country</th>\n",
              "      <th>class</th>\n",
              "    </tr>\n",
              "  </thead>\n",
              "  <tbody>\n",
              "    <tr>\n",
              "      <th>1</th>\n",
              "      <td>25</td>\n",
              "      <td>Private</td>\n",
              "      <td>226802.0</td>\n",
              "      <td>11th</td>\n",
              "      <td>7.0</td>\n",
              "      <td>Never-married</td>\n",
              "      <td>Machine-op-inspct</td>\n",
              "      <td>Own-child</td>\n",
              "      <td>Black</td>\n",
              "      <td>Male</td>\n",
              "      <td>0.0</td>\n",
              "      <td>0.0</td>\n",
              "      <td>40.0</td>\n",
              "      <td>United-States</td>\n",
              "      <td>&lt;=50K.</td>\n",
              "    </tr>\n",
              "    <tr>\n",
              "      <th>2</th>\n",
              "      <td>38</td>\n",
              "      <td>Private</td>\n",
              "      <td>89814.0</td>\n",
              "      <td>HS-grad</td>\n",
              "      <td>9.0</td>\n",
              "      <td>Married-civ-spouse</td>\n",
              "      <td>Farming-fishing</td>\n",
              "      <td>Husband</td>\n",
              "      <td>White</td>\n",
              "      <td>Male</td>\n",
              "      <td>0.0</td>\n",
              "      <td>0.0</td>\n",
              "      <td>50.0</td>\n",
              "      <td>United-States</td>\n",
              "      <td>&lt;=50K.</td>\n",
              "    </tr>\n",
              "    <tr>\n",
              "      <th>3</th>\n",
              "      <td>28</td>\n",
              "      <td>Local-gov</td>\n",
              "      <td>336951.0</td>\n",
              "      <td>Assoc-acdm</td>\n",
              "      <td>12.0</td>\n",
              "      <td>Married-civ-spouse</td>\n",
              "      <td>Protective-serv</td>\n",
              "      <td>Husband</td>\n",
              "      <td>White</td>\n",
              "      <td>Male</td>\n",
              "      <td>0.0</td>\n",
              "      <td>0.0</td>\n",
              "      <td>40.0</td>\n",
              "      <td>United-States</td>\n",
              "      <td>&gt;50K.</td>\n",
              "    </tr>\n",
              "    <tr>\n",
              "      <th>4</th>\n",
              "      <td>44</td>\n",
              "      <td>Private</td>\n",
              "      <td>160323.0</td>\n",
              "      <td>Some-college</td>\n",
              "      <td>10.0</td>\n",
              "      <td>Married-civ-spouse</td>\n",
              "      <td>Machine-op-inspct</td>\n",
              "      <td>Husband</td>\n",
              "      <td>Black</td>\n",
              "      <td>Male</td>\n",
              "      <td>7688.0</td>\n",
              "      <td>0.0</td>\n",
              "      <td>40.0</td>\n",
              "      <td>United-States</td>\n",
              "      <td>&gt;50K.</td>\n",
              "    </tr>\n",
              "    <tr>\n",
              "      <th>6</th>\n",
              "      <td>34</td>\n",
              "      <td>Private</td>\n",
              "      <td>198693.0</td>\n",
              "      <td>10th</td>\n",
              "      <td>6.0</td>\n",
              "      <td>Never-married</td>\n",
              "      <td>Other-service</td>\n",
              "      <td>Not-in-family</td>\n",
              "      <td>White</td>\n",
              "      <td>Male</td>\n",
              "      <td>0.0</td>\n",
              "      <td>0.0</td>\n",
              "      <td>30.0</td>\n",
              "      <td>United-States</td>\n",
              "      <td>&lt;=50K.</td>\n",
              "    </tr>\n",
              "    <tr>\n",
              "      <th>...</th>\n",
              "      <td>...</td>\n",
              "      <td>...</td>\n",
              "      <td>...</td>\n",
              "      <td>...</td>\n",
              "      <td>...</td>\n",
              "      <td>...</td>\n",
              "      <td>...</td>\n",
              "      <td>...</td>\n",
              "      <td>...</td>\n",
              "      <td>...</td>\n",
              "      <td>...</td>\n",
              "      <td>...</td>\n",
              "      <td>...</td>\n",
              "      <td>...</td>\n",
              "      <td>...</td>\n",
              "    </tr>\n",
              "    <tr>\n",
              "      <th>16276</th>\n",
              "      <td>33</td>\n",
              "      <td>Private</td>\n",
              "      <td>245211.0</td>\n",
              "      <td>Bachelors</td>\n",
              "      <td>13.0</td>\n",
              "      <td>Never-married</td>\n",
              "      <td>Prof-specialty</td>\n",
              "      <td>Own-child</td>\n",
              "      <td>White</td>\n",
              "      <td>Male</td>\n",
              "      <td>0.0</td>\n",
              "      <td>0.0</td>\n",
              "      <td>40.0</td>\n",
              "      <td>United-States</td>\n",
              "      <td>&lt;=50K.</td>\n",
              "    </tr>\n",
              "    <tr>\n",
              "      <th>16277</th>\n",
              "      <td>39</td>\n",
              "      <td>Private</td>\n",
              "      <td>215419.0</td>\n",
              "      <td>Bachelors</td>\n",
              "      <td>13.0</td>\n",
              "      <td>Divorced</td>\n",
              "      <td>Prof-specialty</td>\n",
              "      <td>Not-in-family</td>\n",
              "      <td>White</td>\n",
              "      <td>Female</td>\n",
              "      <td>0.0</td>\n",
              "      <td>0.0</td>\n",
              "      <td>36.0</td>\n",
              "      <td>United-States</td>\n",
              "      <td>&lt;=50K.</td>\n",
              "    </tr>\n",
              "    <tr>\n",
              "      <th>16279</th>\n",
              "      <td>38</td>\n",
              "      <td>Private</td>\n",
              "      <td>374983.0</td>\n",
              "      <td>Bachelors</td>\n",
              "      <td>13.0</td>\n",
              "      <td>Married-civ-spouse</td>\n",
              "      <td>Prof-specialty</td>\n",
              "      <td>Husband</td>\n",
              "      <td>White</td>\n",
              "      <td>Male</td>\n",
              "      <td>0.0</td>\n",
              "      <td>0.0</td>\n",
              "      <td>50.0</td>\n",
              "      <td>United-States</td>\n",
              "      <td>&lt;=50K.</td>\n",
              "    </tr>\n",
              "    <tr>\n",
              "      <th>16280</th>\n",
              "      <td>44</td>\n",
              "      <td>Private</td>\n",
              "      <td>83891.0</td>\n",
              "      <td>Bachelors</td>\n",
              "      <td>13.0</td>\n",
              "      <td>Divorced</td>\n",
              "      <td>Adm-clerical</td>\n",
              "      <td>Own-child</td>\n",
              "      <td>Asian-Pac-Islander</td>\n",
              "      <td>Male</td>\n",
              "      <td>5455.0</td>\n",
              "      <td>0.0</td>\n",
              "      <td>40.0</td>\n",
              "      <td>United-States</td>\n",
              "      <td>&lt;=50K.</td>\n",
              "    </tr>\n",
              "    <tr>\n",
              "      <th>16281</th>\n",
              "      <td>35</td>\n",
              "      <td>Self-emp-inc</td>\n",
              "      <td>182148.0</td>\n",
              "      <td>Bachelors</td>\n",
              "      <td>13.0</td>\n",
              "      <td>Married-civ-spouse</td>\n",
              "      <td>Exec-managerial</td>\n",
              "      <td>Husband</td>\n",
              "      <td>White</td>\n",
              "      <td>Male</td>\n",
              "      <td>0.0</td>\n",
              "      <td>0.0</td>\n",
              "      <td>60.0</td>\n",
              "      <td>United-States</td>\n",
              "      <td>&gt;50K.</td>\n",
              "    </tr>\n",
              "  </tbody>\n",
              "</table>\n",
              "<p>15060 rows × 15 columns</p>\n",
              "</div>"
            ],
            "text/plain": [
              "      age      workclass    fnlwgt  ... hours-per-week  native-country    class\n",
              "1      25        Private  226802.0  ...           40.0   United-States   <=50K.\n",
              "2      38        Private   89814.0  ...           50.0   United-States   <=50K.\n",
              "3      28      Local-gov  336951.0  ...           40.0   United-States    >50K.\n",
              "4      44        Private  160323.0  ...           40.0   United-States    >50K.\n",
              "6      34        Private  198693.0  ...           30.0   United-States   <=50K.\n",
              "...    ..            ...       ...  ...            ...             ...      ...\n",
              "16276  33        Private  245211.0  ...           40.0   United-States   <=50K.\n",
              "16277  39        Private  215419.0  ...           36.0   United-States   <=50K.\n",
              "16279  38        Private  374983.0  ...           50.0   United-States   <=50K.\n",
              "16280  44        Private   83891.0  ...           40.0   United-States   <=50K.\n",
              "16281  35   Self-emp-inc  182148.0  ...           60.0   United-States    >50K.\n",
              "\n",
              "[15060 rows x 15 columns]"
            ]
          },
          "metadata": {
            "tags": []
          },
          "execution_count": 21
        }
      ]
    },
    {
      "cell_type": "markdown",
      "metadata": {
        "id": "BE1WejYQWq72"
      },
      "source": [
        "## Checking if there are any ' ?' or null values in the dataset"
      ]
    },
    {
      "cell_type": "code",
      "metadata": {
        "colab": {
          "base_uri": "https://localhost:8080/"
        },
        "id": "sSJ3iQEZ0oNi",
        "outputId": "31636e9a-a047-4d46-9ae7-42c4aeebd030"
      },
      "source": [
        "# Here we check if there are any '?' values in any of the features\n",
        "for c in names:\n",
        "  print(c)\n",
        "  print(data_train[c].value_counts())\n"
      ],
      "execution_count": null,
      "outputs": [
        {
          "output_type": "stream",
          "text": [
            "age\n",
            "36    852\n",
            "31    851\n",
            "33    837\n",
            "34    836\n",
            "35    828\n",
            "     ... \n",
            "82      7\n",
            "83      5\n",
            "88      3\n",
            "85      3\n",
            "86      1\n",
            "Name: age, Length: 72, dtype: int64\n",
            "workclass\n",
            " Private             22286\n",
            " Self-emp-not-inc     2499\n",
            " Local-gov            2067\n",
            " State-gov            1279\n",
            " Self-emp-inc         1074\n",
            " Federal-gov           943\n",
            " Without-pay            14\n",
            "Name: workclass, dtype: int64\n",
            "fnlwgt\n",
            "203488    13\n",
            "113364    12\n",
            "164190    12\n",
            "123011    12\n",
            "148995    12\n",
            "          ..\n",
            "34393      1\n",
            "288341     1\n",
            "239415     1\n",
            "118352     1\n",
            "229376     1\n",
            "Name: fnlwgt, Length: 20263, dtype: int64\n",
            "education\n",
            " HS-grad         9840\n",
            " Some-college    6678\n",
            " Bachelors       5044\n",
            " Masters         1627\n",
            " Assoc-voc       1307\n",
            " 11th            1048\n",
            " Assoc-acdm      1008\n",
            " 10th             820\n",
            " 7th-8th          557\n",
            " Prof-school      542\n",
            " 9th              455\n",
            " 12th             377\n",
            " Doctorate        375\n",
            " 5th-6th          288\n",
            " 1st-4th          151\n",
            " Preschool         45\n",
            "Name: education, dtype: int64\n",
            "education-num\n",
            "9     9840\n",
            "10    6678\n",
            "13    5044\n",
            "14    1627\n",
            "11    1307\n",
            "7     1048\n",
            "12    1008\n",
            "6      820\n",
            "4      557\n",
            "15     542\n",
            "5      455\n",
            "8      377\n",
            "16     375\n",
            "3      288\n",
            "2      151\n",
            "1       45\n",
            "Name: education-num, dtype: int64\n",
            "marital-status\n",
            " Married-civ-spouse       14065\n",
            " Never-married             9726\n",
            " Divorced                  4214\n",
            " Separated                  939\n",
            " Widowed                    827\n",
            " Married-spouse-absent      370\n",
            " Married-AF-spouse           21\n",
            "Name: marital-status, dtype: int64\n",
            "occupation\n",
            " Prof-specialty       4038\n",
            " Craft-repair         4030\n",
            " Exec-managerial      3992\n",
            " Adm-clerical         3721\n",
            " Sales                3584\n",
            " Other-service        3212\n",
            " Machine-op-inspct    1966\n",
            " Transport-moving     1572\n",
            " Handlers-cleaners    1350\n",
            " Farming-fishing       989\n",
            " Tech-support          912\n",
            " Protective-serv       644\n",
            " Priv-house-serv       143\n",
            " Armed-Forces            9\n",
            "Name: occupation, dtype: int64\n",
            "relationship\n",
            " Husband           12463\n",
            " Not-in-family      7726\n",
            " Own-child          4466\n",
            " Unmarried          3212\n",
            " Wife               1406\n",
            " Other-relative      889\n",
            "Name: relationship, dtype: int64\n",
            "race\n",
            " White                 25933\n",
            " Black                  2817\n",
            " Asian-Pac-Islander      895\n",
            " Amer-Indian-Eskimo      286\n",
            " Other                   231\n",
            "Name: race, dtype: int64\n",
            "sex\n",
            " Male      20380\n",
            " Female     9782\n",
            "Name: sex, dtype: int64\n",
            "capital-gain\n",
            "0        27624\n",
            "15024      337\n",
            "7688       270\n",
            "7298       240\n",
            "99999      148\n",
            "         ...  \n",
            "401          1\n",
            "22040        1\n",
            "4931         1\n",
            "1455         1\n",
            "1639         1\n",
            "Name: capital-gain, Length: 118, dtype: int64\n",
            "capital-loss\n",
            "0       28735\n",
            "1902      194\n",
            "1977      162\n",
            "1887      155\n",
            "1848       50\n",
            "        ...  \n",
            "419         1\n",
            "1411        1\n",
            "1539        1\n",
            "2472        1\n",
            "2467        1\n",
            "Name: capital-loss, Length: 90, dtype: int64\n",
            "hours-per-week\n",
            "40    14251\n",
            "50     2718\n",
            "45     1753\n",
            "60     1405\n",
            "35     1184\n",
            "      ...  \n",
            "94        1\n",
            "87        1\n",
            "74        1\n",
            "82        1\n",
            "92        1\n",
            "Name: hours-per-week, Length: 94, dtype: int64\n",
            "native-country\n",
            " United-States                 27504\n",
            " Mexico                          610\n",
            " Philippines                     188\n",
            " Germany                         128\n",
            " Puerto-Rico                     109\n",
            " Canada                          107\n",
            " El-Salvador                     100\n",
            " India                           100\n",
            " Cuba                             92\n",
            " England                          86\n",
            " Jamaica                          80\n",
            " South                            71\n",
            " China                            68\n",
            " Italy                            68\n",
            " Dominican-Republic               67\n",
            " Vietnam                          64\n",
            " Guatemala                        63\n",
            " Japan                            59\n",
            " Columbia                         56\n",
            " Poland                           56\n",
            " Haiti                            42\n",
            " Taiwan                           42\n",
            " Iran                             42\n",
            " Portugal                         34\n",
            " Nicaragua                        33\n",
            " Peru                             30\n",
            " Greece                           29\n",
            " Ecuador                          27\n",
            " France                           27\n",
            " Ireland                          24\n",
            " Hong                             19\n",
            " Cambodia                         18\n",
            " Trinadad&Tobago                  18\n",
            " Laos                             17\n",
            " Thailand                         17\n",
            " Yugoslavia                       16\n",
            " Outlying-US(Guam-USVI-etc)       14\n",
            " Hungary                          13\n",
            " Honduras                         12\n",
            " Scotland                         11\n",
            " Holand-Netherlands                1\n",
            "Name: native-country, dtype: int64\n",
            "class\n",
            " <=50K    22654\n",
            " >50K      7508\n",
            "Name: class, dtype: int64\n"
          ],
          "name": "stdout"
        }
      ]
    },
    {
      "cell_type": "code",
      "metadata": {
        "colab": {
          "base_uri": "https://localhost:8080/"
        },
        "id": "mfouFHiSS7Du",
        "outputId": "50c81ef1-6b09-4785-945f-d90c7a0ef4ba"
      },
      "source": [
        "for c in names:\n",
        "  print(c)\n",
        "  print(data_test[c].value_counts())"
      ],
      "execution_count": null,
      "outputs": [
        {
          "output_type": "stream",
          "text": [
            "age\n",
            "35    444\n",
            "33    442\n",
            "36    431\n",
            "31    423\n",
            "38    420\n",
            "     ... \n",
            "85      2\n",
            "88      2\n",
            "87      1\n",
            "89      1\n",
            "84      1\n",
            "Name: age, Length: 73, dtype: int64\n",
            "workclass\n",
            " Private             11021\n",
            " Self-emp-not-inc     1297\n",
            " Local-gov            1033\n",
            " State-gov             667\n",
            " Self-emp-inc          572\n",
            " Federal-gov           463\n",
            " Without-pay             7\n",
            "Name: workclass, dtype: int64\n",
            "fnlwgt\n",
            "136986.0    9\n",
            "203488.0    8\n",
            "127651.0    8\n",
            "120277.0    8\n",
            "125892.0    8\n",
            "           ..\n",
            "153813.0    1\n",
            "242589.0    1\n",
            "227540.0    1\n",
            "77143.0     1\n",
            "204244.0    1\n",
            "Name: fnlwgt, Length: 11913, dtype: int64\n",
            "education\n",
            " HS-grad         4943\n",
            " Some-college    3221\n",
            " Bachelors       2526\n",
            " Masters          887\n",
            " Assoc-voc        652\n",
            " 11th             571\n",
            " Assoc-acdm       499\n",
            " 10th             403\n",
            " 7th-8th          266\n",
            " Prof-school      243\n",
            " 9th              221\n",
            " 12th             200\n",
            " Doctorate        169\n",
            " 5th-6th          161\n",
            " 1st-4th           71\n",
            " Preschool         27\n",
            "Name: education, dtype: int64\n",
            "education-num\n",
            "9.0     4943\n",
            "10.0    3221\n",
            "13.0    2526\n",
            "14.0     887\n",
            "11.0     652\n",
            "7.0      571\n",
            "12.0     499\n",
            "6.0      403\n",
            "4.0      266\n",
            "15.0     243\n",
            "5.0      221\n",
            "8.0      200\n",
            "16.0     169\n",
            "3.0      161\n",
            "2.0       71\n",
            "1.0       27\n",
            "Name: education-num, dtype: int64\n",
            "marital-status\n",
            " Married-civ-spouse       6990\n",
            " Never-married            4872\n",
            " Divorced                 2083\n",
            " Separated                 472\n",
            " Widowed                   450\n",
            " Married-spouse-absent     182\n",
            " Married-AF-spouse          11\n",
            "Name: marital-status, dtype: int64\n",
            "occupation\n",
            " Exec-managerial      1992\n",
            " Craft-repair         1990\n",
            " Prof-specialty       1970\n",
            " Sales                1824\n",
            " Adm-clerical         1819\n",
            " Other-service        1596\n",
            " Machine-op-inspct    1004\n",
            " Transport-moving      744\n",
            " Handlers-cleaners     696\n",
            " Tech-support          508\n",
            " Farming-fishing       491\n",
            " Protective-serv       332\n",
            " Priv-house-serv        89\n",
            " Armed-Forces            5\n",
            "Name: occupation, dtype: int64\n",
            "relationship\n",
            " Husband           6203\n",
            " Not-in-family     3976\n",
            " Own-child         2160\n",
            " Unmarried         1576\n",
            " Wife               685\n",
            " Other-relative     460\n",
            "Name: relationship, dtype: int64\n",
            "race\n",
            " White                 12970\n",
            " Black                  1411\n",
            " Asian-Pac-Islander      408\n",
            " Amer-Indian-Eskimo      149\n",
            " Other                   122\n",
            "Name: race, dtype: int64\n",
            "sex\n",
            " Male      10147\n",
            " Female     4913\n",
            "Name: sex, dtype: int64\n",
            "capital-gain\n",
            "0.0        13808\n",
            "15024.0      161\n",
            "7688.0       121\n",
            "7298.0       111\n",
            "99999.0       81\n",
            "           ...  \n",
            "41310.0        1\n",
            "991.0          1\n",
            "1173.0         1\n",
            "34095.0        1\n",
            "2062.0         1\n",
            "Name: capital-gain, Length: 110, dtype: int64\n",
            "capital-loss\n",
            "0.0       14347\n",
            "1902.0      100\n",
            "1977.0       84\n",
            "1887.0       73\n",
            "2415.0       23\n",
            "          ...  \n",
            "653.0         1\n",
            "1911.0        1\n",
            "2547.0        1\n",
            "2282.0        1\n",
            "2603.0        1\n",
            "Name: capital-loss, Length: 79, dtype: int64\n",
            "hours-per-week\n",
            "40.0    7107\n",
            "50.0    1376\n",
            "45.0     849\n",
            "60.0     680\n",
            "35.0     592\n",
            "        ... \n",
            "89.0       1\n",
            "69.0       1\n",
            "79.0       1\n",
            "76.0       1\n",
            "73.0       1\n",
            "Name: hours-per-week, Length: 89, dtype: int64\n",
            "native-country\n",
            " United-States                 13788\n",
            " Mexico                          293\n",
            " Philippines                      95\n",
            " Puerto-Rico                      66\n",
            " Germany                          65\n",
            " Canada                           56\n",
            " India                            47\n",
            " El-Salvador                      47\n",
            " China                            45\n",
            " Cuba                             41\n",
            " England                          33\n",
            " Italy                            32\n",
            " Dominican-Republic               30\n",
            " Japan                            30\n",
            " South                            30\n",
            " Portugal                         28\n",
            " Haiti                            27\n",
            " Columbia                         26\n",
            " Poland                           25\n",
            " Guatemala                        23\n",
            " Jamaica                          23\n",
            " Greece                           20\n",
            " Vietnam                          19\n",
            " Ecuador                          16\n",
            " Nicaragua                        15\n",
            " Peru                             15\n",
            " Iran                             14\n",
            " Taiwan                           13\n",
            " Thailand                         12\n",
            " Ireland                          12\n",
            " Hong                              9\n",
            " France                            9\n",
            " Scotland                          9\n",
            " Cambodia                          8\n",
            " Outlying-US(Guam-USVI-etc)        8\n",
            " Trinadad&Tobago                   8\n",
            " Yugoslavia                        7\n",
            " Honduras                          7\n",
            " Hungary                           5\n",
            " Laos                              4\n",
            "Name: native-country, dtype: int64\n",
            "class\n",
            " <=50K.    11360\n",
            " >50K.      3700\n",
            "Name: class, dtype: int64\n"
          ],
          "name": "stdout"
        }
      ]
    },
    {
      "cell_type": "markdown",
      "metadata": {
        "id": "E-1k3FsXXI5O"
      },
      "source": [
        "# Data Conversion (using Leable Encoder)"
      ]
    },
    {
      "cell_type": "code",
      "metadata": {
        "id": "ZMlY8DGWAAxl"
      },
      "source": [
        "# Using Lable Encoder on train data to convert the Categorical data into Numerical data\n",
        "data_train_new = data_train.apply(LabelEncoder().fit_transform)"
      ],
      "execution_count": null,
      "outputs": []
    },
    {
      "cell_type": "code",
      "metadata": {
        "colab": {
          "base_uri": "https://localhost:8080/",
          "height": 473
        },
        "id": "KxGh35KKAKPe",
        "outputId": "6b057b9a-6b7f-4d09-a322-0eb451719283"
      },
      "source": [
        "data_train_new\n"
      ],
      "execution_count": null,
      "outputs": [
        {
          "output_type": "execute_result",
          "data": {
            "text/html": [
              "<div>\n",
              "<style scoped>\n",
              "    .dataframe tbody tr th:only-of-type {\n",
              "        vertical-align: middle;\n",
              "    }\n",
              "\n",
              "    .dataframe tbody tr th {\n",
              "        vertical-align: top;\n",
              "    }\n",
              "\n",
              "    .dataframe thead th {\n",
              "        text-align: right;\n",
              "    }\n",
              "</style>\n",
              "<table border=\"1\" class=\"dataframe\">\n",
              "  <thead>\n",
              "    <tr style=\"text-align: right;\">\n",
              "      <th></th>\n",
              "      <th>age</th>\n",
              "      <th>workclass</th>\n",
              "      <th>fnlwgt</th>\n",
              "      <th>education</th>\n",
              "      <th>education-num</th>\n",
              "      <th>marital-status</th>\n",
              "      <th>occupation</th>\n",
              "      <th>relationship</th>\n",
              "      <th>race</th>\n",
              "      <th>sex</th>\n",
              "      <th>capital-gain</th>\n",
              "      <th>capital-loss</th>\n",
              "      <th>hours-per-week</th>\n",
              "      <th>native-country</th>\n",
              "      <th>class</th>\n",
              "    </tr>\n",
              "  </thead>\n",
              "  <tbody>\n",
              "    <tr>\n",
              "      <th>0</th>\n",
              "      <td>22</td>\n",
              "      <td>5</td>\n",
              "      <td>2491</td>\n",
              "      <td>9</td>\n",
              "      <td>12</td>\n",
              "      <td>4</td>\n",
              "      <td>0</td>\n",
              "      <td>1</td>\n",
              "      <td>4</td>\n",
              "      <td>1</td>\n",
              "      <td>24</td>\n",
              "      <td>0</td>\n",
              "      <td>39</td>\n",
              "      <td>38</td>\n",
              "      <td>0</td>\n",
              "    </tr>\n",
              "    <tr>\n",
              "      <th>1</th>\n",
              "      <td>33</td>\n",
              "      <td>4</td>\n",
              "      <td>2727</td>\n",
              "      <td>9</td>\n",
              "      <td>12</td>\n",
              "      <td>2</td>\n",
              "      <td>3</td>\n",
              "      <td>0</td>\n",
              "      <td>4</td>\n",
              "      <td>1</td>\n",
              "      <td>0</td>\n",
              "      <td>0</td>\n",
              "      <td>12</td>\n",
              "      <td>38</td>\n",
              "      <td>0</td>\n",
              "    </tr>\n",
              "    <tr>\n",
              "      <th>2</th>\n",
              "      <td>21</td>\n",
              "      <td>2</td>\n",
              "      <td>13188</td>\n",
              "      <td>11</td>\n",
              "      <td>8</td>\n",
              "      <td>0</td>\n",
              "      <td>5</td>\n",
              "      <td>1</td>\n",
              "      <td>4</td>\n",
              "      <td>1</td>\n",
              "      <td>0</td>\n",
              "      <td>0</td>\n",
              "      <td>39</td>\n",
              "      <td>38</td>\n",
              "      <td>0</td>\n",
              "    </tr>\n",
              "    <tr>\n",
              "      <th>3</th>\n",
              "      <td>36</td>\n",
              "      <td>2</td>\n",
              "      <td>14354</td>\n",
              "      <td>1</td>\n",
              "      <td>6</td>\n",
              "      <td>2</td>\n",
              "      <td>5</td>\n",
              "      <td>0</td>\n",
              "      <td>2</td>\n",
              "      <td>1</td>\n",
              "      <td>0</td>\n",
              "      <td>0</td>\n",
              "      <td>39</td>\n",
              "      <td>38</td>\n",
              "      <td>0</td>\n",
              "    </tr>\n",
              "    <tr>\n",
              "      <th>4</th>\n",
              "      <td>11</td>\n",
              "      <td>2</td>\n",
              "      <td>18120</td>\n",
              "      <td>9</td>\n",
              "      <td>12</td>\n",
              "      <td>2</td>\n",
              "      <td>9</td>\n",
              "      <td>5</td>\n",
              "      <td>2</td>\n",
              "      <td>0</td>\n",
              "      <td>0</td>\n",
              "      <td>0</td>\n",
              "      <td>39</td>\n",
              "      <td>4</td>\n",
              "      <td>0</td>\n",
              "    </tr>\n",
              "    <tr>\n",
              "      <th>...</th>\n",
              "      <td>...</td>\n",
              "      <td>...</td>\n",
              "      <td>...</td>\n",
              "      <td>...</td>\n",
              "      <td>...</td>\n",
              "      <td>...</td>\n",
              "      <td>...</td>\n",
              "      <td>...</td>\n",
              "      <td>...</td>\n",
              "      <td>...</td>\n",
              "      <td>...</td>\n",
              "      <td>...</td>\n",
              "      <td>...</td>\n",
              "      <td>...</td>\n",
              "      <td>...</td>\n",
              "    </tr>\n",
              "    <tr>\n",
              "      <th>32556</th>\n",
              "      <td>10</td>\n",
              "      <td>2</td>\n",
              "      <td>15471</td>\n",
              "      <td>7</td>\n",
              "      <td>11</td>\n",
              "      <td>2</td>\n",
              "      <td>12</td>\n",
              "      <td>5</td>\n",
              "      <td>4</td>\n",
              "      <td>0</td>\n",
              "      <td>0</td>\n",
              "      <td>0</td>\n",
              "      <td>37</td>\n",
              "      <td>38</td>\n",
              "      <td>0</td>\n",
              "    </tr>\n",
              "    <tr>\n",
              "      <th>32557</th>\n",
              "      <td>23</td>\n",
              "      <td>2</td>\n",
              "      <td>7555</td>\n",
              "      <td>11</td>\n",
              "      <td>8</td>\n",
              "      <td>2</td>\n",
              "      <td>6</td>\n",
              "      <td>0</td>\n",
              "      <td>4</td>\n",
              "      <td>1</td>\n",
              "      <td>0</td>\n",
              "      <td>0</td>\n",
              "      <td>39</td>\n",
              "      <td>38</td>\n",
              "      <td>1</td>\n",
              "    </tr>\n",
              "    <tr>\n",
              "      <th>32558</th>\n",
              "      <td>41</td>\n",
              "      <td>2</td>\n",
              "      <td>7377</td>\n",
              "      <td>11</td>\n",
              "      <td>8</td>\n",
              "      <td>6</td>\n",
              "      <td>0</td>\n",
              "      <td>4</td>\n",
              "      <td>4</td>\n",
              "      <td>0</td>\n",
              "      <td>0</td>\n",
              "      <td>0</td>\n",
              "      <td>39</td>\n",
              "      <td>38</td>\n",
              "      <td>0</td>\n",
              "    </tr>\n",
              "    <tr>\n",
              "      <th>32559</th>\n",
              "      <td>5</td>\n",
              "      <td>2</td>\n",
              "      <td>12060</td>\n",
              "      <td>11</td>\n",
              "      <td>8</td>\n",
              "      <td>4</td>\n",
              "      <td>0</td>\n",
              "      <td>3</td>\n",
              "      <td>4</td>\n",
              "      <td>1</td>\n",
              "      <td>0</td>\n",
              "      <td>0</td>\n",
              "      <td>19</td>\n",
              "      <td>38</td>\n",
              "      <td>0</td>\n",
              "    </tr>\n",
              "    <tr>\n",
              "      <th>32560</th>\n",
              "      <td>35</td>\n",
              "      <td>3</td>\n",
              "      <td>16689</td>\n",
              "      <td>11</td>\n",
              "      <td>8</td>\n",
              "      <td>2</td>\n",
              "      <td>3</td>\n",
              "      <td>5</td>\n",
              "      <td>4</td>\n",
              "      <td>0</td>\n",
              "      <td>107</td>\n",
              "      <td>0</td>\n",
              "      <td>39</td>\n",
              "      <td>38</td>\n",
              "      <td>1</td>\n",
              "    </tr>\n",
              "  </tbody>\n",
              "</table>\n",
              "<p>30162 rows × 15 columns</p>\n",
              "</div>"
            ],
            "text/plain": [
              "       age  workclass  fnlwgt  ...  hours-per-week  native-country  class\n",
              "0       22          5    2491  ...              39              38      0\n",
              "1       33          4    2727  ...              12              38      0\n",
              "2       21          2   13188  ...              39              38      0\n",
              "3       36          2   14354  ...              39              38      0\n",
              "4       11          2   18120  ...              39               4      0\n",
              "...    ...        ...     ...  ...             ...             ...    ...\n",
              "32556   10          2   15471  ...              37              38      0\n",
              "32557   23          2    7555  ...              39              38      1\n",
              "32558   41          2    7377  ...              39              38      0\n",
              "32559    5          2   12060  ...              19              38      0\n",
              "32560   35          3   16689  ...              39              38      1\n",
              "\n",
              "[30162 rows x 15 columns]"
            ]
          },
          "metadata": {
            "tags": []
          },
          "execution_count": 25
        }
      ]
    },
    {
      "cell_type": "code",
      "metadata": {
        "id": "ZY84JiCFTr7F"
      },
      "source": [
        "# Using Lable Encoder on train data to convert the Categorical data into Numerical data\n",
        "data_test_new = data_test.apply(LabelEncoder().fit_transform)"
      ],
      "execution_count": null,
      "outputs": []
    },
    {
      "cell_type": "code",
      "metadata": {
        "colab": {
          "base_uri": "https://localhost:8080/",
          "height": 473
        },
        "id": "dYCHC5mHTyAN",
        "outputId": "8c87a5da-5290-4bdb-f1eb-9b4fd7ef4176"
      },
      "source": [
        "data_test_new"
      ],
      "execution_count": null,
      "outputs": [
        {
          "output_type": "execute_result",
          "data": {
            "text/html": [
              "<div>\n",
              "<style scoped>\n",
              "    .dataframe tbody tr th:only-of-type {\n",
              "        vertical-align: middle;\n",
              "    }\n",
              "\n",
              "    .dataframe tbody tr th {\n",
              "        vertical-align: top;\n",
              "    }\n",
              "\n",
              "    .dataframe thead th {\n",
              "        text-align: right;\n",
              "    }\n",
              "</style>\n",
              "<table border=\"1\" class=\"dataframe\">\n",
              "  <thead>\n",
              "    <tr style=\"text-align: right;\">\n",
              "      <th></th>\n",
              "      <th>age</th>\n",
              "      <th>workclass</th>\n",
              "      <th>fnlwgt</th>\n",
              "      <th>education</th>\n",
              "      <th>education-num</th>\n",
              "      <th>marital-status</th>\n",
              "      <th>occupation</th>\n",
              "      <th>relationship</th>\n",
              "      <th>race</th>\n",
              "      <th>sex</th>\n",
              "      <th>capital-gain</th>\n",
              "      <th>capital-loss</th>\n",
              "      <th>hours-per-week</th>\n",
              "      <th>native-country</th>\n",
              "      <th>class</th>\n",
              "    </tr>\n",
              "  </thead>\n",
              "  <tbody>\n",
              "    <tr>\n",
              "      <th>1</th>\n",
              "      <td>8</td>\n",
              "      <td>2</td>\n",
              "      <td>8315</td>\n",
              "      <td>1</td>\n",
              "      <td>6</td>\n",
              "      <td>4</td>\n",
              "      <td>6</td>\n",
              "      <td>3</td>\n",
              "      <td>2</td>\n",
              "      <td>1</td>\n",
              "      <td>0</td>\n",
              "      <td>0</td>\n",
              "      <td>39</td>\n",
              "      <td>37</td>\n",
              "      <td>0</td>\n",
              "    </tr>\n",
              "    <tr>\n",
              "      <th>2</th>\n",
              "      <td>21</td>\n",
              "      <td>2</td>\n",
              "      <td>1754</td>\n",
              "      <td>11</td>\n",
              "      <td>8</td>\n",
              "      <td>2</td>\n",
              "      <td>4</td>\n",
              "      <td>0</td>\n",
              "      <td>4</td>\n",
              "      <td>1</td>\n",
              "      <td>0</td>\n",
              "      <td>0</td>\n",
              "      <td>49</td>\n",
              "      <td>37</td>\n",
              "      <td>0</td>\n",
              "    </tr>\n",
              "    <tr>\n",
              "      <th>3</th>\n",
              "      <td>11</td>\n",
              "      <td>1</td>\n",
              "      <td>10750</td>\n",
              "      <td>7</td>\n",
              "      <td>11</td>\n",
              "      <td>2</td>\n",
              "      <td>10</td>\n",
              "      <td>0</td>\n",
              "      <td>4</td>\n",
              "      <td>1</td>\n",
              "      <td>0</td>\n",
              "      <td>0</td>\n",
              "      <td>39</td>\n",
              "      <td>37</td>\n",
              "      <td>1</td>\n",
              "    </tr>\n",
              "    <tr>\n",
              "      <th>4</th>\n",
              "      <td>27</td>\n",
              "      <td>2</td>\n",
              "      <td>4780</td>\n",
              "      <td>15</td>\n",
              "      <td>9</td>\n",
              "      <td>2</td>\n",
              "      <td>6</td>\n",
              "      <td>0</td>\n",
              "      <td>2</td>\n",
              "      <td>1</td>\n",
              "      <td>87</td>\n",
              "      <td>0</td>\n",
              "      <td>39</td>\n",
              "      <td>37</td>\n",
              "      <td>1</td>\n",
              "    </tr>\n",
              "    <tr>\n",
              "      <th>6</th>\n",
              "      <td>17</td>\n",
              "      <td>2</td>\n",
              "      <td>7091</td>\n",
              "      <td>0</td>\n",
              "      <td>5</td>\n",
              "      <td>4</td>\n",
              "      <td>7</td>\n",
              "      <td>1</td>\n",
              "      <td>4</td>\n",
              "      <td>1</td>\n",
              "      <td>0</td>\n",
              "      <td>0</td>\n",
              "      <td>29</td>\n",
              "      <td>37</td>\n",
              "      <td>0</td>\n",
              "    </tr>\n",
              "    <tr>\n",
              "      <th>...</th>\n",
              "      <td>...</td>\n",
              "      <td>...</td>\n",
              "      <td>...</td>\n",
              "      <td>...</td>\n",
              "      <td>...</td>\n",
              "      <td>...</td>\n",
              "      <td>...</td>\n",
              "      <td>...</td>\n",
              "      <td>...</td>\n",
              "      <td>...</td>\n",
              "      <td>...</td>\n",
              "      <td>...</td>\n",
              "      <td>...</td>\n",
              "      <td>...</td>\n",
              "      <td>...</td>\n",
              "    </tr>\n",
              "    <tr>\n",
              "      <th>16276</th>\n",
              "      <td>16</td>\n",
              "      <td>2</td>\n",
              "      <td>8927</td>\n",
              "      <td>9</td>\n",
              "      <td>12</td>\n",
              "      <td>4</td>\n",
              "      <td>9</td>\n",
              "      <td>3</td>\n",
              "      <td>4</td>\n",
              "      <td>1</td>\n",
              "      <td>0</td>\n",
              "      <td>0</td>\n",
              "      <td>39</td>\n",
              "      <td>37</td>\n",
              "      <td>0</td>\n",
              "    </tr>\n",
              "    <tr>\n",
              "      <th>16277</th>\n",
              "      <td>22</td>\n",
              "      <td>2</td>\n",
              "      <td>7893</td>\n",
              "      <td>9</td>\n",
              "      <td>12</td>\n",
              "      <td>0</td>\n",
              "      <td>9</td>\n",
              "      <td>1</td>\n",
              "      <td>4</td>\n",
              "      <td>0</td>\n",
              "      <td>0</td>\n",
              "      <td>0</td>\n",
              "      <td>35</td>\n",
              "      <td>37</td>\n",
              "      <td>0</td>\n",
              "    </tr>\n",
              "    <tr>\n",
              "      <th>16279</th>\n",
              "      <td>21</td>\n",
              "      <td>2</td>\n",
              "      <td>11193</td>\n",
              "      <td>9</td>\n",
              "      <td>12</td>\n",
              "      <td>2</td>\n",
              "      <td>9</td>\n",
              "      <td>0</td>\n",
              "      <td>4</td>\n",
              "      <td>1</td>\n",
              "      <td>0</td>\n",
              "      <td>0</td>\n",
              "      <td>49</td>\n",
              "      <td>37</td>\n",
              "      <td>0</td>\n",
              "    </tr>\n",
              "    <tr>\n",
              "      <th>16280</th>\n",
              "      <td>27</td>\n",
              "      <td>2</td>\n",
              "      <td>1593</td>\n",
              "      <td>9</td>\n",
              "      <td>12</td>\n",
              "      <td>0</td>\n",
              "      <td>0</td>\n",
              "      <td>3</td>\n",
              "      <td>1</td>\n",
              "      <td>1</td>\n",
              "      <td>73</td>\n",
              "      <td>0</td>\n",
              "      <td>39</td>\n",
              "      <td>37</td>\n",
              "      <td>0</td>\n",
              "    </tr>\n",
              "    <tr>\n",
              "      <th>16281</th>\n",
              "      <td>18</td>\n",
              "      <td>3</td>\n",
              "      <td>6062</td>\n",
              "      <td>9</td>\n",
              "      <td>12</td>\n",
              "      <td>2</td>\n",
              "      <td>3</td>\n",
              "      <td>0</td>\n",
              "      <td>4</td>\n",
              "      <td>1</td>\n",
              "      <td>0</td>\n",
              "      <td>0</td>\n",
              "      <td>59</td>\n",
              "      <td>37</td>\n",
              "      <td>1</td>\n",
              "    </tr>\n",
              "  </tbody>\n",
              "</table>\n",
              "<p>15060 rows × 15 columns</p>\n",
              "</div>"
            ],
            "text/plain": [
              "       age  workclass  fnlwgt  ...  hours-per-week  native-country  class\n",
              "1        8          2    8315  ...              39              37      0\n",
              "2       21          2    1754  ...              49              37      0\n",
              "3       11          1   10750  ...              39              37      1\n",
              "4       27          2    4780  ...              39              37      1\n",
              "6       17          2    7091  ...              29              37      0\n",
              "...    ...        ...     ...  ...             ...             ...    ...\n",
              "16276   16          2    8927  ...              39              37      0\n",
              "16277   22          2    7893  ...              35              37      0\n",
              "16279   21          2   11193  ...              49              37      0\n",
              "16280   27          2    1593  ...              39              37      0\n",
              "16281   18          3    6062  ...              59              37      1\n",
              "\n",
              "[15060 rows x 15 columns]"
            ]
          },
          "metadata": {
            "tags": []
          },
          "execution_count": 27
        }
      ]
    },
    {
      "cell_type": "markdown",
      "metadata": {
        "id": "lCpMyMWRT-r7"
      },
      "source": [
        "#Splitting train data into array and using MinMaxScaler to scale the data\n",
        " & \n",
        "Splitting test data into array and using MinMaxScaler to scale the data"
      ]
    },
    {
      "cell_type": "code",
      "metadata": {
        "id": "ugv3BRf4CN5c"
      },
      "source": [
        "# Training data \n",
        "from pandas import read_csv\n",
        "from numpy import set_printoptions\n",
        "from sklearn.preprocessing import MinMaxScaler\n",
        "array = data_train_new.values\n",
        "# Seperate array into input and output\n",
        "X = array[:, 0:14]\n",
        "Y = array[:, 14]\n",
        "scaler = MinMaxScaler(feature_range=(0, 1))\n",
        "rX = scaler.fit_transform(X)\n"
      ],
      "execution_count": null,
      "outputs": []
    },
    {
      "cell_type": "code",
      "metadata": {
        "id": "HXfV2qFtUY-q"
      },
      "source": [
        "# FOR Test data\n",
        "array = data_test_new.values\n",
        "# Seperate array into input and output\n",
        "X_t = array[:, 0:14]\n",
        "Y_t = array[:, 14]\n",
        "scaler = MinMaxScaler(feature_range=(0, 1))\n",
        "rX_t = scaler.fit_transform(X_t)"
      ],
      "execution_count": null,
      "outputs": []
    },
    {
      "cell_type": "markdown",
      "metadata": {
        "id": "BztbWFaBXcaH"
      },
      "source": [
        "# Feature Selection (Filter, Wrapper & Embedded)"
      ]
    },
    {
      "cell_type": "markdown",
      "metadata": {
        "id": "A3d04GDPWcbv"
      },
      "source": [
        "##Filter Method - SelectKBest"
      ]
    },
    {
      "cell_type": "code",
      "metadata": {
        "id": "oNMMOjJLIHR5"
      },
      "source": [
        "from sklearn.feature_selection import SelectKBest\n",
        "from sklearn.feature_selection import chi2\n",
        "# feature extraction\n",
        "#Select k best on train set \n",
        "selectModel = SelectKBest(score_func=chi2, k=9)\n",
        "kBesttrain = selectModel.fit(rX,Y)\n",
        "selectTrainFeatures = kBesttrain.transform(rX)"
      ],
      "execution_count": null,
      "outputs": []
    },
    {
      "cell_type": "code",
      "metadata": {
        "colab": {
          "base_uri": "https://localhost:8080/"
        },
        "id": "2NKHtafhV7Lx",
        "outputId": "39e3ba2b-22ee-4be9-9d1d-02ef5528a638"
      },
      "source": [
        "selectTrainFeatures.shape"
      ],
      "execution_count": null,
      "outputs": [
        {
          "output_type": "execute_result",
          "data": {
            "text/plain": [
              "(30162, 9)"
            ]
          },
          "metadata": {
            "tags": []
          },
          "execution_count": 36
        }
      ]
    },
    {
      "cell_type": "code",
      "metadata": {
        "id": "Wwk81Ua6VlLJ"
      },
      "source": [
        "#Select k best on test set \n",
        "kBesttest = selectModel.fit(rX_t,Y_t)\n",
        "selectTestFeatures = kBesttest.transform(rX_t)"
      ],
      "execution_count": null,
      "outputs": []
    },
    {
      "cell_type": "code",
      "metadata": {
        "colab": {
          "base_uri": "https://localhost:8080/"
        },
        "id": "c2GU_XTgWAaD",
        "outputId": "ec1113ea-eac4-47eb-c671-9cabb4daa370"
      },
      "source": [
        "selectTestFeatures.shape"
      ],
      "execution_count": null,
      "outputs": [
        {
          "output_type": "execute_result",
          "data": {
            "text/plain": [
              "(15060, 9)"
            ]
          },
          "metadata": {
            "tags": []
          },
          "execution_count": 100
        }
      ]
    },
    {
      "cell_type": "markdown",
      "metadata": {
        "id": "q6hfGgKqV3Qo"
      },
      "source": [
        "##Wrapper Method - Recurssive Feature Elemination (RFE)"
      ]
    },
    {
      "cell_type": "code",
      "metadata": {
        "id": "1yoDwiszXBmJ"
      },
      "source": [
        "#RFE on train set\n",
        "model_rfe = LogisticRegression(solver='liblinear') \n",
        "rfeModel = RFE(model_rfe, 9) \n",
        "rfeTrain = rfeModel.fit(rX,Y)\n",
        "rfeTrainFeatures = rfeTrain.transform(rX)"
      ],
      "execution_count": null,
      "outputs": []
    },
    {
      "cell_type": "code",
      "metadata": {
        "colab": {
          "base_uri": "https://localhost:8080/"
        },
        "id": "vS9r8X4RXQ_m",
        "outputId": "6cd5b995-798d-4c8c-913d-5ac240e2b21f"
      },
      "source": [
        "rfeTrainFeatures.shape"
      ],
      "execution_count": null,
      "outputs": [
        {
          "output_type": "execute_result",
          "data": {
            "text/plain": [
              "(30162, 9)"
            ]
          },
          "metadata": {
            "tags": []
          },
          "execution_count": 40
        }
      ]
    },
    {
      "cell_type": "code",
      "metadata": {
        "id": "d6I0_fbPXZGT"
      },
      "source": [
        "#RFE on test set\n",
        "rfeTest = rfeModel.fit(rX_t,Y_t)\n",
        "rfeTestFeatures = rfeTest.transform(rX_t)"
      ],
      "execution_count": null,
      "outputs": []
    },
    {
      "cell_type": "code",
      "metadata": {
        "colab": {
          "base_uri": "https://localhost:8080/"
        },
        "id": "SNf3NitLXlUX",
        "outputId": "07e0c2a1-6f8e-4149-8890-24b6a4682079"
      },
      "source": [
        "rfeTestFeatures.shape"
      ],
      "execution_count": null,
      "outputs": [
        {
          "output_type": "execute_result",
          "data": {
            "text/plain": [
              "(15060, 9)"
            ]
          },
          "metadata": {
            "tags": []
          },
          "execution_count": 102
        }
      ]
    },
    {
      "cell_type": "markdown",
      "metadata": {
        "id": "BfcTjYEXYpkL"
      },
      "source": [
        "##Embedded method - using ExtraTreesClassifier"
      ]
    },
    {
      "cell_type": "code",
      "metadata": {
        "id": "MiG2SdaVYuHn"
      },
      "source": [
        "#ExtraTree on train set\n",
        "extraTreeModel = ExtraTreesClassifier(n_estimators=9)\n",
        "exTreeTrain = extraTreeModel.fit(rX, Y)\n",
        "clf_model = SelectFromModel(exTreeTrain, prefit=True)\n",
        "exTreeTrainFeatures = clf_model.transform(rX)"
      ],
      "execution_count": null,
      "outputs": []
    },
    {
      "cell_type": "code",
      "metadata": {
        "colab": {
          "base_uri": "https://localhost:8080/"
        },
        "id": "mO1R9zvBY_oL",
        "outputId": "72247445-283a-4999-e3a8-104405979724"
      },
      "source": [
        "exTreeTrainFeatures.shape"
      ],
      "execution_count": null,
      "outputs": [
        {
          "output_type": "execute_result",
          "data": {
            "text/plain": [
              "(30162, 7)"
            ]
          },
          "metadata": {
            "tags": []
          },
          "execution_count": 44
        }
      ]
    },
    {
      "cell_type": "code",
      "metadata": {
        "id": "DmMMnbNRj1P0"
      },
      "source": [
        ""
      ],
      "execution_count": null,
      "outputs": []
    },
    {
      "cell_type": "code",
      "metadata": {
        "id": "TcQSTfe9Zgv2"
      },
      "source": [
        "#ExtraTree on test set\n",
        "exTreeTest = extraTreeModel.fit(rX_t, Y_t)\n",
        "clf_modeltest = SelectFromModel(exTreeTest, prefit=True)\n",
        "exTreeTestFeatures = clf_modeltest.transform(rX_t)"
      ],
      "execution_count": null,
      "outputs": []
    },
    {
      "cell_type": "code",
      "metadata": {
        "colab": {
          "base_uri": "https://localhost:8080/"
        },
        "id": "UcVknE8lZnM8",
        "outputId": "cc4c9302-bcbf-494f-d734-7e1362d543d3"
      },
      "source": [
        "exTreeTestFeatures.shape"
      ],
      "execution_count": null,
      "outputs": [
        {
          "output_type": "execute_result",
          "data": {
            "text/plain": [
              "(15060, 7)"
            ]
          },
          "metadata": {
            "tags": []
          },
          "execution_count": 104
        }
      ]
    },
    {
      "cell_type": "markdown",
      "metadata": {
        "id": "RqJOAa6HX2Eg"
      },
      "source": [
        "#Feature Elemination "
      ]
    },
    {
      "cell_type": "markdown",
      "metadata": {
        "id": "-mLow_knXrZ6"
      },
      "source": [
        "##Principal component Analysis (PCA) from the output of Filter (SelectKBest), Wrapper (RFE) & Embedded (ExtraTreesClassifier)"
      ]
    },
    {
      "cell_type": "markdown",
      "metadata": {
        "id": "nYdy-1RfcfS_"
      },
      "source": [
        "###PCA -Filter"
      ]
    },
    {
      "cell_type": "code",
      "metadata": {
        "id": "3IBh5Rk9Zy19"
      },
      "source": [
        "##Principal component Analysis (PCA) from the output of Filter (SelectKBest)\n",
        "pca = PCA(n_components=5, random_state = 7) \n",
        "fit_pca_train = pca.fit(selectTrainFeatures) \n",
        "pca_filter_train_features = fit_pca_train.transform(selectTrainFeatures)"
      ],
      "execution_count": null,
      "outputs": []
    },
    {
      "cell_type": "code",
      "metadata": {
        "id": "GKAbaXFra-uF"
      },
      "source": [
        "## On selected test feature dataset for PCA # \n",
        "fit_pca_test = pca.fit(selectTestFeatures) \n",
        "pca_filter_test_features = fit_pca_test.transform(selectTestFeatures)"
      ],
      "execution_count": null,
      "outputs": []
    },
    {
      "cell_type": "code",
      "metadata": {
        "colab": {
          "base_uri": "https://localhost:8080/"
        },
        "id": "JR3o0OkcbBCc",
        "outputId": "649f02f0-2e59-4172-cd2c-b2cbb97f4a80"
      },
      "source": [
        "pca_filter_train_features.shape"
      ],
      "execution_count": null,
      "outputs": [
        {
          "output_type": "execute_result",
          "data": {
            "text/plain": [
              "(30162, 5)"
            ]
          },
          "metadata": {
            "tags": []
          },
          "execution_count": 54
        }
      ]
    },
    {
      "cell_type": "code",
      "metadata": {
        "colab": {
          "base_uri": "https://localhost:8080/"
        },
        "id": "qcc8tv3tbIeB",
        "outputId": "58092506-950c-4248-f430-f0b3c2678a45"
      },
      "source": [
        "pca_filter_test_features.shape"
      ],
      "execution_count": null,
      "outputs": [
        {
          "output_type": "execute_result",
          "data": {
            "text/plain": [
              "(15060, 5)"
            ]
          },
          "metadata": {
            "tags": []
          },
          "execution_count": 106
        }
      ]
    },
    {
      "cell_type": "markdown",
      "metadata": {
        "id": "N8QR-XHOci66"
      },
      "source": [
        "###PCA -Wrapper"
      ]
    },
    {
      "cell_type": "code",
      "metadata": {
        "id": "5b7WyY-9bRSx"
      },
      "source": [
        "##Principal component Analysis (PCA) from the output of Wrapper (RFE) \n",
        "fit_pca_train = pca.fit(rfeTrainFeatures) \n",
        "pca_wrapper_train_features = fit_pca_train.transform(rfeTrainFeatures)\n",
        "fit_pca_test = pca.fit(rfeTestFeatures) \n",
        "pca_wrapper_test_features = fit_pca_test.transform(rfeTestFeatures)"
      ],
      "execution_count": null,
      "outputs": []
    },
    {
      "cell_type": "code",
      "metadata": {
        "colab": {
          "base_uri": "https://localhost:8080/"
        },
        "id": "WpH0xsO5cVBh",
        "outputId": "b6d58c9e-5833-49fe-e611-0f774b07248b"
      },
      "source": [
        "pca_wrapper_train_features.shape"
      ],
      "execution_count": null,
      "outputs": [
        {
          "output_type": "execute_result",
          "data": {
            "text/plain": [
              "(30162, 5)"
            ]
          },
          "metadata": {
            "tags": []
          },
          "execution_count": 57
        }
      ]
    },
    {
      "cell_type": "code",
      "metadata": {
        "colab": {
          "base_uri": "https://localhost:8080/"
        },
        "id": "4GdP3yLHcX_P",
        "outputId": "c138139e-4502-4b63-d302-3bf26d302ab6"
      },
      "source": [
        "pca_wrapper_test_features.shape"
      ],
      "execution_count": null,
      "outputs": [
        {
          "output_type": "execute_result",
          "data": {
            "text/plain": [
              "(15060, 5)"
            ]
          },
          "metadata": {
            "tags": []
          },
          "execution_count": 108
        }
      ]
    },
    {
      "cell_type": "markdown",
      "metadata": {
        "id": "2eaLw7jrcnre"
      },
      "source": [
        "###PCA - Embedded"
      ]
    },
    {
      "cell_type": "code",
      "metadata": {
        "id": "H2ca12Wecs-u"
      },
      "source": [
        "##Principal component Analysis (PCA) from the output of Wrapper (RFE) \n",
        "pca = PCA(n_components=5, random_state = 2) \n",
        "fit_pca_train = pca.fit(exTreeTrainFeatures) \n",
        "pca_embedded_train_features = fit_pca_train.transform(exTreeTrainFeatures)\n",
        "fit_pca_test = pca.fit(exTreeTestFeatures) \n",
        "pca_embedded_test_features = fit_pca_test.transform(exTreeTestFeatures)"
      ],
      "execution_count": null,
      "outputs": []
    },
    {
      "cell_type": "code",
      "metadata": {
        "colab": {
          "base_uri": "https://localhost:8080/"
        },
        "id": "hz1bwS2nft1O",
        "outputId": "c552a646-1aa9-4079-a204-19b23b57d980"
      },
      "source": [
        "pca_embedded_train_features.shape"
      ],
      "execution_count": null,
      "outputs": [
        {
          "output_type": "execute_result",
          "data": {
            "text/plain": [
              "(30162, 5)"
            ]
          },
          "metadata": {
            "tags": []
          },
          "execution_count": 66
        }
      ]
    },
    {
      "cell_type": "code",
      "metadata": {
        "colab": {
          "base_uri": "https://localhost:8080/"
        },
        "id": "jn7iv6c3fzyC",
        "outputId": "7150dfda-9e21-4473-867f-6d07255f4dfe"
      },
      "source": [
        "pca_embedded_test_features.shape"
      ],
      "execution_count": null,
      "outputs": [
        {
          "output_type": "execute_result",
          "data": {
            "text/plain": [
              "(15060, 5)"
            ]
          },
          "metadata": {
            "tags": []
          },
          "execution_count": 110
        }
      ]
    },
    {
      "cell_type": "markdown",
      "metadata": {
        "id": "Wq0u5B0Xf4cl"
      },
      "source": [
        "#Using Neural Network Model on the PCA output"
      ]
    },
    {
      "cell_type": "markdown",
      "metadata": {
        "id": "RduO9SkThMjG"
      },
      "source": [
        "##Training with PCA - FILTER METHOD output \"pca_filter_train_features \" "
      ]
    },
    {
      "cell_type": "code",
      "metadata": {
        "colab": {
          "base_uri": "https://localhost:8080/"
        },
        "id": "EaLIsicrgCrN",
        "outputId": "df0a432c-7bda-4508-e14f-0108de2ec831"
      },
      "source": [
        "# Parameters Used\n",
        "optimizers = ['adam', 'rmsprop']\n",
        "inits = ['uniform', 'glorot_uniform'] \n",
        "epochs = [5, 7, 10]\n",
        "batches = [20, 30, 40]\n",
        "\n",
        "\n",
        "def create_model1(optimizer=optimizers, init=inits):\n",
        "  # create model\n",
        "  mlp_model = Sequential()\n",
        "  mlp_model.add(Dense(12, input_dim= 5, activation='relu')) \n",
        "  mlp_model.add(Dense(10, activation='relu')) \n",
        "  mlp_model.add(Dense(1, activation='sigmoid'))\n",
        "\n",
        "  # Compile model\n",
        "  mlp_model.compile(loss = tf.keras.losses.mean_squared_error, metrics=[\"accuracy\"])\n",
        "  return mlp_model\n",
        "\n",
        "# create model\n",
        "model_keras = KerasClassifier(build_fn=create_model1, verbose=0)\n",
        "\n",
        "# grid search epochs, batch size and optimizer\n",
        "param_grid = dict(optimizer= optimizers, epochs=epochs, batch_size=batches, init=inits) \n",
        "grid = GridSearchCV(estimator=model_keras, param_grid=param_grid)\n",
        "grid_result = grid.fit(pca_filter_train_features, Y)\n",
        "\n",
        "# summarize results\n",
        "print(\"Best: %f using %s\" % (grid_result.best_score_, grid_result.best_params_)) "
      ],
      "execution_count": null,
      "outputs": [
        {
          "output_type": "stream",
          "text": [
            "Best: 0.831212 using {'batch_size': 20, 'epochs': 10, 'init': 'uniform', 'optimizer': 'rmsprop'}\n"
          ],
          "name": "stdout"
        }
      ]
    },
    {
      "cell_type": "markdown",
      "metadata": {
        "id": "1rc-EAeRhqws"
      },
      "source": [
        "##Training with PCA - WRPPER METHOD output \"pca_wrapper_filter_features\"\n",
        "\n"
      ]
    },
    {
      "cell_type": "code",
      "metadata": {
        "colab": {
          "base_uri": "https://localhost:8080/"
        },
        "id": "muyaJG7MiBvN",
        "outputId": "9ef2fe0c-5179-457e-8e5f-cadcc01f60c0"
      },
      "source": [
        "# Parameters Used\n",
        "optimizers = ['adam', 'rmsprop']\n",
        "inits = ['uniform', 'glorot_uniform'] \n",
        "epochs = [5, 7, 10]\n",
        "batches = [20, 30, 40]\n",
        "\n",
        "def create_model2(optimizer=optimizers, init=inits):\n",
        "  # create model\n",
        "  mlp_model = Sequential()\n",
        "  mlp_model.add(Dense(12, input_dim= 5, activation='relu')) \n",
        "  mlp_model.add(Dense(10, activation='relu')) \n",
        "  mlp_model.add(Dense(1, activation='sigmoid'))\n",
        "\n",
        "  # Compile model\n",
        "  mlp_model.compile(loss = tf.keras.losses.mean_squared_error, metrics=[\"accuracy\"])\n",
        "  return mlp_model\n",
        "\n",
        "# create model\n",
        "model_keras = KerasClassifier(build_fn=create_model2, verbose=0)\n",
        "\n",
        "# grid search epochs, batch size and optimizer\n",
        "param_grid = dict(optimizer= optimizers, epochs=epochs, batch_size=batches, init=inits) \n",
        "grid = GridSearchCV(estimator=model_keras, param_grid=param_grid)\n",
        "grid_result = grid.fit(pca_wrapper_train_features, Y)\n",
        "\n",
        "# summarize results\n",
        "print(\"Best: %f using %s\" % (grid_result.best_score_, grid_result.best_params_)) "
      ],
      "execution_count": null,
      "outputs": [
        {
          "output_type": "stream",
          "text": [
            "Best: 0.838704 using {'batch_size': 20, 'epochs': 10, 'init': 'uniform', 'optimizer': 'adam'}\n"
          ],
          "name": "stdout"
        }
      ]
    },
    {
      "cell_type": "markdown",
      "metadata": {
        "id": "jK1C3kI8ZCZ7"
      },
      "source": [
        "##Training with PCA - EMBEDDED METHOD output \"pca_embedded_train_features\""
      ]
    },
    {
      "cell_type": "code",
      "metadata": {
        "colab": {
          "base_uri": "https://localhost:8080/"
        },
        "id": "Zf6q3KamZRHr",
        "outputId": "7cc229f9-916e-46d5-b463-8b5bceebebfb"
      },
      "source": [
        "# Parameters Used\n",
        "optimizers = ['adam', 'rmsprop']\n",
        "inits = ['uniform', 'glorot_uniform'] \n",
        "epochs = [5, 7, 10]\n",
        "batches = [20, 30, 40]\n",
        "\n",
        "def create_model3(optimizer=optimizers, init=inits):\n",
        "  # create model\n",
        "  mlp_model = Sequential()\n",
        "  mlp_model.add(Dense(12, input_dim= 5, activation='relu')) \n",
        "  mlp_model.add(Dense(10, activation='relu')) \n",
        "  mlp_model.add(Dense(1, activation='sigmoid'))\n",
        "\n",
        "  # Compile model\n",
        "  mlp_model.compile(loss = tf.keras.losses.mean_squared_error, metrics=[\"accuracy\"])\n",
        "  return mlp_model\n",
        "\n",
        "# create model\n",
        "model_keras = KerasClassifier(build_fn=create_model3, verbose=0)\n",
        "\n",
        "# grid search epochs, batch size and optimizer\n",
        "param_grid = dict(optimizer= optimizers, epochs=epochs, batch_size=batches, init=inits) \n",
        "grid = GridSearchCV(estimator=model_keras, param_grid=param_grid)\n",
        "grid_result = grid.fit(pca_embedded_train_features, Y)\n",
        "\n",
        "# summarize results\n",
        "print(\"Best: %f using %s\" % (grid_result.best_score_, grid_result.best_params_)) "
      ],
      "execution_count": null,
      "outputs": [
        {
          "output_type": "stream",
          "text": [
            "Best: 0.832240 using {'batch_size': 20, 'epochs': 10, 'init': 'glorot_uniform', 'optimizer': 'adam'}\n"
          ],
          "name": "stdout"
        }
      ]
    },
    {
      "cell_type": "markdown",
      "metadata": {
        "id": "lFndcobgUkxa"
      },
      "source": [
        "#Creating WAME algorithm  with changing Learning Rate  so we create WAME1, WAME2, WAME3, WAME4 "
      ]
    },
    {
      "cell_type": "markdown",
      "metadata": {
        "id": "QiLiB_iPfyiU"
      },
      "source": [
        "##WAME 1"
      ]
    },
    {
      "cell_type": "code",
      "metadata": {
        "id": "Q4aVWA6eUjGC"
      },
      "source": [
        "class WAME1(Optimizer):\n",
        " # Using Learning rate, alpha, epsilon, decay, eta+, eta-, zeta (min), zeat(max), zeta, eta\n",
        "   def __init__(self, learning_rate=0.001, alpha = 0.9,\n",
        "                epsilon=1e-11, decay=0., eta_plus = 1.2, eta_minus = 0.1,\n",
        "                zeta_min=1e-2, zeta_max=1e2, zeta = 0, eta = 0,\n",
        "                **kwargs):\n",
        "      \n",
        "       super(WAME1, self).__init__(**kwargs) # This function call the init to read and assign the values \n",
        "       self.__dict__.update(locals())\n",
        "       self.iterations = K.variable(0)\n",
        "       self.learning_rate = K.variable(learning_rate)\n",
        "       self.alpha = K.variable(alpha)\n",
        "       self.zeta = K.variable(zeta)\n",
        "       self.decay = K.variable(decay)\n",
        "       self.eta_plus = K.variable(eta_plus)\n",
        "       self.eta_minus = K.variable(eta_minus)\n",
        "       self.eta_min = eta_min\n",
        "       self.eta_max = eta_max\n",
        "       self.inital_decay = decay\n",
        "   \n",
        "   def get_updates(self, params, loss): # This function has all steps from  4 and 12 mentioned in the Mosca [1] paper and it denotes the for loop in the paper\n",
        " \n",
        "       grads = self.get_gradients(loss, params)\n",
        "       self.updates = [K.update_add(self.iterations, 1)]\n",
        "       # This defines the step 4 of the algorithm\n",
        "       lr = self.learning_rate\n",
        "       if self.inital_decay > 0:\n",
        "           lr *= (1. / (1. + self.decay * self.iterations))\n",
        " \n",
        "       t = self.iterations + 1\n",
        " # Here we can see the weights are initilised with the backend function of keras to define the layers\n",
        "       shapes = [K.int_shape(p) for p in params]\n",
        "       prev_grads = [K.zeros(shape) for shape in shapes]\n",
        "       prev_param = [K.zeros(shape) for shape in shapes]\n",
        "       ms = [K.zeros(shape) for shape in shapes]\n",
        "       vs = [K.zeros(shape) for shape in shapes]\n",
        "       accs = [K.ones(shape) for shape in shapes]\n",
        "       acc_ms = [K.ones(shape) for shape in shapes]\n",
        "       acc_vs = [K.ones(shape) for shape in shapes]\n",
        "       self.weights = [self.iterations] + ms + vs\n",
        " \n",
        "       for p, g, m, v, a, am, av, pg, pp in zip(params, grads, ms, vs, accs,\n",
        "               acc_ms, acc_vs, prev_grads, prev_param):\n",
        " \n",
        "           change = pg * g # This is the multiplication condition on line number 4 and 6 of the algorithm\n",
        "           change_below_zero = K.less(change,0.) # This is a if statement mentioned on line 4 of the algorithm\n",
        "           change_above_zero = K.greater(change,0.) # This is a if statement mentioned on line 6 of the algorithm\n",
        "           zeeta = K.switch( #Switch is used instead of if else statement and it is in a loop in loop configuration\n",
        "               change_below_zero, # This is the first looped statement (i.e. line 4 of algorithm)\n",
        "               a * self.eta_minus, # This is the  line 7 of algorithm\n",
        "               K.switch(change_above_zero,  # This is the  else line 4 if true (loop in loop statement)\n",
        "                        a * self.eta_plus, # This is the else statement in line 5\n",
        "                        a) \n",
        "             \n",
        "           )\n",
        "           a_clipped = K.clip(zeeta, self.eta_min, self.eta_max) #This statement denoted end of line 5 and 7 (min and max) of the algorithm\n",
        "           v_t = (self.alpha * v) + (1. - self.alpha) * K.square(g) #This statement denoted end of line 9 (the else condition) of the algorithm\n",
        "           am_t = (self.alpha * am) + (1. - self.alpha) * a_clipped #This statement denoted end of line 10 (the else condition) of the algorithm\n",
        "           a_rate = a_clipped / am_t #am_t == θij(t) # This statement denoted end of line 11 (the else condition) of the algorithm\n",
        "           p_t = p - lr * a_rate * g * (1/(K.sqrt(v_t + self.epsilon))) #This statement denoted end of line 12 (the else condition) of the algorithm\n",
        " \n",
        "           new_p = p_t\n",
        " # These statement updated the all the weights  and ready for use\n",
        "           self.updates.append(K.update(v, v_t))\n",
        "           self.updates.append(K.update(p, new_p))\n",
        "           self.updates.append(K.update(pg, p))\n",
        "           self.updates.append(K.update(a, zeeta))\n",
        "           self.updates.append(K.update(am, am_t))\n",
        "           self.updates.append(K.update(pp, p))\n",
        "       return self.updates\n",
        " \n",
        "   def get_config(self):\n",
        "       config = {'lr': float(K.get_value(self.lr)),\n",
        "                 'alpha': float(K.get_value(self.alpha)),\n",
        "                 'eta_plus': float(K.get_value(self.eta_plus)),\n",
        "                 'eta_minus': float(K.get_value(self.eta_minus)),\n",
        "                 'eta_min': float(self.eta_min),\n",
        "                 'eta_max': float(self.eta_max),\n",
        "                 'epsilon': self.epsilon}\n",
        "       base_config = super(WAME1, self).get_config()\n",
        "       return dict(list(base_config.items()) + list(config.items()))\n",
        " \n"
      ],
      "execution_count": null,
      "outputs": []
    },
    {
      "cell_type": "markdown",
      "metadata": {
        "id": "lwEvCLf-f3V1"
      },
      "source": [
        "##WAME 2"
      ]
    },
    {
      "cell_type": "code",
      "metadata": {
        "id": "woOJNepbeXOr"
      },
      "source": [
        "# For code nerration please refer to WAME1 above\n",
        "class WAME2(Optimizer):\n",
        " \n",
        "   def __init__(self, learning_rate=0.0001, alpha = 0.9,\n",
        "                epsilon=1e-11, decay=0., eta_plus = 1.2, eta_minus = 0.1,\n",
        "                zeta_min=1e-2, zeta_max=1e2, zeta = 0, eta = 0,\n",
        "                **kwargs):\n",
        "      \n",
        "       super(WAME2, self).__init__(**kwargs)\n",
        "       self.__dict__.update(locals())\n",
        "       self.iterations = K.variable(0)\n",
        "       self.learning_rate = K.variable(learning_rate)\n",
        "       self.alpha = K.variable(alpha)\n",
        "       self.zeta = K.variable(zeta)\n",
        "       self.decay = K.variable(decay)\n",
        "       self.eta_plus = K.variable(eta_plus)\n",
        "       self.eta_minus = K.variable(eta_minus)\n",
        "       self.eta_min = eta_min\n",
        "       self.eta_max = eta_max\n",
        "       self.inital_decay = decay\n",
        "   \n",
        "   def get_updates(self, params, loss): \n",
        " \n",
        "       grads = self.get_gradients(loss, params)\n",
        "       self.updates = [K.update_add(self.iterations, 1)]\n",
        "       \n",
        "       lr = self.learning_rate\n",
        "       if self.inital_decay > 0:\n",
        "           lr *= (1. / (1. + self.decay * self.iterations))\n",
        " \n",
        "       t = self.iterations + 1\n",
        " \n",
        "       shapes = [K.int_shape(p) for p in params]\n",
        "       prev_grads = [K.zeros(shape) for shape in shapes]\n",
        "       prev_param = [K.zeros(shape) for shape in shapes]\n",
        "       ms = [K.zeros(shape) for shape in shapes]\n",
        "       vs = [K.zeros(shape) for shape in shapes]\n",
        "       accs = [K.ones(shape) for shape in shapes]\n",
        "       acc_ms = [K.ones(shape) for shape in shapes]\n",
        "       acc_vs = [K.ones(shape) for shape in shapes]\n",
        "       self.weights = [self.iterations] + ms + vs\n",
        " \n",
        "       for p, g, m, v, a, am, av, pg, pp in zip(params, grads, ms, vs, accs,\n",
        "               acc_ms, acc_vs, prev_grads, prev_param):\n",
        " \n",
        "           change = pg * g \n",
        "           change_below_zero = K.less(change,0.) \n",
        "           change_above_zero = K.greater(change,0.) \n",
        "           zeeta = K.switch(\n",
        "               change_below_zero, \n",
        "               a * self.eta_minus, \n",
        "               K.switch(change_above_zero,  \n",
        "                        a * self.eta_plus, \n",
        "                        a)\n",
        "             \n",
        "           )\n",
        "           a_clipped = K.clip(zeeta, self.eta_min, self.eta_max) \n",
        "           v_t = (self.alpha * v) + (1. - self.alpha) * K.square(g) \n",
        "           am_t = (self.alpha * am) + (1. - self.alpha) * a_clipped \n",
        "           a_rate = a_clipped / am_t \n",
        "           p_t = p - lr * a_rate * g * (1/(K.sqrt(v_t + self.epsilon))) \n",
        " \n",
        "           new_p = p_t\n",
        " \n",
        "           self.updates.append(K.update(v, v_t))\n",
        "           self.updates.append(K.update(p, new_p))\n",
        "           self.updates.append(K.update(pg, p))\n",
        "           self.updates.append(K.update(a, zeeta))\n",
        "           self.updates.append(K.update(am, am_t))\n",
        "           self.updates.append(K.update(pp, p))\n",
        "       return self.updates\n",
        " \n",
        "   def get_config(self):\n",
        "       config = {'lr': float(K.get_value(self.lr)),\n",
        "                 'alpha': float(K.get_value(self.alpha)),\n",
        "                 'eta_plus': float(K.get_value(self.eta_plus)),\n",
        "                 'eta_minus': float(K.get_value(self.eta_minus)),\n",
        "                 'eta_min': float(self.eta_min),\n",
        "                 'eta_max': float(self.eta_max),\n",
        "                 'epsilon': self.epsilon}\n",
        "       base_config = super(WAME2, self).get_config()\n",
        "       return dict(list(base_config.items()) + list(config.items()))\n",
        " \n"
      ],
      "execution_count": null,
      "outputs": []
    },
    {
      "cell_type": "markdown",
      "metadata": {
        "id": "lzIQd2nFlk6D"
      },
      "source": [
        "##WAME 3"
      ]
    },
    {
      "cell_type": "code",
      "metadata": {
        "id": "8h2YV1_JesrD"
      },
      "source": [
        "# For code nerration please refer to WAME1 above\n",
        "class WAME3(Optimizer):\n",
        " \n",
        "   def __init__(self, learning_rate=0.00001, alpha = 0.9,\n",
        "                epsilon=1e-11, decay=0., eta_plus = 1.2, eta_minus = 0.1,\n",
        "                zeta_min=1e-2, zeta_max=1e2, zeta = 0, eta = 0,\n",
        "                **kwargs):\n",
        "      \n",
        "       super(WAME3, self).__init__(**kwargs)\n",
        "       self.__dict__.update(locals())\n",
        "       self.iterations = K.variable(0)\n",
        "       self.learning_rate = K.variable(learning_rate)\n",
        "       self.alpha = K.variable(alpha)\n",
        "       self.zeta = K.variable(zeta)\n",
        "       self.decay = K.variable(decay)\n",
        "       self.eta_plus = K.variable(eta_plus)\n",
        "       self.eta_minus = K.variable(eta_minus)\n",
        "       self.eta_min = eta_min\n",
        "       self.eta_max = eta_max\n",
        "       self.inital_decay = decay\n",
        "   \n",
        "   def get_updates(self, params, loss): \n",
        " \n",
        "       grads = self.get_gradients(loss, params)\n",
        "       self.updates = [K.update_add(self.iterations, 1)]\n",
        "      \n",
        "       lr = self.learning_rate\n",
        "       if self.inital_decay > 0:\n",
        "           lr *= (1. / (1. + self.decay * self.iterations))\n",
        " \n",
        "       t = self.iterations + 1\n",
        " \n",
        "       shapes = [K.int_shape(p) for p in params]\n",
        "       prev_grads = [K.zeros(shape) for shape in shapes]\n",
        "       prev_param = [K.zeros(shape) for shape in shapes]\n",
        "       ms = [K.zeros(shape) for shape in shapes]\n",
        "       vs = [K.zeros(shape) for shape in shapes]\n",
        "       accs = [K.ones(shape) for shape in shapes]\n",
        "       acc_ms = [K.ones(shape) for shape in shapes]\n",
        "       acc_vs = [K.ones(shape) for shape in shapes]\n",
        "       self.weights = [self.iterations] + ms + vs\n",
        " \n",
        "       for p, g, m, v, a, am, av, pg, pp in zip(params, grads, ms, vs, accs,\n",
        "               acc_ms, acc_vs, prev_grads, prev_param):\n",
        " \n",
        "           change = pg * g \n",
        "           change_below_zero = K.less(change,0.) \n",
        "           change_above_zero = K.greater(change,0.) \n",
        "           zeeta = K.switch(\n",
        "               change_below_zero, \n",
        "               a * self.eta_minus, \n",
        "               K.switch(change_above_zero, \n",
        "                        a * self.eta_plus, \n",
        "                        a) \n",
        "             \n",
        "           )\n",
        "           a_clipped = K.clip(zeeta, self.eta_min, self.eta_max) \n",
        "           v_t = (self.alpha * v) + (1. - self.alpha) * K.square(g) \n",
        "           am_t = (self.alpha * am) + (1. - self.alpha) * a_clipped \n",
        "           a_rate = a_clipped / am_t \n",
        "           p_t = p - lr * a_rate * g * (1/(K.sqrt(v_t + self.epsilon))) \n",
        " \n",
        "           new_p = p_t\n",
        " \n",
        "           self.updates.append(K.update(v, v_t))\n",
        "           self.updates.append(K.update(p, new_p))\n",
        "           self.updates.append(K.update(pg, p))\n",
        "           self.updates.append(K.update(a, zeeta))\n",
        "           self.updates.append(K.update(am, am_t))\n",
        "           self.updates.append(K.update(pp, p))\n",
        "       return self.updates\n",
        " \n",
        "   def get_config(self):\n",
        "       config = {'lr': float(K.get_value(self.lr)),\n",
        "                 'alpha': float(K.get_value(self.alpha)),\n",
        "                 'eta_plus': float(K.get_value(self.eta_plus)),\n",
        "                 'eta_minus': float(K.get_value(self.eta_minus)),\n",
        "                 'eta_min': float(self.eta_min),\n",
        "                 'eta_max': float(self.eta_max),\n",
        "                 'epsilon': self.epsilon}\n",
        "       base_config = super(WAME3, self).get_config()\n",
        "       return dict(list(base_config.items()) + list(config.items()))\n",
        " \n"
      ],
      "execution_count": null,
      "outputs": []
    },
    {
      "cell_type": "markdown",
      "metadata": {
        "id": "No2k0OICloNd"
      },
      "source": [
        "##WAME 4"
      ]
    },
    {
      "cell_type": "code",
      "metadata": {
        "id": "axb4iOiefHHU"
      },
      "source": [
        "# For code nerration please refer to WAME1 above\n",
        "class WAME4(Optimizer):\n",
        " \n",
        "   def __init__(self, learning_rate=0.000001, alpha = 0.9,\n",
        "                epsilon=1e-11, decay=0., eta_plus = 1.2, eta_minus = 0.1,\n",
        "                zeta_min=1e-2, zeta_max=1e2, zeta = 0, eta = 0,\n",
        "                **kwargs):\n",
        "      \n",
        "       super(WAME4, self).__init__(**kwargs)\n",
        "       self.__dict__.update(locals())\n",
        "       self.iterations = K.variable(0)\n",
        "       self.learning_rate = K.variable(learning_rate)\n",
        "       self.alpha = K.variable(alpha)\n",
        "       self.zeta = K.variable(zeta)\n",
        "       self.decay = K.variable(decay)\n",
        "       self.eta_plus = K.variable(eta_plus)\n",
        "       self.eta_minus = K.variable(eta_minus)\n",
        "       self.eta_min = eta_min\n",
        "       self.eta_max = eta_max\n",
        "       self.inital_decay = decay\n",
        "   \n",
        "   def get_updates(self, params, loss): \n",
        " \n",
        "       grads = self.get_gradients(loss, params)\n",
        "       self.updates = [K.update_add(self.iterations, 1)]\n",
        "       # 4\n",
        "       lr = self.learning_rate\n",
        "       if self.inital_decay > 0:\n",
        "           lr *= (1. / (1. + self.decay * self.iterations))\n",
        " \n",
        "       t = self.iterations + 1\n",
        " \n",
        "       shapes = [K.int_shape(p) for p in params]\n",
        "       prev_grads = [K.zeros(shape) for shape in shapes]\n",
        "       prev_param = [K.zeros(shape) for shape in shapes]\n",
        "       ms = [K.zeros(shape) for shape in shapes]\n",
        "       vs = [K.zeros(shape) for shape in shapes]\n",
        "       accs = [K.ones(shape) for shape in shapes]\n",
        "       acc_ms = [K.ones(shape) for shape in shapes]\n",
        "       acc_vs = [K.ones(shape) for shape in shapes]\n",
        "       self.weights = [self.iterations] + ms + vs\n",
        " \n",
        "       for p, g, m, v, a, am, av, pg, pp in zip(params, grads, ms, vs, accs,\n",
        "               acc_ms, acc_vs, prev_grads, prev_param):\n",
        " \n",
        "           change = pg * g \n",
        "           change_below_zero = K.less(change,0.) \n",
        "           change_above_zero = K.greater(change,0.) \n",
        "           zeeta = K.switch(\n",
        "               change_below_zero, \n",
        "               a * self.eta_minus,\n",
        "               K.switch(change_above_zero,  \n",
        "                        a * self.eta_plus, \n",
        "                        a) \n",
        "             \n",
        "           )\n",
        "           a_clipped = K.clip(zeeta, self.eta_min, self.eta_max) \n",
        "           v_t = (self.alpha * v) + (1. - self.alpha) * K.square(g) \n",
        "           am_t = (self.alpha * am) + (1. - self.alpha) * a_clipped \n",
        "           a_rate = a_clipped / am_t \n",
        "           p_t = p - lr * a_rate * g * (1/(K.sqrt(v_t + self.epsilon))) \n",
        " \n",
        "           new_p = p_t\n",
        " \n",
        "           self.updates.append(K.update(v, v_t))\n",
        "           self.updates.append(K.update(p, new_p))\n",
        "           self.updates.append(K.update(pg, p))\n",
        "           self.updates.append(K.update(a, zeeta))\n",
        "           self.updates.append(K.update(am, am_t))\n",
        "           self.updates.append(K.update(pp, p))\n",
        "       return self.updates\n",
        " \n",
        "   def get_config(self):\n",
        "       config = {'lr': float(K.get_value(self.lr)),\n",
        "                 'alpha': float(K.get_value(self.alpha)),\n",
        "                 'eta_plus': float(K.get_value(self.eta_plus)),\n",
        "                 'eta_minus': float(K.get_value(self.eta_minus)),\n",
        "                 'eta_min': float(self.eta_min),\n",
        "                 'eta_max': float(self.eta_max),\n",
        "                 'epsilon': self.epsilon}\n",
        "       base_config = super(WAME4, self).get_config()\n",
        "       return dict(list(base_config.items()) + list(config.items()))\n",
        " \n"
      ],
      "execution_count": null,
      "outputs": []
    },
    {
      "cell_type": "markdown",
      "metadata": {
        "id": "2eRe9CEEj1pA"
      },
      "source": [
        "#Configering The Keras Model For Filter, Wrapper and Embedded PCA Output and Geetting the best tune results in from Grid search CV"
      ]
    },
    {
      "cell_type": "markdown",
      "metadata": {
        "id": "CFSIoEQmpuUs"
      },
      "source": [
        "## Tuneing with PCA - FILTER METHOD output \"pca_filter_train_features \" with WAME 1, 2 , 3 & 4."
      ]
    },
    {
      "cell_type": "code",
      "metadata": {
        "colab": {
          "base_uri": "https://localhost:8080/"
        },
        "id": "zp73889fpUVE",
        "outputId": "ef433ec3-e3d6-422b-852f-4901e8b14075"
      },
      "source": [
        "#  Parameters Used\n",
        "optimizers = ['adam', 'rmsprop', 'WAME1', 'WAME2', 'WAME3', 'WAME4']\n",
        "inits = ['uniform', 'glorot_uniform'] \n",
        "epochs = [5, 7, 10]\n",
        "batches = [20, 30, 40]\n",
        "\n",
        "def create_model4(optimizer=optimizers, init=inits):\n",
        "  # create model\n",
        "  mlp_model = Sequential()\n",
        "  mlp_model.add(Dense(12, input_dim= 5, activation='relu')) \n",
        "  mlp_model.add(Dense(10, activation='relu')) \n",
        "  mlp_model.add(Dense(1, activation='sigmoid'))\n",
        "\n",
        "  # Compile model\n",
        "  mlp_model.compile(loss = tf.keras.losses.mean_squared_error, metrics=[\"accuracy\"])\n",
        "  return mlp_model\n",
        "\n",
        "# create model\n",
        "model_keras = KerasClassifier(build_fn=create_model4, verbose=0)\n",
        "\n",
        "# grid search epochs, batch size and optimizer\n",
        "param_grid = dict(optimizer= optimizers, epochs=epochs, batch_size=batches, init=inits) \n",
        "grid = GridSearchCV(estimator=model_keras, param_grid=param_grid)\n",
        "grid_result = grid.fit(pca_filter_train_features, Y)\n",
        "\n",
        "# summarize results\n",
        "print(\"Best: %f using %s\" % (grid_result.best_score_, grid_result.best_params_)) "
      ],
      "execution_count": null,
      "outputs": [
        {
          "output_type": "stream",
          "text": [
            "Best: 0.831079 using {'batch_size': 20, 'epochs': 10, 'init': 'uniform', 'optimizer': 'WAME1'}\n"
          ],
          "name": "stdout"
        }
      ]
    },
    {
      "cell_type": "markdown",
      "metadata": {
        "id": "VjDdADQJqIg_"
      },
      "source": [
        "##Tuneing with PCA - WRPPER METHOD output \"pca_wrapper_filter_features\" with WAME 1, 2, 3 & 4"
      ]
    },
    {
      "cell_type": "code",
      "metadata": {
        "colab": {
          "base_uri": "https://localhost:8080/"
        },
        "id": "-LZhbOKIqW_r",
        "outputId": "6ad86007-e3f7-4f97-c62f-459856af7a8b"
      },
      "source": [
        "# Parameters Used\n",
        "optimizers = ['adam', 'rmsprop', 'WAME1', 'WAME2', 'WAME3', 'WAME4']\n",
        "inits = ['uniform', 'glorot_uniform'] \n",
        "epochs = [5, 7, 10]\n",
        "batches = [20, 30, 40]\n",
        "\n",
        "def create_model5(optimizer=optimizers, init=inits):\n",
        "  # create model\n",
        "  mlp_model = Sequential()\n",
        "  mlp_model.add(Dense(12, input_dim= 5, activation='relu')) \n",
        "  mlp_model.add(Dense(10, activation='relu')) \n",
        "  mlp_model.add(Dense(1, activation='sigmoid'))\n",
        "\n",
        "  # Compile model\n",
        "  mlp_model.compile(loss = tf.keras.losses.mean_squared_error, metrics=[\"accuracy\"])\n",
        "  return mlp_model\n",
        "\n",
        "# create model\n",
        "model_keras = KerasClassifier(build_fn=create_model5, verbose=0)\n",
        "\n",
        "# grid search epochs, batch size and optimizer\n",
        "param_grid = dict(optimizer= optimizers, epochs=epochs, batch_size=batches, init=inits) \n",
        "grid = GridSearchCV(estimator=model_keras, param_grid=param_grid)\n",
        "grid_result = grid.fit(pca_wrapper_train_features, Y)\n",
        "\n",
        "# summarize results\n",
        "print(\"Best: %f using %s\" % (grid_result.best_score_, grid_result.best_params_)) "
      ],
      "execution_count": null,
      "outputs": [
        {
          "output_type": "stream",
          "text": [
            "Best: 0.840992 using {'batch_size': 20, 'epochs': 10, 'init': 'glorot_uniform', 'optimizer': 'WAME4'}\n"
          ],
          "name": "stdout"
        }
      ]
    },
    {
      "cell_type": "markdown",
      "metadata": {
        "id": "JJVK9ziYq6R6"
      },
      "source": [
        "##Tuneing with PCA - EMBEDDED METHOD output \"pca_embedded_train_features\" with WAME 1, 2, 3 & 4"
      ]
    },
    {
      "cell_type": "code",
      "metadata": {
        "colab": {
          "base_uri": "https://localhost:8080/"
        },
        "id": "vPrUMdRpq6-H",
        "outputId": "f0504a5a-92cd-4a82-d146-b283e8203c86"
      },
      "source": [
        "# Parameters Used\n",
        "optimizers = ['adam', 'rmsprop', 'WAME1', 'WAME2', 'WAME3', 'WAME4']\n",
        "inits = ['uniform', 'glorot_uniform'] \n",
        "epochs = [5, 7, 10]\n",
        "batches = [20, 30, 40]\n",
        "\n",
        "def create_model6(optimizer=optimizers, init=inits):\n",
        "  # create model\n",
        "  mlp_model = Sequential()\n",
        "  mlp_model.add(Dense(12, input_dim= 5, activation='relu')) \n",
        "  mlp_model.add(Dense(10, activation='relu')) \n",
        "  mlp_model.add(Dense(1, activation='sigmoid'))\n",
        "\n",
        "  # Compile model\n",
        "  mlp_model.compile(loss = tf.keras.losses.mean_squared_error, metrics=[\"accuracy\"])\n",
        "  return mlp_model\n",
        "\n",
        "# create model\n",
        "model_keras = KerasClassifier(build_fn=create_model6, verbose=0)\n",
        "\n",
        "# grid search epochs, batch size and optimizer\n",
        "param_grid = dict(optimizer= optimizers, epochs=epochs, batch_size=batches, init=inits) \n",
        "grid = GridSearchCV(estimator=model_keras, param_grid=param_grid)\n",
        "grid_result = grid.fit(pca_embedded_train_features, Y)\n",
        "\n",
        "# summarize results\n",
        "print(\"Best: %f using %s\" % (grid_result.best_score_, grid_result.best_params_)) "
      ],
      "execution_count": null,
      "outputs": [
        {
          "output_type": "stream",
          "text": [
            "Best: 0.833267 using {'batch_size': 40, 'epochs': 10, 'init': 'uniform', 'optimizer': 'WAME3'}\n"
          ],
          "name": "stdout"
        }
      ]
    },
    {
      "cell_type": "markdown",
      "metadata": {
        "id": "-rjuVv1yr6q0"
      },
      "source": [
        "#Comparing best models (Betweent Filter, Wrapper & Embedded with WAME Output)  :\n",
        "\n"
      ]
    },
    {
      "cell_type": "markdown",
      "metadata": {
        "id": "SHhZZkiFmVAU"
      },
      "source": [
        "##(a) Using Crossvalidation on hyperparameter tuned models of Keras Classifier (from output of Filter, Wrapper & Embedded) and compare the performance accuracy"
      ]
    },
    {
      "cell_type": "code",
      "metadata": {
        "colab": {
          "base_uri": "https://localhost:8080/",
          "height": 1000
        },
        "id": "bmDJCdSPsbR9",
        "outputId": "29ee6852-cf6b-4ff0-a900-c38a1ef6203c"
      },
      "source": [
        "# The Keras on Filter output  \n",
        "# Best: 0.831079 using {'batch_size': 20, 'epochs': 10, 'init': 'uniform', 'optimizer': 'WAME1'}\n",
        "models1 = []\n",
        "models1.append(('Keras Classifier - Filter ', KerasClassifier(build_fn=create_model4, batch_size= 20, epochs= 10, init = 'uniform', optimizer='WAME1')))\n",
        "# evaluate the model \n",
        "results = []\n",
        "names = []\n",
        "scoring = 'accuracy'\n",
        "for name, model1 in models1:\n",
        "  kfold = KFold(n_splits=10, random_state=7,shuffle=True) # Using K Fold cross validation\n",
        "  cv_results = cross_val_score(model1, pca_filter_train_features, Y, cv=kfold, scoring=scoring)\n",
        "  results.append(cv_results)\n",
        "  names.append(name)\n",
        "  msg = \"%s: %f (%f)\" % (name, cv_results.mean(), cv_results.std())\n",
        "  print(msg)\n",
        "# boxplot algorithm \n",
        "fig = pyplot.figure()\n",
        "fig.suptitle('Algorithm Comparison')\n",
        "ax = fig.add_subplot(111)\n",
        "pyplot.boxplot(results)\n",
        "ax.set_xticklabels(names)\n",
        "pyplot.show()"
      ],
      "execution_count": null,
      "outputs": [
        {
          "output_type": "stream",
          "text": [
            "Epoch 1/10\n",
            "1358/1358 [==============================] - 2s 1ms/step - loss: 0.1701 - accuracy: 0.7624\n",
            "Epoch 2/10\n",
            "1358/1358 [==============================] - 1s 1ms/step - loss: 0.1287 - accuracy: 0.8046\n",
            "Epoch 3/10\n",
            "1358/1358 [==============================] - 1s 1ms/step - loss: 0.1218 - accuracy: 0.8138\n",
            "Epoch 4/10\n",
            "1358/1358 [==============================] - 1s 1ms/step - loss: 0.1190 - accuracy: 0.8210\n",
            "Epoch 5/10\n",
            "1358/1358 [==============================] - 1s 1ms/step - loss: 0.1187 - accuracy: 0.8258\n",
            "Epoch 6/10\n",
            "1358/1358 [==============================] - 2s 1ms/step - loss: 0.1179 - accuracy: 0.8237\n",
            "Epoch 7/10\n",
            "1358/1358 [==============================] - 2s 1ms/step - loss: 0.1171 - accuracy: 0.8287\n",
            "Epoch 8/10\n",
            "1358/1358 [==============================] - 1s 1ms/step - loss: 0.1177 - accuracy: 0.8274\n",
            "Epoch 9/10\n",
            "1358/1358 [==============================] - 2s 1ms/step - loss: 0.1188 - accuracy: 0.8243\n",
            "Epoch 10/10\n",
            "1358/1358 [==============================] - 1s 1ms/step - loss: 0.1157 - accuracy: 0.8303\n"
          ],
          "name": "stdout"
        },
        {
          "output_type": "stream",
          "text": [
            "/usr/local/lib/python3.7/dist-packages/tensorflow/python/keras/engine/sequential.py:450: UserWarning: `model.predict_classes()` is deprecated and will be removed after 2021-01-01. Please use instead:* `np.argmax(model.predict(x), axis=-1)`,   if your model does multi-class classification   (e.g. if it uses a `softmax` last-layer activation).* `(model.predict(x) > 0.5).astype(\"int32\")`,   if your model does binary classification   (e.g. if it uses a `sigmoid` last-layer activation).\n",
            "  warnings.warn('`model.predict_classes()` is deprecated and '\n"
          ],
          "name": "stderr"
        },
        {
          "output_type": "stream",
          "text": [
            "Epoch 1/10\n",
            "1358/1358 [==============================] - 2s 1ms/step - loss: 0.1556 - accuracy: 0.7890\n",
            "Epoch 2/10\n",
            "1358/1358 [==============================] - 2s 1ms/step - loss: 0.1239 - accuracy: 0.8153\n",
            "Epoch 3/10\n",
            "1358/1358 [==============================] - 2s 1ms/step - loss: 0.1219 - accuracy: 0.8160\n",
            "Epoch 4/10\n",
            "1358/1358 [==============================] - 1s 1ms/step - loss: 0.1191 - accuracy: 0.8233\n",
            "Epoch 5/10\n",
            "1358/1358 [==============================] - 2s 1ms/step - loss: 0.1177 - accuracy: 0.8282\n",
            "Epoch 6/10\n",
            "1358/1358 [==============================] - 1s 1ms/step - loss: 0.1187 - accuracy: 0.8261\n",
            "Epoch 7/10\n",
            "1358/1358 [==============================] - 1s 1ms/step - loss: 0.1183 - accuracy: 0.8261\n",
            "Epoch 8/10\n",
            "1358/1358 [==============================] - 2s 1ms/step - loss: 0.1165 - accuracy: 0.8294\n",
            "Epoch 9/10\n",
            "1358/1358 [==============================] - 2s 1ms/step - loss: 0.1164 - accuracy: 0.8291\n",
            "Epoch 10/10\n",
            "1358/1358 [==============================] - 1s 1ms/step - loss: 0.1161 - accuracy: 0.8292\n",
            "Epoch 1/10\n",
            "1358/1358 [==============================] - 2s 1ms/step - loss: 0.1656 - accuracy: 0.7660\n",
            "Epoch 2/10\n",
            "1358/1358 [==============================] - 1s 1ms/step - loss: 0.1254 - accuracy: 0.8142\n",
            "Epoch 3/10\n",
            "1358/1358 [==============================] - 1s 1ms/step - loss: 0.1233 - accuracy: 0.8174\n",
            "Epoch 4/10\n",
            "1358/1358 [==============================] - 1s 1ms/step - loss: 0.1169 - accuracy: 0.8267\n",
            "Epoch 5/10\n",
            "1358/1358 [==============================] - 2s 1ms/step - loss: 0.1179 - accuracy: 0.8271\n",
            "Epoch 6/10\n",
            "1358/1358 [==============================] - 1s 1ms/step - loss: 0.1166 - accuracy: 0.8319\n",
            "Epoch 7/10\n",
            "1358/1358 [==============================] - 1s 1ms/step - loss: 0.1146 - accuracy: 0.8302\n",
            "Epoch 8/10\n",
            "1358/1358 [==============================] - 1s 1ms/step - loss: 0.1137 - accuracy: 0.8366\n",
            "Epoch 9/10\n",
            "1358/1358 [==============================] - 1s 1ms/step - loss: 0.1158 - accuracy: 0.8285\n",
            "Epoch 10/10\n",
            "1358/1358 [==============================] - 1s 1ms/step - loss: 0.1133 - accuracy: 0.8337\n",
            "Epoch 1/10\n",
            "1358/1358 [==============================] - 2s 1ms/step - loss: 0.1699 - accuracy: 0.7462\n",
            "Epoch 2/10\n",
            "1358/1358 [==============================] - 2s 1ms/step - loss: 0.1231 - accuracy: 0.8108\n",
            "Epoch 3/10\n",
            "1358/1358 [==============================] - 1s 1ms/step - loss: 0.1220 - accuracy: 0.8132\n",
            "Epoch 4/10\n",
            "1358/1358 [==============================] - 2s 1ms/step - loss: 0.1178 - accuracy: 0.8227\n",
            "Epoch 5/10\n",
            "1358/1358 [==============================] - 1s 1ms/step - loss: 0.1197 - accuracy: 0.8238\n",
            "Epoch 6/10\n",
            "1358/1358 [==============================] - 1s 1ms/step - loss: 0.1183 - accuracy: 0.8259\n",
            "Epoch 7/10\n",
            "1358/1358 [==============================] - 1s 1ms/step - loss: 0.1160 - accuracy: 0.8287\n",
            "Epoch 8/10\n",
            "1358/1358 [==============================] - 1s 1ms/step - loss: 0.1159 - accuracy: 0.8301\n",
            "Epoch 9/10\n",
            "1358/1358 [==============================] - 1s 1ms/step - loss: 0.1142 - accuracy: 0.8316\n",
            "Epoch 10/10\n",
            "1358/1358 [==============================] - 1s 1ms/step - loss: 0.1135 - accuracy: 0.8309\n",
            "Epoch 1/10\n",
            "1358/1358 [==============================] - 2s 1ms/step - loss: 0.1671 - accuracy: 0.7624\n",
            "Epoch 2/10\n",
            "1358/1358 [==============================] - 1s 1ms/step - loss: 0.1259 - accuracy: 0.8071\n",
            "Epoch 3/10\n",
            "1358/1358 [==============================] - 1s 1ms/step - loss: 0.1211 - accuracy: 0.8148\n",
            "Epoch 4/10\n",
            "1358/1358 [==============================] - 1s 1ms/step - loss: 0.1218 - accuracy: 0.8140\n",
            "Epoch 5/10\n",
            "1358/1358 [==============================] - 2s 1ms/step - loss: 0.1179 - accuracy: 0.8220\n",
            "Epoch 6/10\n",
            "1358/1358 [==============================] - 1s 1ms/step - loss: 0.1191 - accuracy: 0.8195\n",
            "Epoch 7/10\n",
            "1358/1358 [==============================] - 2s 1ms/step - loss: 0.1185 - accuracy: 0.8209\n",
            "Epoch 8/10\n",
            "1358/1358 [==============================] - 1s 1ms/step - loss: 0.1172 - accuracy: 0.8265\n",
            "Epoch 9/10\n",
            "1358/1358 [==============================] - 1s 1ms/step - loss: 0.1181 - accuracy: 0.8233\n",
            "Epoch 10/10\n",
            "1358/1358 [==============================] - 2s 1ms/step - loss: 0.1169 - accuracy: 0.8250\n",
            "Epoch 1/10\n",
            "1358/1358 [==============================] - 2s 1ms/step - loss: 0.1636 - accuracy: 0.7780\n",
            "Epoch 2/10\n",
            "1358/1358 [==============================] - 1s 1ms/step - loss: 0.1255 - accuracy: 0.8129\n",
            "Epoch 3/10\n",
            "1358/1358 [==============================] - 2s 1ms/step - loss: 0.1225 - accuracy: 0.8126\n",
            "Epoch 4/10\n",
            "1358/1358 [==============================] - 1s 1ms/step - loss: 0.1206 - accuracy: 0.8170\n",
            "Epoch 5/10\n",
            "1358/1358 [==============================] - 1s 1ms/step - loss: 0.1192 - accuracy: 0.8189\n",
            "Epoch 6/10\n",
            "1358/1358 [==============================] - 2s 1ms/step - loss: 0.1205 - accuracy: 0.8212\n",
            "Epoch 7/10\n",
            "1358/1358 [==============================] - 2s 1ms/step - loss: 0.1178 - accuracy: 0.8283\n",
            "Epoch 8/10\n",
            "1358/1358 [==============================] - 2s 1ms/step - loss: 0.1182 - accuracy: 0.8250\n",
            "Epoch 9/10\n",
            "1358/1358 [==============================] - 1s 1ms/step - loss: 0.1168 - accuracy: 0.8316\n",
            "Epoch 10/10\n",
            "1358/1358 [==============================] - 1s 1ms/step - loss: 0.1154 - accuracy: 0.8307\n",
            "Epoch 1/10\n",
            "1358/1358 [==============================] - 2s 1ms/step - loss: 0.1684 - accuracy: 0.7545\n",
            "Epoch 2/10\n",
            "1358/1358 [==============================] - 1s 1ms/step - loss: 0.1260 - accuracy: 0.8139\n",
            "Epoch 3/10\n",
            "1358/1358 [==============================] - 1s 1ms/step - loss: 0.1257 - accuracy: 0.8108\n",
            "Epoch 4/10\n",
            "1358/1358 [==============================] - 2s 1ms/step - loss: 0.1204 - accuracy: 0.8179\n",
            "Epoch 5/10\n",
            "1358/1358 [==============================] - 1s 1ms/step - loss: 0.1196 - accuracy: 0.8208\n",
            "Epoch 6/10\n",
            "1358/1358 [==============================] - 1s 1ms/step - loss: 0.1186 - accuracy: 0.8239\n",
            "Epoch 7/10\n",
            "1358/1358 [==============================] - 1s 1ms/step - loss: 0.1188 - accuracy: 0.8252\n",
            "Epoch 8/10\n",
            "1358/1358 [==============================] - 2s 1ms/step - loss: 0.1156 - accuracy: 0.8315\n",
            "Epoch 9/10\n",
            "1358/1358 [==============================] - 2s 1ms/step - loss: 0.1161 - accuracy: 0.8298\n",
            "Epoch 10/10\n",
            "1358/1358 [==============================] - 2s 1ms/step - loss: 0.1158 - accuracy: 0.8297\n",
            "Epoch 1/10\n",
            "1358/1358 [==============================] - 2s 1ms/step - loss: 0.1630 - accuracy: 0.7557\n",
            "Epoch 2/10\n",
            "1358/1358 [==============================] - 2s 1ms/step - loss: 0.1239 - accuracy: 0.8147\n",
            "Epoch 3/10\n",
            "1358/1358 [==============================] - 1s 1ms/step - loss: 0.1198 - accuracy: 0.8171\n",
            "Epoch 4/10\n",
            "1358/1358 [==============================] - 1s 1ms/step - loss: 0.1183 - accuracy: 0.8226\n",
            "Epoch 5/10\n",
            "1358/1358 [==============================] - 2s 1ms/step - loss: 0.1188 - accuracy: 0.8271\n",
            "Epoch 6/10\n",
            "1358/1358 [==============================] - 1s 1ms/step - loss: 0.1191 - accuracy: 0.8265\n",
            "Epoch 7/10\n",
            "1358/1358 [==============================] - 1s 1ms/step - loss: 0.1202 - accuracy: 0.8206\n",
            "Epoch 8/10\n",
            "1358/1358 [==============================] - 1s 1ms/step - loss: 0.1197 - accuracy: 0.8221\n",
            "Epoch 9/10\n",
            "1358/1358 [==============================] - 1s 1ms/step - loss: 0.1203 - accuracy: 0.8275\n",
            "Epoch 10/10\n",
            "1358/1358 [==============================] - 1s 1ms/step - loss: 0.1191 - accuracy: 0.8255\n",
            "Epoch 1/10\n",
            "1358/1358 [==============================] - 2s 1ms/step - loss: 0.1832 - accuracy: 0.7412\n",
            "Epoch 2/10\n",
            "1358/1358 [==============================] - 1s 1ms/step - loss: 0.1277 - accuracy: 0.8126\n",
            "Epoch 3/10\n",
            "1358/1358 [==============================] - 2s 1ms/step - loss: 0.1206 - accuracy: 0.8190\n",
            "Epoch 4/10\n",
            "1358/1358 [==============================] - 2s 1ms/step - loss: 0.1191 - accuracy: 0.8211\n",
            "Epoch 5/10\n",
            "1358/1358 [==============================] - 1s 1ms/step - loss: 0.1195 - accuracy: 0.8246\n",
            "Epoch 6/10\n",
            "1358/1358 [==============================] - 2s 1ms/step - loss: 0.1186 - accuracy: 0.8245\n",
            "Epoch 7/10\n",
            "1358/1358 [==============================] - 1s 1ms/step - loss: 0.1172 - accuracy: 0.8278\n",
            "Epoch 8/10\n",
            "1358/1358 [==============================] - 1s 1ms/step - loss: 0.1175 - accuracy: 0.8286\n",
            "Epoch 9/10\n",
            "1358/1358 [==============================] - 2s 1ms/step - loss: 0.1195 - accuracy: 0.8251\n",
            "Epoch 10/10\n",
            "1358/1358 [==============================] - 1s 1ms/step - loss: 0.1163 - accuracy: 0.8288\n",
            "Epoch 1/10\n",
            "1358/1358 [==============================] - 2s 1ms/step - loss: 0.1627 - accuracy: 0.7546\n",
            "Epoch 2/10\n",
            "1358/1358 [==============================] - 1s 1ms/step - loss: 0.1204 - accuracy: 0.8224\n",
            "Epoch 3/10\n",
            "1358/1358 [==============================] - 1s 1ms/step - loss: 0.1197 - accuracy: 0.8250\n",
            "Epoch 4/10\n",
            "1358/1358 [==============================] - 2s 1ms/step - loss: 0.1192 - accuracy: 0.8276\n",
            "Epoch 5/10\n",
            "1358/1358 [==============================] - 2s 1ms/step - loss: 0.1186 - accuracy: 0.8281\n",
            "Epoch 6/10\n",
            "1358/1358 [==============================] - 2s 1ms/step - loss: 0.1189 - accuracy: 0.8249\n",
            "Epoch 7/10\n",
            "1358/1358 [==============================] - 2s 1ms/step - loss: 0.1194 - accuracy: 0.8253\n",
            "Epoch 8/10\n",
            "1358/1358 [==============================] - 2s 1ms/step - loss: 0.1174 - accuracy: 0.8299\n",
            "Epoch 9/10\n",
            "1358/1358 [==============================] - 1s 1ms/step - loss: 0.1191 - accuracy: 0.8229\n",
            "Epoch 10/10\n",
            "1358/1358 [==============================] - 2s 1ms/step - loss: 0.1175 - accuracy: 0.8251\n",
            "Keras Classifier - Filter : 0.829520 (0.007528)\n"
          ],
          "name": "stdout"
        },
        {
          "output_type": "display_data",
          "data": {
            "image/png": "[encoded data removed]",
            "text/plain": [
              "<Figure size 432x288 with 1 Axes>"
            ]
          },
          "metadata": {
            "tags": [],
            "needs_background": "light"
          }
        }
      ]
    },
    {
      "cell_type": "code",
      "metadata": {
        "colab": {
          "base_uri": "https://localhost:8080/",
          "height": 1000
        },
        "id": "Eg8v7PN6t272",
        "outputId": "a92b6990-123a-4713-cce4-d9c0f3fda6b4"
      },
      "source": [
        "# The Keras on Wrapper output\n",
        "#Best: 0.840992 using {'batch_size': 20, 'epochs': 10, 'init': 'glorot_uniform', 'optimizer': 'WAME4'}\n",
        "models2 = []\n",
        "models2.append(('Keras Classifier - Wrapper ', KerasClassifier(build_fn=create_model5, batch_size= 20, epochs= 10, init = 'glorot_uniform', optimizer='WAME4')))\n",
        "# evaluate the model \n",
        "results = []\n",
        "names = []\n",
        "scoring = 'accuracy'\n",
        "for name, model2 in models2:\n",
        "  kfold = KFold(n_splits=10, random_state=7,shuffle=True) # Using K Fold cross validation\n",
        "  cv_results = cross_val_score(model2, pca_wrapper_train_features, Y, cv=kfold, scoring=scoring)\n",
        "  results.append(cv_results)\n",
        "  names.append(name)\n",
        "  msg = \"%s: %f (%f)\" % (name, cv_results.mean(), cv_results.std())\n",
        "  print(msg)\n",
        "# boxplot algorithm \n",
        "fig = pyplot.figure()\n",
        "fig.suptitle('Algorithm Comparison')\n",
        "ax = fig.add_subplot(111)\n",
        "pyplot.boxplot(results)\n",
        "ax.set_xticklabels(names)\n",
        "pyplot.show()"
      ],
      "execution_count": null,
      "outputs": [
        {
          "output_type": "stream",
          "text": [
            "Epoch 1/10\n",
            "1358/1358 [==============================] - 2s 1ms/step - loss: 0.1685 - accuracy: 0.7724\n",
            "Epoch 2/10\n",
            "1358/1358 [==============================] - 1s 1ms/step - loss: 0.1199 - accuracy: 0.8308\n",
            "Epoch 3/10\n",
            "1358/1358 [==============================] - 1s 1ms/step - loss: 0.1175 - accuracy: 0.8274\n",
            "Epoch 4/10\n",
            "1358/1358 [==============================] - 2s 1ms/step - loss: 0.1136 - accuracy: 0.8347\n",
            "Epoch 5/10\n",
            "1358/1358 [==============================] - 1s 1ms/step - loss: 0.1146 - accuracy: 0.8321\n",
            "Epoch 6/10\n",
            "1358/1358 [==============================] - 1s 1ms/step - loss: 0.1100 - accuracy: 0.8430\n",
            "Epoch 7/10\n",
            "1358/1358 [==============================] - 2s 1ms/step - loss: 0.1099 - accuracy: 0.8425\n",
            "Epoch 8/10\n",
            "1358/1358 [==============================] - 1s 1ms/step - loss: 0.1101 - accuracy: 0.8379\n",
            "Epoch 9/10\n",
            "1358/1358 [==============================] - 2s 1ms/step - loss: 0.1097 - accuracy: 0.8405\n",
            "Epoch 10/10\n",
            "1358/1358 [==============================] - 2s 1ms/step - loss: 0.1082 - accuracy: 0.8427\n"
          ],
          "name": "stdout"
        },
        {
          "output_type": "stream",
          "text": [
            "/usr/local/lib/python3.7/dist-packages/tensorflow/python/keras/engine/sequential.py:450: UserWarning: `model.predict_classes()` is deprecated and will be removed after 2021-01-01. Please use instead:* `np.argmax(model.predict(x), axis=-1)`,   if your model does multi-class classification   (e.g. if it uses a `softmax` last-layer activation).* `(model.predict(x) > 0.5).astype(\"int32\")`,   if your model does binary classification   (e.g. if it uses a `sigmoid` last-layer activation).\n",
            "  warnings.warn('`model.predict_classes()` is deprecated and '\n"
          ],
          "name": "stderr"
        },
        {
          "output_type": "stream",
          "text": [
            "Epoch 1/10\n",
            "1358/1358 [==============================] - 2s 1ms/step - loss: 0.1637 - accuracy: 0.7673\n",
            "Epoch 2/10\n",
            "1358/1358 [==============================] - 1s 1ms/step - loss: 0.1216 - accuracy: 0.8232\n",
            "Epoch 3/10\n",
            "1358/1358 [==============================] - 1s 1ms/step - loss: 0.1183 - accuracy: 0.8278\n",
            "Epoch 4/10\n",
            "1358/1358 [==============================] - 1s 1ms/step - loss: 0.1153 - accuracy: 0.8298\n",
            "Epoch 5/10\n",
            "1358/1358 [==============================] - 2s 1ms/step - loss: 0.1137 - accuracy: 0.8309\n",
            "Epoch 6/10\n",
            "1358/1358 [==============================] - 1s 1ms/step - loss: 0.1142 - accuracy: 0.8323\n",
            "Epoch 7/10\n",
            "1358/1358 [==============================] - 1s 1ms/step - loss: 0.1130 - accuracy: 0.8340\n",
            "Epoch 8/10\n",
            "1358/1358 [==============================] - 2s 1ms/step - loss: 0.1113 - accuracy: 0.8400\n",
            "Epoch 9/10\n",
            "1358/1358 [==============================] - 2s 1ms/step - loss: 0.1103 - accuracy: 0.8390\n",
            "Epoch 10/10\n",
            "1358/1358 [==============================] - 2s 1ms/step - loss: 0.1110 - accuracy: 0.8402\n",
            "Epoch 1/10\n",
            "1358/1358 [==============================] - 2s 1ms/step - loss: 0.1708 - accuracy: 0.7495\n",
            "Epoch 2/10\n",
            "1358/1358 [==============================] - 1s 1ms/step - loss: 0.1184 - accuracy: 0.8294\n",
            "Epoch 3/10\n",
            "1358/1358 [==============================] - 1s 1ms/step - loss: 0.1168 - accuracy: 0.8303\n",
            "Epoch 4/10\n",
            "1358/1358 [==============================] - 1s 1ms/step - loss: 0.1139 - accuracy: 0.8368\n",
            "Epoch 5/10\n",
            "1358/1358 [==============================] - 1s 1ms/step - loss: 0.1152 - accuracy: 0.8311\n",
            "Epoch 6/10\n",
            "1358/1358 [==============================] - 1s 1ms/step - loss: 0.1133 - accuracy: 0.8354\n",
            "Epoch 7/10\n",
            "1358/1358 [==============================] - 1s 1ms/step - loss: 0.1102 - accuracy: 0.8389\n",
            "Epoch 8/10\n",
            "1358/1358 [==============================] - 2s 1ms/step - loss: 0.1136 - accuracy: 0.8360\n",
            "Epoch 9/10\n",
            "1358/1358 [==============================] - 1s 1ms/step - loss: 0.1099 - accuracy: 0.8420\n",
            "Epoch 10/10\n",
            "1358/1358 [==============================] - 1s 1ms/step - loss: 0.1115 - accuracy: 0.8382\n",
            "Epoch 1/10\n",
            "1358/1358 [==============================] - 2s 1ms/step - loss: 0.1756 - accuracy: 0.7657\n",
            "Epoch 2/10\n",
            "1358/1358 [==============================] - 1s 1ms/step - loss: 0.1222 - accuracy: 0.8279\n",
            "Epoch 3/10\n",
            "1358/1358 [==============================] - 2s 1ms/step - loss: 0.1154 - accuracy: 0.8298\n",
            "Epoch 4/10\n",
            "1358/1358 [==============================] - 1s 1ms/step - loss: 0.1135 - accuracy: 0.8362\n",
            "Epoch 5/10\n",
            "1358/1358 [==============================] - 1s 1ms/step - loss: 0.1118 - accuracy: 0.8372\n",
            "Epoch 6/10\n",
            "1358/1358 [==============================] - 1s 1ms/step - loss: 0.1129 - accuracy: 0.8388\n",
            "Epoch 7/10\n",
            "1358/1358 [==============================] - 2s 1ms/step - loss: 0.1136 - accuracy: 0.8351\n",
            "Epoch 8/10\n",
            "1358/1358 [==============================] - 1s 1ms/step - loss: 0.1128 - accuracy: 0.8387\n",
            "Epoch 9/10\n",
            "1358/1358 [==============================] - 2s 1ms/step - loss: 0.1118 - accuracy: 0.8389\n",
            "Epoch 10/10\n",
            "1358/1358 [==============================] - 1s 1ms/step - loss: 0.1111 - accuracy: 0.8398\n",
            "Epoch 1/10\n",
            "1358/1358 [==============================] - 2s 1ms/step - loss: 0.1658 - accuracy: 0.7729\n",
            "Epoch 2/10\n",
            "1358/1358 [==============================] - 2s 1ms/step - loss: 0.1210 - accuracy: 0.8281\n",
            "Epoch 3/10\n",
            "1358/1358 [==============================] - 2s 1ms/step - loss: 0.1149 - accuracy: 0.8323\n",
            "Epoch 4/10\n",
            "1358/1358 [==============================] - 2s 1ms/step - loss: 0.1125 - accuracy: 0.8384\n",
            "Epoch 5/10\n",
            "1358/1358 [==============================] - 2s 1ms/step - loss: 0.1121 - accuracy: 0.8382\n",
            "Epoch 6/10\n",
            "1358/1358 [==============================] - 2s 1ms/step - loss: 0.1108 - accuracy: 0.8430\n",
            "Epoch 7/10\n",
            "1358/1358 [==============================] - 2s 1ms/step - loss: 0.1103 - accuracy: 0.8427\n",
            "Epoch 8/10\n",
            "1358/1358 [==============================] - 1s 1ms/step - loss: 0.1116 - accuracy: 0.8402\n",
            "Epoch 9/10\n",
            "1358/1358 [==============================] - 2s 1ms/step - loss: 0.1091 - accuracy: 0.8430\n",
            "Epoch 10/10\n",
            "1358/1358 [==============================] - 2s 1ms/step - loss: 0.1089 - accuracy: 0.8430\n",
            "Epoch 1/10\n",
            "1358/1358 [==============================] - 2s 1ms/step - loss: 0.1651 - accuracy: 0.7692\n",
            "Epoch 2/10\n",
            "1358/1358 [==============================] - 2s 1ms/step - loss: 0.1178 - accuracy: 0.8298\n",
            "Epoch 3/10\n",
            "1358/1358 [==============================] - 2s 1ms/step - loss: 0.1161 - accuracy: 0.8312\n",
            "Epoch 4/10\n",
            "1358/1358 [==============================] - 1s 1ms/step - loss: 0.1143 - accuracy: 0.8351\n",
            "Epoch 5/10\n",
            "1358/1358 [==============================] - 2s 1ms/step - loss: 0.1140 - accuracy: 0.8370\n",
            "Epoch 6/10\n",
            "1358/1358 [==============================] - 1s 1ms/step - loss: 0.1132 - accuracy: 0.8384\n",
            "Epoch 7/10\n",
            "1358/1358 [==============================] - 1s 1ms/step - loss: 0.1140 - accuracy: 0.8354\n",
            "Epoch 8/10\n",
            "1358/1358 [==============================] - 1s 1ms/step - loss: 0.1118 - accuracy: 0.8409\n",
            "Epoch 9/10\n",
            "1358/1358 [==============================] - 1s 1ms/step - loss: 0.1100 - accuracy: 0.8441\n",
            "Epoch 10/10\n",
            "1358/1358 [==============================] - 2s 1ms/step - loss: 0.1105 - accuracy: 0.8437\n",
            "Epoch 1/10\n",
            "1358/1358 [==============================] - 2s 1ms/step - loss: 0.1515 - accuracy: 0.7863\n",
            "Epoch 2/10\n",
            "1358/1358 [==============================] - 1s 1ms/step - loss: 0.1178 - accuracy: 0.8316\n",
            "Epoch 3/10\n",
            "1358/1358 [==============================] - 2s 1ms/step - loss: 0.1148 - accuracy: 0.8342\n",
            "Epoch 4/10\n",
            "1358/1358 [==============================] - 1s 1ms/step - loss: 0.1169 - accuracy: 0.8286\n",
            "Epoch 5/10\n",
            "1358/1358 [==============================] - 1s 1ms/step - loss: 0.1143 - accuracy: 0.8344\n",
            "Epoch 6/10\n",
            "1358/1358 [==============================] - 2s 1ms/step - loss: 0.1134 - accuracy: 0.8353\n",
            "Epoch 7/10\n",
            "1358/1358 [==============================] - 1s 1ms/step - loss: 0.1119 - accuracy: 0.8422\n",
            "Epoch 8/10\n",
            "1358/1358 [==============================] - 1s 1ms/step - loss: 0.1113 - accuracy: 0.8403\n",
            "Epoch 9/10\n",
            "1358/1358 [==============================] - 1s 1ms/step - loss: 0.1121 - accuracy: 0.8374\n",
            "Epoch 10/10\n",
            "1358/1358 [==============================] - 2s 1ms/step - loss: 0.1121 - accuracy: 0.8404\n",
            "Epoch 1/10\n",
            "1358/1358 [==============================] - 2s 1ms/step - loss: 0.1533 - accuracy: 0.7792\n",
            "Epoch 2/10\n",
            "1358/1358 [==============================] - 2s 1ms/step - loss: 0.1247 - accuracy: 0.8225\n",
            "Epoch 3/10\n",
            "1358/1358 [==============================] - 2s 1ms/step - loss: 0.1177 - accuracy: 0.8295\n",
            "Epoch 4/10\n",
            "1358/1358 [==============================] - 1s 1ms/step - loss: 0.1164 - accuracy: 0.8291\n",
            "Epoch 5/10\n",
            "1358/1358 [==============================] - 2s 1ms/step - loss: 0.1160 - accuracy: 0.8339\n",
            "Epoch 6/10\n",
            "1358/1358 [==============================] - 2s 1ms/step - loss: 0.1141 - accuracy: 0.8363\n",
            "Epoch 7/10\n",
            "1358/1358 [==============================] - 2s 1ms/step - loss: 0.1138 - accuracy: 0.8368\n",
            "Epoch 8/10\n",
            "1358/1358 [==============================] - 2s 1ms/step - loss: 0.1127 - accuracy: 0.8361\n",
            "Epoch 9/10\n",
            "1358/1358 [==============================] - 1s 1ms/step - loss: 0.1153 - accuracy: 0.8318\n",
            "Epoch 10/10\n",
            "1358/1358 [==============================] - 2s 1ms/step - loss: 0.1143 - accuracy: 0.8314\n",
            "Epoch 1/10\n",
            "1358/1358 [==============================] - 2s 1ms/step - loss: 0.1664 - accuracy: 0.7706\n",
            "Epoch 2/10\n",
            "1358/1358 [==============================] - 2s 1ms/step - loss: 0.1226 - accuracy: 0.8227\n",
            "Epoch 3/10\n",
            "1358/1358 [==============================] - 1s 1ms/step - loss: 0.1162 - accuracy: 0.8282\n",
            "Epoch 4/10\n",
            "1358/1358 [==============================] - 2s 1ms/step - loss: 0.1146 - accuracy: 0.8343\n",
            "Epoch 5/10\n",
            "1358/1358 [==============================] - 2s 1ms/step - loss: 0.1127 - accuracy: 0.8382\n",
            "Epoch 6/10\n",
            "1358/1358 [==============================] - 1s 1ms/step - loss: 0.1151 - accuracy: 0.8346\n",
            "Epoch 7/10\n",
            "1358/1358 [==============================] - 2s 1ms/step - loss: 0.1122 - accuracy: 0.8399\n",
            "Epoch 8/10\n",
            "1358/1358 [==============================] - 2s 1ms/step - loss: 0.1132 - accuracy: 0.8384\n",
            "Epoch 9/10\n",
            "1358/1358 [==============================] - 2s 1ms/step - loss: 0.1123 - accuracy: 0.8392\n",
            "Epoch 10/10\n",
            "1358/1358 [==============================] - 2s 1ms/step - loss: 0.1119 - accuracy: 0.8412\n",
            "Epoch 1/10\n",
            "1358/1358 [==============================] - 2s 1ms/step - loss: 0.1682 - accuracy: 0.7484\n",
            "Epoch 2/10\n",
            "1358/1358 [==============================] - 2s 1ms/step - loss: 0.1191 - accuracy: 0.8282\n",
            "Epoch 3/10\n",
            "1358/1358 [==============================] - 2s 1ms/step - loss: 0.1153 - accuracy: 0.8298\n",
            "Epoch 4/10\n",
            "1358/1358 [==============================] - 1s 1ms/step - loss: 0.1156 - accuracy: 0.8307\n",
            "Epoch 5/10\n",
            "1358/1358 [==============================] - 2s 1ms/step - loss: 0.1143 - accuracy: 0.8369\n",
            "Epoch 6/10\n",
            "1358/1358 [==============================] - 2s 1ms/step - loss: 0.1145 - accuracy: 0.8345\n",
            "Epoch 7/10\n",
            "1358/1358 [==============================] - 1s 1ms/step - loss: 0.1109 - accuracy: 0.8408\n",
            "Epoch 8/10\n",
            "1358/1358 [==============================] - 1s 1ms/step - loss: 0.1127 - accuracy: 0.8362\n",
            "Epoch 9/10\n",
            "1358/1358 [==============================] - 2s 1ms/step - loss: 0.1113 - accuracy: 0.8399\n",
            "Epoch 10/10\n",
            "1358/1358 [==============================] - 2s 1ms/step - loss: 0.1130 - accuracy: 0.8381\n",
            "Keras Classifier - Wrapper : 0.838870 (0.005190)\n"
          ],
          "name": "stdout"
        },
        {
          "output_type": "display_data",
          "data": {
            "image/png": "[encoded data removed]",
            "text/plain": [
              "<Figure size 432x288 with 1 Axes>"
            ]
          },
          "metadata": {
            "tags": [],
            "needs_background": "light"
          }
        }
      ]
    },
    {
      "cell_type": "code",
      "metadata": {
        "colab": {
          "base_uri": "https://localhost:8080/",
          "height": 1000
        },
        "id": "-2kg0B_suBxg",
        "outputId": "28ed5353-0811-4191-e660-552659979ba8"
      },
      "source": [
        "# The Keras on Embedded Method\n",
        "#Best: 0.833267 using {'batch_size': 40, 'epochs': 10, 'init': 'uniform', 'optimizer': 'WAME3'}\n",
        "models3 = []\n",
        "models3.append(('Keras Classifier - Embedded ', KerasClassifier(build_fn=create_model2, batch_size= 40, epochs= 10, init = 'uniform', optimizer='WAME3')))\n",
        "# evaluate the model \n",
        "results = []\n",
        "names = []\n",
        "scoring = 'accuracy'\n",
        "for name, model3 in models3:\n",
        "  kfold = KFold(n_splits=10, random_state=7,shuffle=True) # Using K Fold cross validation\n",
        "  cv_results = cross_val_score(model3, pca_embedded_train_features, Y, cv=kfold, scoring=scoring)\n",
        "  results.append(cv_results)\n",
        "  names.append(name)\n",
        "  msg = \"%s: %f (%f)\" % (name, cv_results.mean(), cv_results.std())\n",
        "  print(msg)\n",
        "# boxplot algorithm comparison\n",
        "fig = pyplot.figure()\n",
        "fig.suptitle('Algorithm Comparison')\n",
        "ax = fig.add_subplot(111)\n",
        "pyplot.boxplot(results)\n",
        "ax.set_xticklabels(names)\n",
        "pyplot.show()"
      ],
      "execution_count": null,
      "outputs": [
        {
          "output_type": "stream",
          "text": [
            "Epoch 1/10\n",
            "679/679 [==============================] - 1s 1ms/step - loss: 0.1882 - accuracy: 0.7562\n",
            "Epoch 2/10\n",
            "679/679 [==============================] - 1s 1ms/step - loss: 0.1308 - accuracy: 0.8096\n",
            "Epoch 3/10\n",
            "679/679 [==============================] - 1s 1ms/step - loss: 0.1262 - accuracy: 0.8161\n",
            "Epoch 4/10\n",
            "679/679 [==============================] - 1s 1ms/step - loss: 0.1203 - accuracy: 0.8230\n",
            "Epoch 5/10\n",
            "679/679 [==============================] - 1s 1ms/step - loss: 0.1168 - accuracy: 0.8272\n",
            "Epoch 6/10\n",
            "679/679 [==============================] - 1s 1ms/step - loss: 0.1169 - accuracy: 0.8262\n",
            "Epoch 7/10\n",
            "679/679 [==============================] - 1s 1ms/step - loss: 0.1166 - accuracy: 0.8248\n",
            "Epoch 8/10\n",
            "679/679 [==============================] - 1s 1ms/step - loss: 0.1151 - accuracy: 0.8264\n",
            "Epoch 9/10\n",
            "679/679 [==============================] - 1s 1ms/step - loss: 0.1136 - accuracy: 0.8304\n",
            "Epoch 10/10\n",
            "679/679 [==============================] - 1s 1ms/step - loss: 0.1152 - accuracy: 0.8304\n",
            "Epoch 1/10\n"
          ],
          "name": "stdout"
        },
        {
          "output_type": "stream",
          "text": [
            "/usr/local/lib/python3.7/dist-packages/tensorflow/python/keras/engine/sequential.py:450: UserWarning: `model.predict_classes()` is deprecated and will be removed after 2021-01-01. Please use instead:* `np.argmax(model.predict(x), axis=-1)`,   if your model does multi-class classification   (e.g. if it uses a `softmax` last-layer activation).* `(model.predict(x) > 0.5).astype(\"int32\")`,   if your model does binary classification   (e.g. if it uses a `sigmoid` last-layer activation).\n",
            "  warnings.warn('`model.predict_classes()` is deprecated and '\n"
          ],
          "name": "stderr"
        },
        {
          "output_type": "stream",
          "text": [
            "679/679 [==============================] - 1s 1ms/step - loss: 0.1937 - accuracy: 0.7531\n",
            "Epoch 2/10\n",
            "679/679 [==============================] - 1s 1ms/step - loss: 0.1328 - accuracy: 0.8088\n",
            "Epoch 3/10\n",
            "679/679 [==============================] - 1s 1ms/step - loss: 0.1293 - accuracy: 0.8162\n",
            "Epoch 4/10\n",
            "679/679 [==============================] - 1s 1ms/step - loss: 0.1263 - accuracy: 0.8245\n",
            "Epoch 5/10\n",
            "679/679 [==============================] - 1s 1ms/step - loss: 0.1281 - accuracy: 0.8206\n",
            "Epoch 6/10\n",
            "679/679 [==============================] - 1s 1ms/step - loss: 0.1251 - accuracy: 0.8252\n",
            "Epoch 7/10\n",
            "679/679 [==============================] - 1s 1ms/step - loss: 0.1260 - accuracy: 0.8232\n",
            "Epoch 8/10\n",
            "679/679 [==============================] - 1s 1ms/step - loss: 0.1226 - accuracy: 0.8263\n",
            "Epoch 9/10\n",
            "679/679 [==============================] - 1s 1ms/step - loss: 0.1250 - accuracy: 0.8241\n",
            "Epoch 10/10\n",
            "679/679 [==============================] - 1s 1ms/step - loss: 0.1220 - accuracy: 0.8282\n",
            "Epoch 1/10\n",
            "679/679 [==============================] - 1s 1ms/step - loss: 0.1902 - accuracy: 0.7312\n",
            "Epoch 2/10\n",
            "679/679 [==============================] - 1s 1ms/step - loss: 0.1265 - accuracy: 0.8199\n",
            "Epoch 3/10\n",
            "679/679 [==============================] - 1s 1ms/step - loss: 0.1245 - accuracy: 0.8236\n",
            "Epoch 4/10\n",
            "679/679 [==============================] - 1s 1ms/step - loss: 0.1192 - accuracy: 0.8271\n",
            "Epoch 5/10\n",
            "679/679 [==============================] - 1s 1ms/step - loss: 0.1161 - accuracy: 0.8294\n",
            "Epoch 6/10\n",
            "679/679 [==============================] - 1s 1ms/step - loss: 0.1157 - accuracy: 0.8301\n",
            "Epoch 7/10\n",
            "679/679 [==============================] - 1s 1ms/step - loss: 0.1124 - accuracy: 0.8374\n",
            "Epoch 8/10\n",
            "679/679 [==============================] - 1s 1ms/step - loss: 0.1132 - accuracy: 0.8354\n",
            "Epoch 9/10\n",
            "679/679 [==============================] - 1s 1ms/step - loss: 0.1119 - accuracy: 0.8369\n",
            "Epoch 10/10\n",
            "679/679 [==============================] - 1s 1ms/step - loss: 0.1153 - accuracy: 0.8335\n",
            "Epoch 1/10\n",
            "679/679 [==============================] - 1s 1ms/step - loss: 0.1887 - accuracy: 0.7296\n",
            "Epoch 2/10\n",
            "679/679 [==============================] - 1s 1ms/step - loss: 0.1311 - accuracy: 0.8130\n",
            "Epoch 3/10\n",
            "679/679 [==============================] - 1s 1ms/step - loss: 0.1272 - accuracy: 0.8260\n",
            "Epoch 4/10\n",
            "679/679 [==============================] - 1s 1ms/step - loss: 0.1222 - accuracy: 0.8272\n",
            "Epoch 5/10\n",
            "679/679 [==============================] - 1s 1ms/step - loss: 0.1228 - accuracy: 0.8208\n",
            "Epoch 6/10\n",
            "679/679 [==============================] - 1s 1ms/step - loss: 0.1196 - accuracy: 0.8247\n",
            "Epoch 7/10\n",
            "679/679 [==============================] - 1s 1ms/step - loss: 0.1174 - accuracy: 0.8256\n",
            "Epoch 8/10\n",
            "679/679 [==============================] - 1s 1ms/step - loss: 0.1175 - accuracy: 0.8251\n",
            "Epoch 9/10\n",
            "679/679 [==============================] - 1s 1ms/step - loss: 0.1171 - accuracy: 0.8271\n",
            "Epoch 10/10\n",
            "679/679 [==============================] - 1s 1ms/step - loss: 0.1145 - accuracy: 0.8318\n",
            "Epoch 1/10\n",
            "679/679 [==============================] - 1s 1ms/step - loss: 0.1908 - accuracy: 0.7416\n",
            "Epoch 2/10\n",
            "679/679 [==============================] - 1s 1ms/step - loss: 0.1334 - accuracy: 0.8107\n",
            "Epoch 3/10\n",
            "679/679 [==============================] - 1s 1ms/step - loss: 0.1268 - accuracy: 0.8245\n",
            "Epoch 4/10\n",
            "679/679 [==============================] - 1s 1ms/step - loss: 0.1267 - accuracy: 0.8219\n",
            "Epoch 5/10\n",
            "679/679 [==============================] - 1s 1ms/step - loss: 0.1223 - accuracy: 0.8292\n",
            "Epoch 6/10\n",
            "679/679 [==============================] - 1s 1ms/step - loss: 0.1228 - accuracy: 0.8240\n",
            "Epoch 7/10\n",
            "679/679 [==============================] - 1s 1ms/step - loss: 0.1211 - accuracy: 0.8268\n",
            "Epoch 8/10\n",
            "679/679 [==============================] - 1s 1ms/step - loss: 0.1183 - accuracy: 0.8302\n",
            "Epoch 9/10\n",
            "679/679 [==============================] - 1s 1ms/step - loss: 0.1182 - accuracy: 0.8285\n",
            "Epoch 10/10\n",
            "679/679 [==============================] - 1s 1ms/step - loss: 0.1174 - accuracy: 0.8281\n",
            "Epoch 1/10\n",
            "679/679 [==============================] - 1s 1ms/step - loss: 0.1779 - accuracy: 0.7651\n",
            "Epoch 2/10\n",
            "679/679 [==============================] - 1s 1ms/step - loss: 0.1298 - accuracy: 0.8135\n",
            "Epoch 3/10\n",
            "679/679 [==============================] - 1s 1ms/step - loss: 0.1226 - accuracy: 0.8212\n",
            "Epoch 4/10\n",
            "679/679 [==============================] - 1s 1ms/step - loss: 0.1166 - accuracy: 0.8269\n",
            "Epoch 5/10\n",
            "679/679 [==============================] - 1s 1ms/step - loss: 0.1169 - accuracy: 0.8263\n",
            "Epoch 6/10\n",
            "679/679 [==============================] - 1s 1ms/step - loss: 0.1143 - accuracy: 0.8310\n",
            "Epoch 7/10\n",
            "679/679 [==============================] - 1s 1ms/step - loss: 0.1135 - accuracy: 0.8338\n",
            "Epoch 8/10\n",
            "679/679 [==============================] - 1s 1ms/step - loss: 0.1128 - accuracy: 0.8351\n",
            "Epoch 9/10\n",
            "679/679 [==============================] - 1s 1ms/step - loss: 0.1140 - accuracy: 0.8336\n",
            "Epoch 10/10\n",
            "679/679 [==============================] - 1s 1ms/step - loss: 0.1106 - accuracy: 0.8388\n",
            "Epoch 1/10\n",
            "679/679 [==============================] - 1s 1ms/step - loss: 0.1851 - accuracy: 0.7448\n",
            "Epoch 2/10\n",
            "679/679 [==============================] - 1s 1ms/step - loss: 0.1323 - accuracy: 0.8162\n",
            "Epoch 3/10\n",
            "679/679 [==============================] - 1s 1ms/step - loss: 0.1273 - accuracy: 0.8209\n",
            "Epoch 4/10\n",
            "679/679 [==============================] - 1s 1ms/step - loss: 0.1255 - accuracy: 0.8193\n",
            "Epoch 5/10\n",
            "679/679 [==============================] - 1s 1ms/step - loss: 0.1212 - accuracy: 0.8268\n",
            "Epoch 6/10\n",
            "679/679 [==============================] - 1s 1ms/step - loss: 0.1203 - accuracy: 0.8238\n",
            "Epoch 7/10\n",
            "679/679 [==============================] - 1s 1ms/step - loss: 0.1183 - accuracy: 0.8261\n",
            "Epoch 8/10\n",
            "679/679 [==============================] - 1s 1ms/step - loss: 0.1173 - accuracy: 0.8259\n",
            "Epoch 9/10\n",
            "679/679 [==============================] - 1s 1ms/step - loss: 0.1163 - accuracy: 0.8295\n",
            "Epoch 10/10\n",
            "679/679 [==============================] - 1s 1ms/step - loss: 0.1132 - accuracy: 0.8337\n",
            "Epoch 1/10\n",
            "679/679 [==============================] - 1s 1ms/step - loss: 0.1858 - accuracy: 0.7507\n",
            "Epoch 2/10\n",
            "679/679 [==============================] - 1s 1ms/step - loss: 0.1326 - accuracy: 0.8149\n",
            "Epoch 3/10\n",
            "679/679 [==============================] - 1s 1ms/step - loss: 0.1270 - accuracy: 0.8222\n",
            "Epoch 4/10\n",
            "679/679 [==============================] - 1s 1ms/step - loss: 0.1270 - accuracy: 0.8227\n",
            "Epoch 5/10\n",
            "679/679 [==============================] - 1s 1ms/step - loss: 0.1240 - accuracy: 0.8264\n",
            "Epoch 6/10\n",
            "679/679 [==============================] - 1s 1ms/step - loss: 0.1276 - accuracy: 0.8221\n",
            "Epoch 7/10\n",
            "679/679 [==============================] - 1s 1ms/step - loss: 0.1244 - accuracy: 0.8278\n",
            "Epoch 8/10\n",
            "679/679 [==============================] - 1s 1ms/step - loss: 0.1250 - accuracy: 0.8240\n",
            "Epoch 9/10\n",
            "679/679 [==============================] - 1s 1ms/step - loss: 0.1209 - accuracy: 0.8305\n",
            "Epoch 10/10\n",
            "679/679 [==============================] - 1s 1ms/step - loss: 0.1224 - accuracy: 0.8241\n",
            "Epoch 1/10\n",
            "679/679 [==============================] - 1s 1ms/step - loss: 0.1740 - accuracy: 0.7716\n",
            "Epoch 2/10\n",
            "679/679 [==============================] - 1s 1ms/step - loss: 0.1310 - accuracy: 0.8164\n",
            "Epoch 3/10\n",
            "679/679 [==============================] - 1s 1ms/step - loss: 0.1283 - accuracy: 0.8218\n",
            "Epoch 4/10\n",
            "679/679 [==============================] - 1s 1ms/step - loss: 0.1285 - accuracy: 0.8200\n",
            "Epoch 5/10\n",
            "679/679 [==============================] - 1s 1ms/step - loss: 0.1292 - accuracy: 0.8175\n",
            "Epoch 6/10\n",
            "679/679 [==============================] - 1s 1ms/step - loss: 0.1268 - accuracy: 0.8239\n",
            "Epoch 7/10\n",
            "679/679 [==============================] - 1s 1ms/step - loss: 0.1250 - accuracy: 0.8263\n",
            "Epoch 8/10\n",
            "679/679 [==============================] - 1s 1ms/step - loss: 0.1268 - accuracy: 0.8237\n",
            "Epoch 9/10\n",
            "679/679 [==============================] - 1s 1ms/step - loss: 0.1278 - accuracy: 0.8199\n",
            "Epoch 10/10\n",
            "679/679 [==============================] - 1s 1ms/step - loss: 0.1262 - accuracy: 0.8251\n",
            "Epoch 1/10\n",
            "679/679 [==============================] - 1s 1ms/step - loss: 0.1744 - accuracy: 0.7671\n",
            "Epoch 2/10\n",
            "679/679 [==============================] - 1s 1ms/step - loss: 0.1326 - accuracy: 0.8170\n",
            "Epoch 3/10\n",
            "679/679 [==============================] - 1s 1ms/step - loss: 0.1291 - accuracy: 0.8217\n",
            "Epoch 4/10\n",
            "679/679 [==============================] - 1s 1ms/step - loss: 0.1292 - accuracy: 0.8207\n",
            "Epoch 5/10\n",
            "679/679 [==============================] - 1s 1ms/step - loss: 0.1290 - accuracy: 0.8196\n",
            "Epoch 6/10\n",
            "679/679 [==============================] - 1s 1ms/step - loss: 0.1274 - accuracy: 0.8240\n",
            "Epoch 7/10\n",
            "679/679 [==============================] - 1s 1ms/step - loss: 0.1257 - accuracy: 0.8231\n",
            "Epoch 8/10\n",
            "679/679 [==============================] - 1s 1ms/step - loss: 0.1258 - accuracy: 0.8238\n",
            "Epoch 9/10\n",
            "679/679 [==============================] - 1s 1ms/step - loss: 0.1252 - accuracy: 0.8221\n",
            "Epoch 10/10\n",
            "679/679 [==============================] - 1s 1ms/step - loss: 0.1210 - accuracy: 0.8257\n",
            "Keras Classifier - Embedded : 0.830349 (0.004915)\n"
          ],
          "name": "stdout"
        },
        {
          "output_type": "display_data",
          "data": {
            "image/png": "[encoded data removed]",
            "text/plain": [
              "<Figure size 432x288 with 1 Axes>"
            ]
          },
          "metadata": {
            "tags": [],
            "needs_background": "light"
          }
        }
      ]
    },
    {
      "cell_type": "markdown",
      "metadata": {
        "id": "zGQ7TJIevlbu"
      },
      "source": [
        "## b) Predicting labels of test data instances and evaluating model based on :\n",
        "\n",
        "(i) Time taken to build model\n",
        "\n",
        "(ii) Time taken to test model\n",
        "\n",
        "(iii) Model Accuracy\n",
        "\n",
        "(iv) Model Error Rate\n",
        "\n",
        "(v) DetectionRate\n",
        "\n",
        "(vi) False Positive\n",
        "\n",
        "(vii) Type II Error\n",
        "\n",
        "(viii) Matthews correlation coefficient (MCC)"
      ]
    },
    {
      "cell_type": "code",
      "metadata": {
        "colab": {
          "base_uri": "https://localhost:8080/"
        },
        "id": "YwzgklanwZy6",
        "outputId": "b7da4922-7bfd-4739-f9e7-cf5db0b4ea7e"
      },
      "source": [
        "# Predicting of Test data of Filter method \n",
        "models1 = []\n",
        "models1.append(('Keras Classifier - Filter Model', KerasClassifier(build_fn=create_model4, batch_size= 20, epochs= 10, init = 'uniform', optimizer='WAME1')))\n",
        "\n",
        "\n",
        "for name, model1 in models1:\n",
        "  print(\"-----------------------------------------------\")\n",
        "  print(\"Model : \", name)\n",
        "  model_start = time.time()\n",
        "  model1.fit(pca_filter_train_features, Y)\n",
        "  print(\"Time to build model (sec) : %.4f \" % round(time.time()-model_start,4))\n",
        "  start = time.time()\n",
        "  predicted = model1.predict(pca_filter_test_features)\n",
        "  print(\"Time to test model (sec) : %.4f \" % round(time.time()-start,4))\n",
        "  matrix = confusion_matrix(Y_t, predicted)\n",
        "  print(\"Time elapsed (sec): %.4f \" % round(time.time()-model_start, 4))\n",
        "  print(matrix)\n",
        "\n",
        "  TN1 = matrix[0][0]\n",
        "  FN1 = matrix[1][0]\n",
        "  FP1 = matrix[0][1]\n",
        "  TP1 = matrix[1][1]\n",
        "\n",
        "  DetectionRate_LR = TP1/(TP1+FN1)\n",
        "  Alarm_LR =   FP1/(FP1+TN1)\n",
        "\n",
        "  # To built a MCC for LR\n",
        "  MCC_num_LR= (TP1*TN1)-(FP1*FN1) \n",
        "  MCC_din_LR= math.sqrt((TP1 + FP1)*(TP1+FN1)*(TN1 + FP1)*(TN1+FN1))\n",
        "\n",
        "  MCC_LR = MCC_num_LR / MCC_din_LR\n",
        "  Acc_LR = (TP1 + TN1) / (TP1+FP1+FN1+TN1)\n",
        "  Err_LR = 1 - Acc_LR\n",
        "  T2_Err = (FN1 / (FN1+TP1))\n",
        "  print(\"Model Accuracy : %s\"%(Acc_LR))\n",
        "  print(\"Model Error Rate : %s\"%(Err_LR))\n",
        "  print(\"Detection Rate :%s\"%(DetectionRate_LR))\n",
        "  print(\"False Positive Type 1 :%s\"%(Alarm_LR))\n",
        "  print(\"Type 2 Error : %s\"%(T2_Err))\n",
        "  print(\"Matthews correlation coefficient (MCC):%s\"%(MCC_LR))"
      ],
      "execution_count": null,
      "outputs": [
        {
          "output_type": "stream",
          "text": [
            "-----------------------------------------------\n",
            "Model :  Keras Classifier - Filter\n",
            "Epoch 1/10\n",
            "1509/1509 [==============================] - 2s 1ms/step - loss: 0.1662 - accuracy: 0.7676\n",
            "Epoch 2/10\n",
            "1509/1509 [==============================] - 2s 1ms/step - loss: 0.1261 - accuracy: 0.8129\n",
            "Epoch 3/10\n",
            "1509/1509 [==============================] - 2s 1ms/step - loss: 0.1234 - accuracy: 0.8133\n",
            "Epoch 4/10\n",
            "1509/1509 [==============================] - 2s 1ms/step - loss: 0.1222 - accuracy: 0.8174\n",
            "Epoch 5/10\n",
            "1509/1509 [==============================] - 2s 1ms/step - loss: 0.1196 - accuracy: 0.8253\n",
            "Epoch 6/10\n",
            "1509/1509 [==============================] - 2s 1ms/step - loss: 0.1192 - accuracy: 0.8229\n",
            "Epoch 7/10\n",
            "1509/1509 [==============================] - 2s 1ms/step - loss: 0.1182 - accuracy: 0.8283\n",
            "Epoch 8/10\n",
            "1509/1509 [==============================] - 2s 1ms/step - loss: 0.1175 - accuracy: 0.8256\n",
            "Epoch 9/10\n",
            "1509/1509 [==============================] - 2s 1ms/step - loss: 0.1146 - accuracy: 0.8304\n",
            "Epoch 10/10\n",
            "1509/1509 [==============================] - 2s 1ms/step - loss: 0.1139 - accuracy: 0.8303\n",
            "Time to build model (sec) : 17.1888 \n"
          ],
          "name": "stdout"
        },
        {
          "output_type": "stream",
          "text": [
            "/usr/local/lib/python3.7/dist-packages/tensorflow/python/keras/engine/sequential.py:450: UserWarning: `model.predict_classes()` is deprecated and will be removed after 2021-01-01. Please use instead:* `np.argmax(model.predict(x), axis=-1)`,   if your model does multi-class classification   (e.g. if it uses a `softmax` last-layer activation).* `(model.predict(x) > 0.5).astype(\"int32\")`,   if your model does binary classification   (e.g. if it uses a `sigmoid` last-layer activation).\n",
            "  warnings.warn('`model.predict_classes()` is deprecated and '\n"
          ],
          "name": "stderr"
        },
        {
          "output_type": "stream",
          "text": [
            "Time to test model (sec) : 0.4599 \n",
            "Time elapsed (sec): 17.6678 \n",
            "[[10538   822]\n",
            " [ 1738  1962]]\n",
            "Model Accuracy : 0.8300132802124834\n",
            "Model Error Rate : 0.16998671978751656\n",
            "Detection Rate :0.5302702702702703\n",
            "False Positive Type 1 :0.07235915492957747\n",
            "Type 2 Error : 0.4697297297297297\n",
            "Matthews correlation coefficient (MCC):0.5078180787927452\n"
          ],
          "name": "stdout"
        }
      ]
    },
    {
      "cell_type": "code",
      "metadata": {
        "colab": {
          "base_uri": "https://localhost:8080/"
        },
        "id": "WoMw1fYSSmfX",
        "outputId": "acfb2618-702c-4e79-8564-4cc0fa481478"
      },
      "source": [
        "# Predicting of Test data of Wrapper method \n",
        "models2 = []\n",
        "models2.append(('Keras Classifier - Wrapper Model', KerasClassifier(build_fn=create_model5, batch_size= 20, epochs= 10, init = 'glorot_uniform', optimizer='WAME4')))\n",
        "\n",
        "\n",
        "for name, model in models:\n",
        "  print(\"-----------------------------------------------\")\n",
        "  print(\"Model : \", name)\n",
        "  model_start = time.time()\n",
        "  model2.fit(pca_wrapper_train_features, Y)\n",
        "  print(\"Time to build model (sec) : %.4f \" % round(time.time()-model_start,4))\n",
        "  start = time.time()\n",
        "  predicted = model2.predict(pca_wrapper_test_features)\n",
        "  print(\"Time to test model (sec) : %.4f \" % round(time.time()-start,4))\n",
        "  matrix = confusion_matrix(Y_t, predicted)\n",
        "  print(\"Time elapsed (sec): %.4f \" % round(time.time()-model_start, 4))\n",
        "  print(matrix)\n",
        "\n",
        "  TN1 = matrix[0][0]\n",
        "  FN1 = matrix[1][0]\n",
        "  FP1 = matrix[0][1]\n",
        "  TP1 = matrix[1][1]\n",
        "\n",
        "  DetectionRate_LR = TP1/(TP1+FN1)\n",
        "  Alarm_LR =   FP1/(FP1+TN1)\n",
        "\n",
        "  # To built a MCC for LR\n",
        "  MCC_num_LR= (TP1*TN1)-(FP1*FN1) \n",
        "  MCC_din_LR= math.sqrt((TP1 + FP1)*(TP1+FN1)*(TN1 + FP1)*(TN1+FN1))\n",
        "\n",
        "  MCC_LR = MCC_num_LR / MCC_din_LR\n",
        "  Acc_LR = (TP1 + TN1) / (TP1+FP1+FN1+TN1)\n",
        "  Err_LR = 1 - Acc_LR\n",
        "  T2_Err = (FN1 / (FN1+TP1))\n",
        "  print(\"Model Accuracy : %s\"%(Acc_LR))\n",
        "  print(\"Model Error Rate : %s\"%(Err_LR))\n",
        "  print(\"Detection Rate :%s\"%(DetectionRate_LR))\n",
        "  print(\"False Positive Type 1 :%s\"%(Alarm_LR))\n",
        "  print(\"Type 2 Error : %s\"%(T2_Err))\n",
        "  print(\"Matthews correlation coefficient (MCC):%s\"%(MCC_LR))"
      ],
      "execution_count": null,
      "outputs": [
        {
          "output_type": "stream",
          "text": [
            "-----------------------------------------------\n",
            "Model :  Keras Classifier - Wrapper\n",
            "Epoch 1/10\n",
            "1509/1509 [==============================] - 2s 1ms/step - loss: 0.1579 - accuracy: 0.7850\n",
            "Epoch 2/10\n",
            "1509/1509 [==============================] - 2s 1ms/step - loss: 0.1195 - accuracy: 0.8291\n",
            "Epoch 3/10\n",
            "1509/1509 [==============================] - 2s 1ms/step - loss: 0.1151 - accuracy: 0.8306\n",
            "Epoch 4/10\n",
            "1509/1509 [==============================] - 2s 1ms/step - loss: 0.1158 - accuracy: 0.8292\n",
            "Epoch 5/10\n",
            "1509/1509 [==============================] - 2s 1ms/step - loss: 0.1144 - accuracy: 0.8275\n",
            "Epoch 6/10\n",
            "1509/1509 [==============================] - 2s 1ms/step - loss: 0.1148 - accuracy: 0.8322\n",
            "Epoch 7/10\n",
            "1509/1509 [==============================] - 2s 1ms/step - loss: 0.1120 - accuracy: 0.8366\n",
            "Epoch 8/10\n",
            "1509/1509 [==============================] - 2s 1ms/step - loss: 0.1127 - accuracy: 0.8357\n",
            "Epoch 9/10\n",
            "1509/1509 [==============================] - 2s 1ms/step - loss: 0.1116 - accuracy: 0.8379\n",
            "Epoch 10/10\n",
            "1509/1509 [==============================] - 2s 1ms/step - loss: 0.1101 - accuracy: 0.8421\n",
            "Time to build model (sec) : 16.7525 \n"
          ],
          "name": "stdout"
        },
        {
          "output_type": "stream",
          "text": [
            "/usr/local/lib/python3.7/dist-packages/tensorflow/python/keras/engine/sequential.py:450: UserWarning: `model.predict_classes()` is deprecated and will be removed after 2021-01-01. Please use instead:* `np.argmax(model.predict(x), axis=-1)`,   if your model does multi-class classification   (e.g. if it uses a `softmax` last-layer activation).* `(model.predict(x) > 0.5).astype(\"int32\")`,   if your model does binary classification   (e.g. if it uses a `sigmoid` last-layer activation).\n",
            "  warnings.warn('`model.predict_classes()` is deprecated and '\n"
          ],
          "name": "stderr"
        },
        {
          "output_type": "stream",
          "text": [
            "Time to test model (sec) : 0.4636 \n",
            "Time elapsed (sec): 17.2323 \n",
            "[[10448   912]\n",
            " [ 1539  2161]]\n",
            "Model Accuracy : 0.8372509960159362\n",
            "Model Error Rate : 0.16274900398406378\n",
            "Detection Rate :0.5840540540540541\n",
            "False Positive Type 1 :0.08028169014084507\n",
            "Type 2 Error : 0.41594594594594597\n",
            "Matthews correlation coefficient (MCC):0.5381307807007474\n"
          ],
          "name": "stdout"
        }
      ]
    },
    {
      "cell_type": "code",
      "metadata": {
        "colab": {
          "base_uri": "https://localhost:8080/"
        },
        "id": "uEympxhUTt3t",
        "outputId": "d0c2e7e9-c618-4cd2-b7c7-315f1ddef31b"
      },
      "source": [
        "# Predicting of Test data of Embedded method \n",
        "models3 = []\n",
        "models3.append(('Keras Classifier - Embedded Model', KerasClassifier(build_fn=create_model6, batch_size= 40, epochs= 10, init = 'uniform', optimizer='WAME3')))\n",
        "\n",
        "\n",
        "for name, model in models:\n",
        "  print(\"-----------------------------------------------\")\n",
        "  print(\"Model : \", name)\n",
        "  model_start = time.time()\n",
        "  model3.fit(pca_embedded_train_features, Y)\n",
        "  print(\"Time to build model (sec) : %.4f \" % round(time.time()-model_start,4))\n",
        "  start = time.time()\n",
        "  predicted = model3.predict(pca_embedded_test_features)\n",
        "  print(\"Time to test model (sec) : %.4f \" % round(time.time()-start,4))\n",
        "  matrix = confusion_matrix(Y_t, predicted)\n",
        "  print(\"Time elapsed (sec): %.4f \" % round(time.time()-model_start, 4))\n",
        "  print(matrix)\n",
        "\n",
        "  TN1 = matrix[0][0]\n",
        "  FN1 = matrix[1][0]\n",
        "  FP1 = matrix[0][1]\n",
        "  TP1 = matrix[1][1]\n",
        "\n",
        "  DetectionRate_LR = TP1/(TP1+FN1)\n",
        "  Alarm_LR =   FP1/(FP1+TN1)\n",
        "\n",
        "  # To built a MCC for LR\n",
        "  MCC_num_LR= (TP1*TN1)-(FP1*FN1) \n",
        "  MCC_din_LR= math.sqrt((TP1 + FP1)*(TP1+FN1)*(TN1 + FP1)*(TN1+FN1))\n",
        "\n",
        "  MCC_LR = MCC_num_LR / MCC_din_LR\n",
        "  Acc_LR = (TP1 + TN1) / (TP1+FP1+FN1+TN1)\n",
        "  Err_LR = 1 - Acc_LR\n",
        "  T2_Err = (FN1 / (FN1+TP1))\n",
        "  print(\"Model Accuracy : %s\"%(Acc_LR))\n",
        "  print(\"Model Error Rate : %s\"%(Err_LR))\n",
        "  print(\"Detection Rate :%s\"%(DetectionRate_LR))\n",
        "  print(\"False Positive Type 1 :%s\"%(Alarm_LR))\n",
        "  print(\"Type 2 Error : %s\"%(T2_Err))\n",
        "  print(\"Matthews correlation coefficient (MCC):%s\"%(MCC_LR))"
      ],
      "execution_count": null,
      "outputs": [
        {
          "output_type": "stream",
          "text": [
            "-----------------------------------------------\n",
            "Model :  Keras Classifier - Embedded\n",
            "Epoch 1/10\n",
            "755/755 [==============================] - 1s 1ms/step - loss: 0.1753 - accuracy: 0.7793\n",
            "Epoch 2/10\n",
            "755/755 [==============================] - 1s 1ms/step - loss: 0.1296 - accuracy: 0.8175\n",
            "Epoch 3/10\n",
            "755/755 [==============================] - 1s 1ms/step - loss: 0.1249 - accuracy: 0.8222\n",
            "Epoch 4/10\n",
            "755/755 [==============================] - 1s 1ms/step - loss: 0.1186 - accuracy: 0.8258\n",
            "Epoch 5/10\n",
            "755/755 [==============================] - 1s 1ms/step - loss: 0.1158 - accuracy: 0.8281\n",
            "Epoch 6/10\n",
            "755/755 [==============================] - 1s 1ms/step - loss: 0.1159 - accuracy: 0.8288\n",
            "Epoch 7/10\n",
            "755/755 [==============================] - 1s 1ms/step - loss: 0.1145 - accuracy: 0.8321\n",
            "Epoch 8/10\n",
            "755/755 [==============================] - 1s 1ms/step - loss: 0.1131 - accuracy: 0.8334\n",
            "Epoch 9/10\n",
            "755/755 [==============================] - 1s 1ms/step - loss: 0.1130 - accuracy: 0.8336\n",
            "Epoch 10/10\n",
            "755/755 [==============================] - 1s 1ms/step - loss: 0.1120 - accuracy: 0.8341\n",
            "Time to build model (sec) : 8.8648 \n"
          ],
          "name": "stdout"
        },
        {
          "output_type": "stream",
          "text": [
            "/usr/local/lib/python3.7/dist-packages/tensorflow/python/keras/engine/sequential.py:450: UserWarning: `model.predict_classes()` is deprecated and will be removed after 2021-01-01. Please use instead:* `np.argmax(model.predict(x), axis=-1)`,   if your model does multi-class classification   (e.g. if it uses a `softmax` last-layer activation).* `(model.predict(x) > 0.5).astype(\"int32\")`,   if your model does binary classification   (e.g. if it uses a `sigmoid` last-layer activation).\n",
            "  warnings.warn('`model.predict_classes()` is deprecated and '\n"
          ],
          "name": "stderr"
        },
        {
          "output_type": "stream",
          "text": [
            "Time to test model (sec) : 0.2903 \n",
            "Time elapsed (sec): 9.1702 \n",
            "[[10369   991]\n",
            " [ 1605  2095]]\n",
            "Model Accuracy : 0.8276228419654714\n",
            "Model Error Rate : 0.17237715803452858\n",
            "Detection Rate :0.5662162162162162\n",
            "False Positive Type 1 :0.08723591549295774\n",
            "Type 2 Error : 0.4337837837837838\n",
            "Matthews correlation coefficient (MCC):0.5108461119040855\n"
          ],
          "name": "stdout"
        }
      ]
    }
  ]
}