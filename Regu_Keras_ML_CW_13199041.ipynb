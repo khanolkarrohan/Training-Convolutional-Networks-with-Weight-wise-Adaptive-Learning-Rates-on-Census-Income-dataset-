{
  "nbformat": 4,
  "nbformat_minor": 0,
  "metadata": {
    "colab": {
      "name": "Regu_Keras_ML_CW_13199041",
      "provenance": [],
      "collapsed_sections": []
    },
    "kernelspec": {
      "display_name": "Python 3",
      "name": "python3"
    },
    "language_info": {
      "name": "python"
    }
  },
  "cells": [
    {
      "cell_type": "code",
      "metadata": {
        "id": "VIdYxi-Re7ZT"
      },
      "source": [
        "import numpy as np\n",
        "import pandas as pd \n",
        "from pandas import read_csv\n",
        "import matplotlib.pyplot as plt\n",
        "import seaborn as sns\n",
        "from keras.layers import Dense, Dropout,Flatten\n",
        "from keras.layers.convolutional import Conv2D, MaxPooling2D\n",
        "from keras.models import Sequential\n",
        "from tensorflow.keras.models import Sequential\n",
        "from keras.layers import Dropout\n",
        "from keras.layers.core import Activation\n",
        "from keras.optimizers import Optimizer\n",
        "from sklearn.preprocessing import LabelBinarizer\n",
        "from keras.utils import to_categorical \n",
        "from keras import backend as K\n",
        "import keras\n",
        "from sklearn.model_selection import train_test_split\n",
        "import keras\n",
        "from keras.models import Sequential\n",
        "from keras.layers import Dense, Conv2D, MaxPooling2D, Flatten, Dropout\n",
        "from sklearn.preprocessing import Normalizer\n",
        "from numpy import reshape\n",
        "from tensorflow.keras import backend\n",
        "from keras.models import Model\n",
        "from keras.layers import Dense, Input\n",
        "from keras.regularizers import l1 , l2, l1_l2 \n",
        "from keras.optimizers import Adam\n",
        "from keras.losses import kullback_leibler_divergence\n",
        "from keras.losses import mean_squared_error\n",
        "from keras.models import Sequential \n",
        "from keras.layers import Dropout\n",
        "from keras.wrappers.scikit_learn import KerasClassifier \n",
        "from sklearn.model_selection import GridSearchCV\n",
        "from sklearn.model_selection import RandomizedSearchCV\n",
        "import tensorflow as tf \n",
        "from sklearn.preprocessing import LabelEncoder\n",
        "from pandas import read_csv\n",
        "import pandas as pd\n",
        "from pandas import set_option\n",
        "import math\n",
        "import time\n",
        "import numpy as np\n",
        "from numpy import set_printoptions\n",
        "from keras.models import Model\n",
        "from keras.layers import Dense, Input\n",
        "from keras.regularizers import l1 \n",
        "from keras.optimizers import Adam\n",
        "from keras.losses import kullback_leibler_divergence\n",
        "from keras.losses import mean_squared_error\n",
        "from keras.models import Sequential \n",
        "from keras.layers import Dropout\n",
        "from keras.wrappers.scikit_learn import KerasClassifier \n",
        "from sklearn.feature_selection import SelectKBest\n",
        "from sklearn.decomposition import PCA\n",
        "from sklearn.preprocessing import StandardScaler\n",
        "from sklearn.model_selection import train_test_split\n",
        "from sklearn.linear_model import LogisticRegression\n",
        "from sklearn.metrics import confusion_matrix\n",
        "from sklearn.feature_selection import RFE , chi2\n",
        "from sklearn.preprocessing import Normalizer\n",
        "from sklearn.ensemble import ExtraTreesClassifier\n",
        "from sklearn.model_selection import KFold\n",
        "from sklearn.model_selection import cross_val_score\n",
        "from sklearn.ensemble import RandomForestClassifier\n",
        "from sklearn.svm import SVC\n",
        "from sklearn.model_selection import GridSearchCV\n",
        "from sklearn.model_selection import RandomizedSearchCV\n",
        "from sklearn.neighbors import KNeighborsClassifier\n",
        "from sklearn.naive_bayes import GaussianNB\n",
        "from sklearn.metrics import mean_squared_error\n",
        "from sklearn.feature_selection import SelectFromModel\n",
        "from scipy.stats import uniform\n",
        "from matplotlib import pyplot\n",
        "import tensorflow as tf \n",
        "import random as python_random\n",
        "from sklearn.decomposition import PCA\n",
        "from sklearn.preprocessing import StandardScaler"
      ],
      "execution_count": null,
      "outputs": []
    },
    {
      "cell_type": "code",
      "metadata": {
        "id": "wW8OIK4ufjiD"
      },
      "source": [
        "# Read the data set \n",
        "filename1 = 'adult.data'\n",
        "filename2 = 'adult.test'\n",
        "names = ('age','workclass','fnlwgt','education','education-num','marital-status','occupation','relationship','race','sex','capital-gain','capital-loss','hours-per-week','native-country','class')\n",
        "sample_train = pd.read_csv(filename1,names= names, na_values=[' ?','?'])\n",
        "sample_test = pd.read_csv(filename2, names= names, na_values=[' ?','?'])"
      ],
      "execution_count": null,
      "outputs": []
    },
    {
      "cell_type": "code",
      "metadata": {
        "colab": {
          "base_uri": "https://localhost:8080/"
        },
        "id": "Bd2Lq0g7xdQs",
        "outputId": "54e81cef-cbd5-4bd5-866c-b5f05519e478"
      },
      "source": [
        "# To see the shape of the  train dataset\n",
        "sample_train.shape"
      ],
      "execution_count": null,
      "outputs": [
        {
          "output_type": "execute_result",
          "data": {
            "text/plain": [
              "(32561, 15)"
            ]
          },
          "metadata": {
            "tags": []
          },
          "execution_count": 3
        }
      ]
    },
    {
      "cell_type": "code",
      "metadata": {
        "colab": {
          "base_uri": "https://localhost:8080/"
        },
        "id": "S5G45jf-0S5q",
        "outputId": "236449c8-4b14-4822-dc44-45b02d08a7f7"
      },
      "source": [
        "# To see the shape of the  test dataset\n",
        "sample_test.shape"
      ],
      "execution_count": null,
      "outputs": [
        {
          "output_type": "execute_result",
          "data": {
            "text/plain": [
              "(16282, 15)"
            ]
          },
          "metadata": {
            "tags": []
          },
          "execution_count": 4
        }
      ]
    },
    {
      "cell_type": "code",
      "metadata": {
        "colab": {
          "base_uri": "https://localhost:8080/"
        },
        "id": "NiF0KreFxhwu",
        "outputId": "bd5eb44d-319c-4e23-8b49-f1fe71815bde"
      },
      "source": [
        "# Here we drop the rows which has ' ?' in the test dataset\n",
        "data_train = sample_train.dropna()\n",
        "data_train.shape"
      ],
      "execution_count": null,
      "outputs": [
        {
          "output_type": "execute_result",
          "data": {
            "text/plain": [
              "(30162, 15)"
            ]
          },
          "metadata": {
            "tags": []
          },
          "execution_count": 5
        }
      ]
    },
    {
      "cell_type": "code",
      "metadata": {
        "colab": {
          "base_uri": "https://localhost:8080/"
        },
        "id": "ZCBkDiDH0JDV",
        "outputId": "e4824a98-c4f6-406f-daf7-0f9542b9fb12"
      },
      "source": [
        "# Here we drop the rows which has ' ?' in the train dataset\n",
        "data_test = sample_test.dropna()\n",
        "data_test.shape"
      ],
      "execution_count": null,
      "outputs": [
        {
          "output_type": "execute_result",
          "data": {
            "text/plain": [
              "(15060, 15)"
            ]
          },
          "metadata": {
            "tags": []
          },
          "execution_count": 6
        }
      ]
    },
    {
      "cell_type": "code",
      "metadata": {
        "colab": {
          "base_uri": "https://localhost:8080/",
          "height": 643
        },
        "id": "pZjG-6bD5NSv",
        "outputId": "7b3a657b-f258-4b38-91d4-668288f875d6"
      },
      "source": [
        "data_train"
      ],
      "execution_count": null,
      "outputs": [
        {
          "output_type": "execute_result",
          "data": {
            "text/html": [
              "<div>\n",
              "<style scoped>\n",
              "    .dataframe tbody tr th:only-of-type {\n",
              "        vertical-align: middle;\n",
              "    }\n",
              "\n",
              "    .dataframe tbody tr th {\n",
              "        vertical-align: top;\n",
              "    }\n",
              "\n",
              "    .dataframe thead th {\n",
              "        text-align: right;\n",
              "    }\n",
              "</style>\n",
              "<table border=\"1\" class=\"dataframe\">\n",
              "  <thead>\n",
              "    <tr style=\"text-align: right;\">\n",
              "      <th></th>\n",
              "      <th>age</th>\n",
              "      <th>workclass</th>\n",
              "      <th>fnlwgt</th>\n",
              "      <th>education</th>\n",
              "      <th>education-num</th>\n",
              "      <th>marital-status</th>\n",
              "      <th>occupation</th>\n",
              "      <th>relationship</th>\n",
              "      <th>race</th>\n",
              "      <th>sex</th>\n",
              "      <th>capital-gain</th>\n",
              "      <th>capital-loss</th>\n",
              "      <th>hours-per-week</th>\n",
              "      <th>native-country</th>\n",
              "      <th>class</th>\n",
              "    </tr>\n",
              "  </thead>\n",
              "  <tbody>\n",
              "    <tr>\n",
              "      <th>0</th>\n",
              "      <td>39</td>\n",
              "      <td>State-gov</td>\n",
              "      <td>77516</td>\n",
              "      <td>Bachelors</td>\n",
              "      <td>13</td>\n",
              "      <td>Never-married</td>\n",
              "      <td>Adm-clerical</td>\n",
              "      <td>Not-in-family</td>\n",
              "      <td>White</td>\n",
              "      <td>Male</td>\n",
              "      <td>2174</td>\n",
              "      <td>0</td>\n",
              "      <td>40</td>\n",
              "      <td>United-States</td>\n",
              "      <td>&lt;=50K</td>\n",
              "    </tr>\n",
              "    <tr>\n",
              "      <th>1</th>\n",
              "      <td>50</td>\n",
              "      <td>Self-emp-not-inc</td>\n",
              "      <td>83311</td>\n",
              "      <td>Bachelors</td>\n",
              "      <td>13</td>\n",
              "      <td>Married-civ-spouse</td>\n",
              "      <td>Exec-managerial</td>\n",
              "      <td>Husband</td>\n",
              "      <td>White</td>\n",
              "      <td>Male</td>\n",
              "      <td>0</td>\n",
              "      <td>0</td>\n",
              "      <td>13</td>\n",
              "      <td>United-States</td>\n",
              "      <td>&lt;=50K</td>\n",
              "    </tr>\n",
              "    <tr>\n",
              "      <th>2</th>\n",
              "      <td>38</td>\n",
              "      <td>Private</td>\n",
              "      <td>215646</td>\n",
              "      <td>HS-grad</td>\n",
              "      <td>9</td>\n",
              "      <td>Divorced</td>\n",
              "      <td>Handlers-cleaners</td>\n",
              "      <td>Not-in-family</td>\n",
              "      <td>White</td>\n",
              "      <td>Male</td>\n",
              "      <td>0</td>\n",
              "      <td>0</td>\n",
              "      <td>40</td>\n",
              "      <td>United-States</td>\n",
              "      <td>&lt;=50K</td>\n",
              "    </tr>\n",
              "    <tr>\n",
              "      <th>3</th>\n",
              "      <td>53</td>\n",
              "      <td>Private</td>\n",
              "      <td>234721</td>\n",
              "      <td>11th</td>\n",
              "      <td>7</td>\n",
              "      <td>Married-civ-spouse</td>\n",
              "      <td>Handlers-cleaners</td>\n",
              "      <td>Husband</td>\n",
              "      <td>Black</td>\n",
              "      <td>Male</td>\n",
              "      <td>0</td>\n",
              "      <td>0</td>\n",
              "      <td>40</td>\n",
              "      <td>United-States</td>\n",
              "      <td>&lt;=50K</td>\n",
              "    </tr>\n",
              "    <tr>\n",
              "      <th>4</th>\n",
              "      <td>28</td>\n",
              "      <td>Private</td>\n",
              "      <td>338409</td>\n",
              "      <td>Bachelors</td>\n",
              "      <td>13</td>\n",
              "      <td>Married-civ-spouse</td>\n",
              "      <td>Prof-specialty</td>\n",
              "      <td>Wife</td>\n",
              "      <td>Black</td>\n",
              "      <td>Female</td>\n",
              "      <td>0</td>\n",
              "      <td>0</td>\n",
              "      <td>40</td>\n",
              "      <td>Cuba</td>\n",
              "      <td>&lt;=50K</td>\n",
              "    </tr>\n",
              "    <tr>\n",
              "      <th>...</th>\n",
              "      <td>...</td>\n",
              "      <td>...</td>\n",
              "      <td>...</td>\n",
              "      <td>...</td>\n",
              "      <td>...</td>\n",
              "      <td>...</td>\n",
              "      <td>...</td>\n",
              "      <td>...</td>\n",
              "      <td>...</td>\n",
              "      <td>...</td>\n",
              "      <td>...</td>\n",
              "      <td>...</td>\n",
              "      <td>...</td>\n",
              "      <td>...</td>\n",
              "      <td>...</td>\n",
              "    </tr>\n",
              "    <tr>\n",
              "      <th>32556</th>\n",
              "      <td>27</td>\n",
              "      <td>Private</td>\n",
              "      <td>257302</td>\n",
              "      <td>Assoc-acdm</td>\n",
              "      <td>12</td>\n",
              "      <td>Married-civ-spouse</td>\n",
              "      <td>Tech-support</td>\n",
              "      <td>Wife</td>\n",
              "      <td>White</td>\n",
              "      <td>Female</td>\n",
              "      <td>0</td>\n",
              "      <td>0</td>\n",
              "      <td>38</td>\n",
              "      <td>United-States</td>\n",
              "      <td>&lt;=50K</td>\n",
              "    </tr>\n",
              "    <tr>\n",
              "      <th>32557</th>\n",
              "      <td>40</td>\n",
              "      <td>Private</td>\n",
              "      <td>154374</td>\n",
              "      <td>HS-grad</td>\n",
              "      <td>9</td>\n",
              "      <td>Married-civ-spouse</td>\n",
              "      <td>Machine-op-inspct</td>\n",
              "      <td>Husband</td>\n",
              "      <td>White</td>\n",
              "      <td>Male</td>\n",
              "      <td>0</td>\n",
              "      <td>0</td>\n",
              "      <td>40</td>\n",
              "      <td>United-States</td>\n",
              "      <td>&gt;50K</td>\n",
              "    </tr>\n",
              "    <tr>\n",
              "      <th>32558</th>\n",
              "      <td>58</td>\n",
              "      <td>Private</td>\n",
              "      <td>151910</td>\n",
              "      <td>HS-grad</td>\n",
              "      <td>9</td>\n",
              "      <td>Widowed</td>\n",
              "      <td>Adm-clerical</td>\n",
              "      <td>Unmarried</td>\n",
              "      <td>White</td>\n",
              "      <td>Female</td>\n",
              "      <td>0</td>\n",
              "      <td>0</td>\n",
              "      <td>40</td>\n",
              "      <td>United-States</td>\n",
              "      <td>&lt;=50K</td>\n",
              "    </tr>\n",
              "    <tr>\n",
              "      <th>32559</th>\n",
              "      <td>22</td>\n",
              "      <td>Private</td>\n",
              "      <td>201490</td>\n",
              "      <td>HS-grad</td>\n",
              "      <td>9</td>\n",
              "      <td>Never-married</td>\n",
              "      <td>Adm-clerical</td>\n",
              "      <td>Own-child</td>\n",
              "      <td>White</td>\n",
              "      <td>Male</td>\n",
              "      <td>0</td>\n",
              "      <td>0</td>\n",
              "      <td>20</td>\n",
              "      <td>United-States</td>\n",
              "      <td>&lt;=50K</td>\n",
              "    </tr>\n",
              "    <tr>\n",
              "      <th>32560</th>\n",
              "      <td>52</td>\n",
              "      <td>Self-emp-inc</td>\n",
              "      <td>287927</td>\n",
              "      <td>HS-grad</td>\n",
              "      <td>9</td>\n",
              "      <td>Married-civ-spouse</td>\n",
              "      <td>Exec-managerial</td>\n",
              "      <td>Wife</td>\n",
              "      <td>White</td>\n",
              "      <td>Female</td>\n",
              "      <td>15024</td>\n",
              "      <td>0</td>\n",
              "      <td>40</td>\n",
              "      <td>United-States</td>\n",
              "      <td>&gt;50K</td>\n",
              "    </tr>\n",
              "  </tbody>\n",
              "</table>\n",
              "<p>30162 rows × 15 columns</p>\n",
              "</div>"
            ],
            "text/plain": [
              "       age          workclass  fnlwgt  ... hours-per-week  native-country   class\n",
              "0       39          State-gov   77516  ...             40   United-States   <=50K\n",
              "1       50   Self-emp-not-inc   83311  ...             13   United-States   <=50K\n",
              "2       38            Private  215646  ...             40   United-States   <=50K\n",
              "3       53            Private  234721  ...             40   United-States   <=50K\n",
              "4       28            Private  338409  ...             40            Cuba   <=50K\n",
              "...    ...                ...     ...  ...            ...             ...     ...\n",
              "32556   27            Private  257302  ...             38   United-States   <=50K\n",
              "32557   40            Private  154374  ...             40   United-States    >50K\n",
              "32558   58            Private  151910  ...             40   United-States   <=50K\n",
              "32559   22            Private  201490  ...             20   United-States   <=50K\n",
              "32560   52       Self-emp-inc  287927  ...             40   United-States    >50K\n",
              "\n",
              "[30162 rows x 15 columns]"
            ]
          },
          "metadata": {
            "tags": []
          },
          "execution_count": 7
        }
      ]
    },
    {
      "cell_type": "code",
      "metadata": {
        "colab": {
          "base_uri": "https://localhost:8080/",
          "height": 660
        },
        "id": "ZMWwRfhJSpzl",
        "outputId": "410a7e13-533b-4ad8-95eb-9508dbe54668"
      },
      "source": [
        "data_test"
      ],
      "execution_count": null,
      "outputs": [
        {
          "output_type": "execute_result",
          "data": {
            "text/html": [
              "<div>\n",
              "<style scoped>\n",
              "    .dataframe tbody tr th:only-of-type {\n",
              "        vertical-align: middle;\n",
              "    }\n",
              "\n",
              "    .dataframe tbody tr th {\n",
              "        vertical-align: top;\n",
              "    }\n",
              "\n",
              "    .dataframe thead th {\n",
              "        text-align: right;\n",
              "    }\n",
              "</style>\n",
              "<table border=\"1\" class=\"dataframe\">\n",
              "  <thead>\n",
              "    <tr style=\"text-align: right;\">\n",
              "      <th></th>\n",
              "      <th>age</th>\n",
              "      <th>workclass</th>\n",
              "      <th>fnlwgt</th>\n",
              "      <th>education</th>\n",
              "      <th>education-num</th>\n",
              "      <th>marital-status</th>\n",
              "      <th>occupation</th>\n",
              "      <th>relationship</th>\n",
              "      <th>race</th>\n",
              "      <th>sex</th>\n",
              "      <th>capital-gain</th>\n",
              "      <th>capital-loss</th>\n",
              "      <th>hours-per-week</th>\n",
              "      <th>native-country</th>\n",
              "      <th>class</th>\n",
              "    </tr>\n",
              "  </thead>\n",
              "  <tbody>\n",
              "    <tr>\n",
              "      <th>1</th>\n",
              "      <td>25</td>\n",
              "      <td>Private</td>\n",
              "      <td>226802.0</td>\n",
              "      <td>11th</td>\n",
              "      <td>7.0</td>\n",
              "      <td>Never-married</td>\n",
              "      <td>Machine-op-inspct</td>\n",
              "      <td>Own-child</td>\n",
              "      <td>Black</td>\n",
              "      <td>Male</td>\n",
              "      <td>0.0</td>\n",
              "      <td>0.0</td>\n",
              "      <td>40.0</td>\n",
              "      <td>United-States</td>\n",
              "      <td>&lt;=50K.</td>\n",
              "    </tr>\n",
              "    <tr>\n",
              "      <th>2</th>\n",
              "      <td>38</td>\n",
              "      <td>Private</td>\n",
              "      <td>89814.0</td>\n",
              "      <td>HS-grad</td>\n",
              "      <td>9.0</td>\n",
              "      <td>Married-civ-spouse</td>\n",
              "      <td>Farming-fishing</td>\n",
              "      <td>Husband</td>\n",
              "      <td>White</td>\n",
              "      <td>Male</td>\n",
              "      <td>0.0</td>\n",
              "      <td>0.0</td>\n",
              "      <td>50.0</td>\n",
              "      <td>United-States</td>\n",
              "      <td>&lt;=50K.</td>\n",
              "    </tr>\n",
              "    <tr>\n",
              "      <th>3</th>\n",
              "      <td>28</td>\n",
              "      <td>Local-gov</td>\n",
              "      <td>336951.0</td>\n",
              "      <td>Assoc-acdm</td>\n",
              "      <td>12.0</td>\n",
              "      <td>Married-civ-spouse</td>\n",
              "      <td>Protective-serv</td>\n",
              "      <td>Husband</td>\n",
              "      <td>White</td>\n",
              "      <td>Male</td>\n",
              "      <td>0.0</td>\n",
              "      <td>0.0</td>\n",
              "      <td>40.0</td>\n",
              "      <td>United-States</td>\n",
              "      <td>&gt;50K.</td>\n",
              "    </tr>\n",
              "    <tr>\n",
              "      <th>4</th>\n",
              "      <td>44</td>\n",
              "      <td>Private</td>\n",
              "      <td>160323.0</td>\n",
              "      <td>Some-college</td>\n",
              "      <td>10.0</td>\n",
              "      <td>Married-civ-spouse</td>\n",
              "      <td>Machine-op-inspct</td>\n",
              "      <td>Husband</td>\n",
              "      <td>Black</td>\n",
              "      <td>Male</td>\n",
              "      <td>7688.0</td>\n",
              "      <td>0.0</td>\n",
              "      <td>40.0</td>\n",
              "      <td>United-States</td>\n",
              "      <td>&gt;50K.</td>\n",
              "    </tr>\n",
              "    <tr>\n",
              "      <th>6</th>\n",
              "      <td>34</td>\n",
              "      <td>Private</td>\n",
              "      <td>198693.0</td>\n",
              "      <td>10th</td>\n",
              "      <td>6.0</td>\n",
              "      <td>Never-married</td>\n",
              "      <td>Other-service</td>\n",
              "      <td>Not-in-family</td>\n",
              "      <td>White</td>\n",
              "      <td>Male</td>\n",
              "      <td>0.0</td>\n",
              "      <td>0.0</td>\n",
              "      <td>30.0</td>\n",
              "      <td>United-States</td>\n",
              "      <td>&lt;=50K.</td>\n",
              "    </tr>\n",
              "    <tr>\n",
              "      <th>...</th>\n",
              "      <td>...</td>\n",
              "      <td>...</td>\n",
              "      <td>...</td>\n",
              "      <td>...</td>\n",
              "      <td>...</td>\n",
              "      <td>...</td>\n",
              "      <td>...</td>\n",
              "      <td>...</td>\n",
              "      <td>...</td>\n",
              "      <td>...</td>\n",
              "      <td>...</td>\n",
              "      <td>...</td>\n",
              "      <td>...</td>\n",
              "      <td>...</td>\n",
              "      <td>...</td>\n",
              "    </tr>\n",
              "    <tr>\n",
              "      <th>16276</th>\n",
              "      <td>33</td>\n",
              "      <td>Private</td>\n",
              "      <td>245211.0</td>\n",
              "      <td>Bachelors</td>\n",
              "      <td>13.0</td>\n",
              "      <td>Never-married</td>\n",
              "      <td>Prof-specialty</td>\n",
              "      <td>Own-child</td>\n",
              "      <td>White</td>\n",
              "      <td>Male</td>\n",
              "      <td>0.0</td>\n",
              "      <td>0.0</td>\n",
              "      <td>40.0</td>\n",
              "      <td>United-States</td>\n",
              "      <td>&lt;=50K.</td>\n",
              "    </tr>\n",
              "    <tr>\n",
              "      <th>16277</th>\n",
              "      <td>39</td>\n",
              "      <td>Private</td>\n",
              "      <td>215419.0</td>\n",
              "      <td>Bachelors</td>\n",
              "      <td>13.0</td>\n",
              "      <td>Divorced</td>\n",
              "      <td>Prof-specialty</td>\n",
              "      <td>Not-in-family</td>\n",
              "      <td>White</td>\n",
              "      <td>Female</td>\n",
              "      <td>0.0</td>\n",
              "      <td>0.0</td>\n",
              "      <td>36.0</td>\n",
              "      <td>United-States</td>\n",
              "      <td>&lt;=50K.</td>\n",
              "    </tr>\n",
              "    <tr>\n",
              "      <th>16279</th>\n",
              "      <td>38</td>\n",
              "      <td>Private</td>\n",
              "      <td>374983.0</td>\n",
              "      <td>Bachelors</td>\n",
              "      <td>13.0</td>\n",
              "      <td>Married-civ-spouse</td>\n",
              "      <td>Prof-specialty</td>\n",
              "      <td>Husband</td>\n",
              "      <td>White</td>\n",
              "      <td>Male</td>\n",
              "      <td>0.0</td>\n",
              "      <td>0.0</td>\n",
              "      <td>50.0</td>\n",
              "      <td>United-States</td>\n",
              "      <td>&lt;=50K.</td>\n",
              "    </tr>\n",
              "    <tr>\n",
              "      <th>16280</th>\n",
              "      <td>44</td>\n",
              "      <td>Private</td>\n",
              "      <td>83891.0</td>\n",
              "      <td>Bachelors</td>\n",
              "      <td>13.0</td>\n",
              "      <td>Divorced</td>\n",
              "      <td>Adm-clerical</td>\n",
              "      <td>Own-child</td>\n",
              "      <td>Asian-Pac-Islander</td>\n",
              "      <td>Male</td>\n",
              "      <td>5455.0</td>\n",
              "      <td>0.0</td>\n",
              "      <td>40.0</td>\n",
              "      <td>United-States</td>\n",
              "      <td>&lt;=50K.</td>\n",
              "    </tr>\n",
              "    <tr>\n",
              "      <th>16281</th>\n",
              "      <td>35</td>\n",
              "      <td>Self-emp-inc</td>\n",
              "      <td>182148.0</td>\n",
              "      <td>Bachelors</td>\n",
              "      <td>13.0</td>\n",
              "      <td>Married-civ-spouse</td>\n",
              "      <td>Exec-managerial</td>\n",
              "      <td>Husband</td>\n",
              "      <td>White</td>\n",
              "      <td>Male</td>\n",
              "      <td>0.0</td>\n",
              "      <td>0.0</td>\n",
              "      <td>60.0</td>\n",
              "      <td>United-States</td>\n",
              "      <td>&gt;50K.</td>\n",
              "    </tr>\n",
              "  </tbody>\n",
              "</table>\n",
              "<p>15060 rows × 15 columns</p>\n",
              "</div>"
            ],
            "text/plain": [
              "      age      workclass    fnlwgt  ... hours-per-week  native-country    class\n",
              "1      25        Private  226802.0  ...           40.0   United-States   <=50K.\n",
              "2      38        Private   89814.0  ...           50.0   United-States   <=50K.\n",
              "3      28      Local-gov  336951.0  ...           40.0   United-States    >50K.\n",
              "4      44        Private  160323.0  ...           40.0   United-States    >50K.\n",
              "6      34        Private  198693.0  ...           30.0   United-States   <=50K.\n",
              "...    ..            ...       ...  ...            ...             ...      ...\n",
              "16276  33        Private  245211.0  ...           40.0   United-States   <=50K.\n",
              "16277  39        Private  215419.0  ...           36.0   United-States   <=50K.\n",
              "16279  38        Private  374983.0  ...           50.0   United-States   <=50K.\n",
              "16280  44        Private   83891.0  ...           40.0   United-States   <=50K.\n",
              "16281  35   Self-emp-inc  182148.0  ...           60.0   United-States    >50K.\n",
              "\n",
              "[15060 rows x 15 columns]"
            ]
          },
          "metadata": {
            "tags": []
          },
          "execution_count": 8
        }
      ]
    },
    {
      "cell_type": "code",
      "metadata": {
        "colab": {
          "base_uri": "https://localhost:8080/"
        },
        "id": "sSJ3iQEZ0oNi",
        "outputId": "043c8c99-dde3-483c-dacc-e018b7cf9ee3"
      },
      "source": [
        "# Here we check if there are any '?' values in any of the features\n",
        "for c in names:\n",
        "  print(c)\n",
        "  print(data_train[c].value_counts())\n"
      ],
      "execution_count": null,
      "outputs": [
        {
          "output_type": "stream",
          "text": [
            "age\n",
            "36    852\n",
            "31    851\n",
            "33    837\n",
            "34    836\n",
            "35    828\n",
            "     ... \n",
            "82      7\n",
            "83      5\n",
            "88      3\n",
            "85      3\n",
            "86      1\n",
            "Name: age, Length: 72, dtype: int64\n",
            "workclass\n",
            " Private             22286\n",
            " Self-emp-not-inc     2499\n",
            " Local-gov            2067\n",
            " State-gov            1279\n",
            " Self-emp-inc         1074\n",
            " Federal-gov           943\n",
            " Without-pay            14\n",
            "Name: workclass, dtype: int64\n",
            "fnlwgt\n",
            "203488    13\n",
            "113364    12\n",
            "164190    12\n",
            "123011    12\n",
            "148995    12\n",
            "          ..\n",
            "34393      1\n",
            "288341     1\n",
            "239415     1\n",
            "118352     1\n",
            "229376     1\n",
            "Name: fnlwgt, Length: 20263, dtype: int64\n",
            "education\n",
            " HS-grad         9840\n",
            " Some-college    6678\n",
            " Bachelors       5044\n",
            " Masters         1627\n",
            " Assoc-voc       1307\n",
            " 11th            1048\n",
            " Assoc-acdm      1008\n",
            " 10th             820\n",
            " 7th-8th          557\n",
            " Prof-school      542\n",
            " 9th              455\n",
            " 12th             377\n",
            " Doctorate        375\n",
            " 5th-6th          288\n",
            " 1st-4th          151\n",
            " Preschool         45\n",
            "Name: education, dtype: int64\n",
            "education-num\n",
            "9     9840\n",
            "10    6678\n",
            "13    5044\n",
            "14    1627\n",
            "11    1307\n",
            "7     1048\n",
            "12    1008\n",
            "6      820\n",
            "4      557\n",
            "15     542\n",
            "5      455\n",
            "8      377\n",
            "16     375\n",
            "3      288\n",
            "2      151\n",
            "1       45\n",
            "Name: education-num, dtype: int64\n",
            "marital-status\n",
            " Married-civ-spouse       14065\n",
            " Never-married             9726\n",
            " Divorced                  4214\n",
            " Separated                  939\n",
            " Widowed                    827\n",
            " Married-spouse-absent      370\n",
            " Married-AF-spouse           21\n",
            "Name: marital-status, dtype: int64\n",
            "occupation\n",
            " Prof-specialty       4038\n",
            " Craft-repair         4030\n",
            " Exec-managerial      3992\n",
            " Adm-clerical         3721\n",
            " Sales                3584\n",
            " Other-service        3212\n",
            " Machine-op-inspct    1966\n",
            " Transport-moving     1572\n",
            " Handlers-cleaners    1350\n",
            " Farming-fishing       989\n",
            " Tech-support          912\n",
            " Protective-serv       644\n",
            " Priv-house-serv       143\n",
            " Armed-Forces            9\n",
            "Name: occupation, dtype: int64\n",
            "relationship\n",
            " Husband           12463\n",
            " Not-in-family      7726\n",
            " Own-child          4466\n",
            " Unmarried          3212\n",
            " Wife               1406\n",
            " Other-relative      889\n",
            "Name: relationship, dtype: int64\n",
            "race\n",
            " White                 25933\n",
            " Black                  2817\n",
            " Asian-Pac-Islander      895\n",
            " Amer-Indian-Eskimo      286\n",
            " Other                   231\n",
            "Name: race, dtype: int64\n",
            "sex\n",
            " Male      20380\n",
            " Female     9782\n",
            "Name: sex, dtype: int64\n",
            "capital-gain\n",
            "0        27624\n",
            "15024      337\n",
            "7688       270\n",
            "7298       240\n",
            "99999      148\n",
            "         ...  \n",
            "401          1\n",
            "22040        1\n",
            "4931         1\n",
            "1455         1\n",
            "1639         1\n",
            "Name: capital-gain, Length: 118, dtype: int64\n",
            "capital-loss\n",
            "0       28735\n",
            "1902      194\n",
            "1977      162\n",
            "1887      155\n",
            "1848       50\n",
            "        ...  \n",
            "419         1\n",
            "1411        1\n",
            "1539        1\n",
            "2472        1\n",
            "2467        1\n",
            "Name: capital-loss, Length: 90, dtype: int64\n",
            "hours-per-week\n",
            "40    14251\n",
            "50     2718\n",
            "45     1753\n",
            "60     1405\n",
            "35     1184\n",
            "      ...  \n",
            "94        1\n",
            "87        1\n",
            "74        1\n",
            "82        1\n",
            "92        1\n",
            "Name: hours-per-week, Length: 94, dtype: int64\n",
            "native-country\n",
            " United-States                 27504\n",
            " Mexico                          610\n",
            " Philippines                     188\n",
            " Germany                         128\n",
            " Puerto-Rico                     109\n",
            " Canada                          107\n",
            " El-Salvador                     100\n",
            " India                           100\n",
            " Cuba                             92\n",
            " England                          86\n",
            " Jamaica                          80\n",
            " South                            71\n",
            " China                            68\n",
            " Italy                            68\n",
            " Dominican-Republic               67\n",
            " Vietnam                          64\n",
            " Guatemala                        63\n",
            " Japan                            59\n",
            " Columbia                         56\n",
            " Poland                           56\n",
            " Iran                             42\n",
            " Taiwan                           42\n",
            " Haiti                            42\n",
            " Portugal                         34\n",
            " Nicaragua                        33\n",
            " Peru                             30\n",
            " Greece                           29\n",
            " France                           27\n",
            " Ecuador                          27\n",
            " Ireland                          24\n",
            " Hong                             19\n",
            " Cambodia                         18\n",
            " Trinadad&Tobago                  18\n",
            " Thailand                         17\n",
            " Laos                             17\n",
            " Yugoslavia                       16\n",
            " Outlying-US(Guam-USVI-etc)       14\n",
            " Hungary                          13\n",
            " Honduras                         12\n",
            " Scotland                         11\n",
            " Holand-Netherlands                1\n",
            "Name: native-country, dtype: int64\n",
            "class\n",
            " <=50K    22654\n",
            " >50K      7508\n",
            "Name: class, dtype: int64\n"
          ],
          "name": "stdout"
        }
      ]
    },
    {
      "cell_type": "code",
      "metadata": {
        "colab": {
          "base_uri": "https://localhost:8080/"
        },
        "id": "mfouFHiSS7Du",
        "outputId": "eb4a2262-e57c-4211-a304-ecb1b8856bae"
      },
      "source": [
        "for c in names:\n",
        "  print(c)\n",
        "  print(data_test[c].value_counts())"
      ],
      "execution_count": null,
      "outputs": [
        {
          "output_type": "stream",
          "text": [
            "age\n",
            "35    444\n",
            "33    442\n",
            "36    431\n",
            "31    423\n",
            "38    420\n",
            "     ... \n",
            "85      2\n",
            "88      2\n",
            "89      1\n",
            "84      1\n",
            "87      1\n",
            "Name: age, Length: 73, dtype: int64\n",
            "workclass\n",
            " Private             11021\n",
            " Self-emp-not-inc     1297\n",
            " Local-gov            1033\n",
            " State-gov             667\n",
            " Self-emp-inc          572\n",
            " Federal-gov           463\n",
            " Without-pay             7\n",
            "Name: workclass, dtype: int64\n",
            "fnlwgt\n",
            "136986.0    9\n",
            "203488.0    8\n",
            "127651.0    8\n",
            "120277.0    8\n",
            "125892.0    8\n",
            "           ..\n",
            "153813.0    1\n",
            "242589.0    1\n",
            "227540.0    1\n",
            "77143.0     1\n",
            "204244.0    1\n",
            "Name: fnlwgt, Length: 11913, dtype: int64\n",
            "education\n",
            " HS-grad         4943\n",
            " Some-college    3221\n",
            " Bachelors       2526\n",
            " Masters          887\n",
            " Assoc-voc        652\n",
            " 11th             571\n",
            " Assoc-acdm       499\n",
            " 10th             403\n",
            " 7th-8th          266\n",
            " Prof-school      243\n",
            " 9th              221\n",
            " 12th             200\n",
            " Doctorate        169\n",
            " 5th-6th          161\n",
            " 1st-4th           71\n",
            " Preschool         27\n",
            "Name: education, dtype: int64\n",
            "education-num\n",
            "9.0     4943\n",
            "10.0    3221\n",
            "13.0    2526\n",
            "14.0     887\n",
            "11.0     652\n",
            "7.0      571\n",
            "12.0     499\n",
            "6.0      403\n",
            "4.0      266\n",
            "15.0     243\n",
            "5.0      221\n",
            "8.0      200\n",
            "16.0     169\n",
            "3.0      161\n",
            "2.0       71\n",
            "1.0       27\n",
            "Name: education-num, dtype: int64\n",
            "marital-status\n",
            " Married-civ-spouse       6990\n",
            " Never-married            4872\n",
            " Divorced                 2083\n",
            " Separated                 472\n",
            " Widowed                   450\n",
            " Married-spouse-absent     182\n",
            " Married-AF-spouse          11\n",
            "Name: marital-status, dtype: int64\n",
            "occupation\n",
            " Exec-managerial      1992\n",
            " Craft-repair         1990\n",
            " Prof-specialty       1970\n",
            " Sales                1824\n",
            " Adm-clerical         1819\n",
            " Other-service        1596\n",
            " Machine-op-inspct    1004\n",
            " Transport-moving      744\n",
            " Handlers-cleaners     696\n",
            " Tech-support          508\n",
            " Farming-fishing       491\n",
            " Protective-serv       332\n",
            " Priv-house-serv        89\n",
            " Armed-Forces            5\n",
            "Name: occupation, dtype: int64\n",
            "relationship\n",
            " Husband           6203\n",
            " Not-in-family     3976\n",
            " Own-child         2160\n",
            " Unmarried         1576\n",
            " Wife               685\n",
            " Other-relative     460\n",
            "Name: relationship, dtype: int64\n",
            "race\n",
            " White                 12970\n",
            " Black                  1411\n",
            " Asian-Pac-Islander      408\n",
            " Amer-Indian-Eskimo      149\n",
            " Other                   122\n",
            "Name: race, dtype: int64\n",
            "sex\n",
            " Male      10147\n",
            " Female     4913\n",
            "Name: sex, dtype: int64\n",
            "capital-gain\n",
            "0.0        13808\n",
            "15024.0      161\n",
            "7688.0       121\n",
            "7298.0       111\n",
            "99999.0       81\n",
            "           ...  \n",
            "41310.0        1\n",
            "991.0          1\n",
            "1173.0         1\n",
            "34095.0        1\n",
            "2062.0         1\n",
            "Name: capital-gain, Length: 110, dtype: int64\n",
            "capital-loss\n",
            "0.0       14347\n",
            "1902.0      100\n",
            "1977.0       84\n",
            "1887.0       73\n",
            "2415.0       23\n",
            "          ...  \n",
            "653.0         1\n",
            "1911.0        1\n",
            "2547.0        1\n",
            "2282.0        1\n",
            "2603.0        1\n",
            "Name: capital-loss, Length: 79, dtype: int64\n",
            "hours-per-week\n",
            "40.0    7107\n",
            "50.0    1376\n",
            "45.0     849\n",
            "60.0     680\n",
            "35.0     592\n",
            "        ... \n",
            "89.0       1\n",
            "69.0       1\n",
            "79.0       1\n",
            "76.0       1\n",
            "73.0       1\n",
            "Name: hours-per-week, Length: 89, dtype: int64\n",
            "native-country\n",
            " United-States                 13788\n",
            " Mexico                          293\n",
            " Philippines                      95\n",
            " Puerto-Rico                      66\n",
            " Germany                          65\n",
            " Canada                           56\n",
            " India                            47\n",
            " El-Salvador                      47\n",
            " China                            45\n",
            " Cuba                             41\n",
            " England                          33\n",
            " Italy                            32\n",
            " South                            30\n",
            " Dominican-Republic               30\n",
            " Japan                            30\n",
            " Portugal                         28\n",
            " Haiti                            27\n",
            " Columbia                         26\n",
            " Poland                           25\n",
            " Guatemala                        23\n",
            " Jamaica                          23\n",
            " Greece                           20\n",
            " Vietnam                          19\n",
            " Ecuador                          16\n",
            " Peru                             15\n",
            " Nicaragua                        15\n",
            " Iran                             14\n",
            " Taiwan                           13\n",
            " Thailand                         12\n",
            " Ireland                          12\n",
            " Scotland                          9\n",
            " Hong                              9\n",
            " France                            9\n",
            " Trinadad&Tobago                   8\n",
            " Outlying-US(Guam-USVI-etc)        8\n",
            " Cambodia                          8\n",
            " Yugoslavia                        7\n",
            " Honduras                          7\n",
            " Hungary                           5\n",
            " Laos                              4\n",
            "Name: native-country, dtype: int64\n",
            "class\n",
            " <=50K.    11360\n",
            " >50K.      3700\n",
            "Name: class, dtype: int64\n"
          ],
          "name": "stdout"
        }
      ]
    },
    {
      "cell_type": "code",
      "metadata": {
        "id": "ZMlY8DGWAAxl"
      },
      "source": [
        "# Using Lable Encoder on train data to convert the Categorical data into Numerical data\n",
        "data_train_new = data_train.apply(LabelEncoder().fit_transform)"
      ],
      "execution_count": null,
      "outputs": []
    },
    {
      "cell_type": "code",
      "metadata": {
        "colab": {
          "base_uri": "https://localhost:8080/",
          "height": 473
        },
        "id": "KxGh35KKAKPe",
        "outputId": "8dee6ff8-3df5-4fd6-c0ee-19418f71eb04"
      },
      "source": [
        "data_train_new\n"
      ],
      "execution_count": null,
      "outputs": [
        {
          "output_type": "execute_result",
          "data": {
            "text/html": [
              "<div>\n",
              "<style scoped>\n",
              "    .dataframe tbody tr th:only-of-type {\n",
              "        vertical-align: middle;\n",
              "    }\n",
              "\n",
              "    .dataframe tbody tr th {\n",
              "        vertical-align: top;\n",
              "    }\n",
              "\n",
              "    .dataframe thead th {\n",
              "        text-align: right;\n",
              "    }\n",
              "</style>\n",
              "<table border=\"1\" class=\"dataframe\">\n",
              "  <thead>\n",
              "    <tr style=\"text-align: right;\">\n",
              "      <th></th>\n",
              "      <th>age</th>\n",
              "      <th>workclass</th>\n",
              "      <th>fnlwgt</th>\n",
              "      <th>education</th>\n",
              "      <th>education-num</th>\n",
              "      <th>marital-status</th>\n",
              "      <th>occupation</th>\n",
              "      <th>relationship</th>\n",
              "      <th>race</th>\n",
              "      <th>sex</th>\n",
              "      <th>capital-gain</th>\n",
              "      <th>capital-loss</th>\n",
              "      <th>hours-per-week</th>\n",
              "      <th>native-country</th>\n",
              "      <th>class</th>\n",
              "    </tr>\n",
              "  </thead>\n",
              "  <tbody>\n",
              "    <tr>\n",
              "      <th>0</th>\n",
              "      <td>22</td>\n",
              "      <td>5</td>\n",
              "      <td>2491</td>\n",
              "      <td>9</td>\n",
              "      <td>12</td>\n",
              "      <td>4</td>\n",
              "      <td>0</td>\n",
              "      <td>1</td>\n",
              "      <td>4</td>\n",
              "      <td>1</td>\n",
              "      <td>24</td>\n",
              "      <td>0</td>\n",
              "      <td>39</td>\n",
              "      <td>38</td>\n",
              "      <td>0</td>\n",
              "    </tr>\n",
              "    <tr>\n",
              "      <th>1</th>\n",
              "      <td>33</td>\n",
              "      <td>4</td>\n",
              "      <td>2727</td>\n",
              "      <td>9</td>\n",
              "      <td>12</td>\n",
              "      <td>2</td>\n",
              "      <td>3</td>\n",
              "      <td>0</td>\n",
              "      <td>4</td>\n",
              "      <td>1</td>\n",
              "      <td>0</td>\n",
              "      <td>0</td>\n",
              "      <td>12</td>\n",
              "      <td>38</td>\n",
              "      <td>0</td>\n",
              "    </tr>\n",
              "    <tr>\n",
              "      <th>2</th>\n",
              "      <td>21</td>\n",
              "      <td>2</td>\n",
              "      <td>13188</td>\n",
              "      <td>11</td>\n",
              "      <td>8</td>\n",
              "      <td>0</td>\n",
              "      <td>5</td>\n",
              "      <td>1</td>\n",
              "      <td>4</td>\n",
              "      <td>1</td>\n",
              "      <td>0</td>\n",
              "      <td>0</td>\n",
              "      <td>39</td>\n",
              "      <td>38</td>\n",
              "      <td>0</td>\n",
              "    </tr>\n",
              "    <tr>\n",
              "      <th>3</th>\n",
              "      <td>36</td>\n",
              "      <td>2</td>\n",
              "      <td>14354</td>\n",
              "      <td>1</td>\n",
              "      <td>6</td>\n",
              "      <td>2</td>\n",
              "      <td>5</td>\n",
              "      <td>0</td>\n",
              "      <td>2</td>\n",
              "      <td>1</td>\n",
              "      <td>0</td>\n",
              "      <td>0</td>\n",
              "      <td>39</td>\n",
              "      <td>38</td>\n",
              "      <td>0</td>\n",
              "    </tr>\n",
              "    <tr>\n",
              "      <th>4</th>\n",
              "      <td>11</td>\n",
              "      <td>2</td>\n",
              "      <td>18120</td>\n",
              "      <td>9</td>\n",
              "      <td>12</td>\n",
              "      <td>2</td>\n",
              "      <td>9</td>\n",
              "      <td>5</td>\n",
              "      <td>2</td>\n",
              "      <td>0</td>\n",
              "      <td>0</td>\n",
              "      <td>0</td>\n",
              "      <td>39</td>\n",
              "      <td>4</td>\n",
              "      <td>0</td>\n",
              "    </tr>\n",
              "    <tr>\n",
              "      <th>...</th>\n",
              "      <td>...</td>\n",
              "      <td>...</td>\n",
              "      <td>...</td>\n",
              "      <td>...</td>\n",
              "      <td>...</td>\n",
              "      <td>...</td>\n",
              "      <td>...</td>\n",
              "      <td>...</td>\n",
              "      <td>...</td>\n",
              "      <td>...</td>\n",
              "      <td>...</td>\n",
              "      <td>...</td>\n",
              "      <td>...</td>\n",
              "      <td>...</td>\n",
              "      <td>...</td>\n",
              "    </tr>\n",
              "    <tr>\n",
              "      <th>32556</th>\n",
              "      <td>10</td>\n",
              "      <td>2</td>\n",
              "      <td>15471</td>\n",
              "      <td>7</td>\n",
              "      <td>11</td>\n",
              "      <td>2</td>\n",
              "      <td>12</td>\n",
              "      <td>5</td>\n",
              "      <td>4</td>\n",
              "      <td>0</td>\n",
              "      <td>0</td>\n",
              "      <td>0</td>\n",
              "      <td>37</td>\n",
              "      <td>38</td>\n",
              "      <td>0</td>\n",
              "    </tr>\n",
              "    <tr>\n",
              "      <th>32557</th>\n",
              "      <td>23</td>\n",
              "      <td>2</td>\n",
              "      <td>7555</td>\n",
              "      <td>11</td>\n",
              "      <td>8</td>\n",
              "      <td>2</td>\n",
              "      <td>6</td>\n",
              "      <td>0</td>\n",
              "      <td>4</td>\n",
              "      <td>1</td>\n",
              "      <td>0</td>\n",
              "      <td>0</td>\n",
              "      <td>39</td>\n",
              "      <td>38</td>\n",
              "      <td>1</td>\n",
              "    </tr>\n",
              "    <tr>\n",
              "      <th>32558</th>\n",
              "      <td>41</td>\n",
              "      <td>2</td>\n",
              "      <td>7377</td>\n",
              "      <td>11</td>\n",
              "      <td>8</td>\n",
              "      <td>6</td>\n",
              "      <td>0</td>\n",
              "      <td>4</td>\n",
              "      <td>4</td>\n",
              "      <td>0</td>\n",
              "      <td>0</td>\n",
              "      <td>0</td>\n",
              "      <td>39</td>\n",
              "      <td>38</td>\n",
              "      <td>0</td>\n",
              "    </tr>\n",
              "    <tr>\n",
              "      <th>32559</th>\n",
              "      <td>5</td>\n",
              "      <td>2</td>\n",
              "      <td>12060</td>\n",
              "      <td>11</td>\n",
              "      <td>8</td>\n",
              "      <td>4</td>\n",
              "      <td>0</td>\n",
              "      <td>3</td>\n",
              "      <td>4</td>\n",
              "      <td>1</td>\n",
              "      <td>0</td>\n",
              "      <td>0</td>\n",
              "      <td>19</td>\n",
              "      <td>38</td>\n",
              "      <td>0</td>\n",
              "    </tr>\n",
              "    <tr>\n",
              "      <th>32560</th>\n",
              "      <td>35</td>\n",
              "      <td>3</td>\n",
              "      <td>16689</td>\n",
              "      <td>11</td>\n",
              "      <td>8</td>\n",
              "      <td>2</td>\n",
              "      <td>3</td>\n",
              "      <td>5</td>\n",
              "      <td>4</td>\n",
              "      <td>0</td>\n",
              "      <td>107</td>\n",
              "      <td>0</td>\n",
              "      <td>39</td>\n",
              "      <td>38</td>\n",
              "      <td>1</td>\n",
              "    </tr>\n",
              "  </tbody>\n",
              "</table>\n",
              "<p>30162 rows × 15 columns</p>\n",
              "</div>"
            ],
            "text/plain": [
              "       age  workclass  fnlwgt  ...  hours-per-week  native-country  class\n",
              "0       22          5    2491  ...              39              38      0\n",
              "1       33          4    2727  ...              12              38      0\n",
              "2       21          2   13188  ...              39              38      0\n",
              "3       36          2   14354  ...              39              38      0\n",
              "4       11          2   18120  ...              39               4      0\n",
              "...    ...        ...     ...  ...             ...             ...    ...\n",
              "32556   10          2   15471  ...              37              38      0\n",
              "32557   23          2    7555  ...              39              38      1\n",
              "32558   41          2    7377  ...              39              38      0\n",
              "32559    5          2   12060  ...              19              38      0\n",
              "32560   35          3   16689  ...              39              38      1\n",
              "\n",
              "[30162 rows x 15 columns]"
            ]
          },
          "metadata": {
            "tags": []
          },
          "execution_count": 12
        }
      ]
    },
    {
      "cell_type": "code",
      "metadata": {
        "id": "ZY84JiCFTr7F"
      },
      "source": [
        "# Using Lable Encoder on train data to convert the Categorical data into Numerical data\n",
        "data_test_new = data_test.apply(LabelEncoder().fit_transform)"
      ],
      "execution_count": null,
      "outputs": []
    },
    {
      "cell_type": "code",
      "metadata": {
        "colab": {
          "base_uri": "https://localhost:8080/",
          "height": 473
        },
        "id": "dYCHC5mHTyAN",
        "outputId": "1bcb71d7-44d4-4468-d16b-06616d388fdf"
      },
      "source": [
        "data_test_new"
      ],
      "execution_count": null,
      "outputs": [
        {
          "output_type": "execute_result",
          "data": {
            "text/html": [
              "<div>\n",
              "<style scoped>\n",
              "    .dataframe tbody tr th:only-of-type {\n",
              "        vertical-align: middle;\n",
              "    }\n",
              "\n",
              "    .dataframe tbody tr th {\n",
              "        vertical-align: top;\n",
              "    }\n",
              "\n",
              "    .dataframe thead th {\n",
              "        text-align: right;\n",
              "    }\n",
              "</style>\n",
              "<table border=\"1\" class=\"dataframe\">\n",
              "  <thead>\n",
              "    <tr style=\"text-align: right;\">\n",
              "      <th></th>\n",
              "      <th>age</th>\n",
              "      <th>workclass</th>\n",
              "      <th>fnlwgt</th>\n",
              "      <th>education</th>\n",
              "      <th>education-num</th>\n",
              "      <th>marital-status</th>\n",
              "      <th>occupation</th>\n",
              "      <th>relationship</th>\n",
              "      <th>race</th>\n",
              "      <th>sex</th>\n",
              "      <th>capital-gain</th>\n",
              "      <th>capital-loss</th>\n",
              "      <th>hours-per-week</th>\n",
              "      <th>native-country</th>\n",
              "      <th>class</th>\n",
              "    </tr>\n",
              "  </thead>\n",
              "  <tbody>\n",
              "    <tr>\n",
              "      <th>1</th>\n",
              "      <td>8</td>\n",
              "      <td>2</td>\n",
              "      <td>8315</td>\n",
              "      <td>1</td>\n",
              "      <td>6</td>\n",
              "      <td>4</td>\n",
              "      <td>6</td>\n",
              "      <td>3</td>\n",
              "      <td>2</td>\n",
              "      <td>1</td>\n",
              "      <td>0</td>\n",
              "      <td>0</td>\n",
              "      <td>39</td>\n",
              "      <td>37</td>\n",
              "      <td>0</td>\n",
              "    </tr>\n",
              "    <tr>\n",
              "      <th>2</th>\n",
              "      <td>21</td>\n",
              "      <td>2</td>\n",
              "      <td>1754</td>\n",
              "      <td>11</td>\n",
              "      <td>8</td>\n",
              "      <td>2</td>\n",
              "      <td>4</td>\n",
              "      <td>0</td>\n",
              "      <td>4</td>\n",
              "      <td>1</td>\n",
              "      <td>0</td>\n",
              "      <td>0</td>\n",
              "      <td>49</td>\n",
              "      <td>37</td>\n",
              "      <td>0</td>\n",
              "    </tr>\n",
              "    <tr>\n",
              "      <th>3</th>\n",
              "      <td>11</td>\n",
              "      <td>1</td>\n",
              "      <td>10750</td>\n",
              "      <td>7</td>\n",
              "      <td>11</td>\n",
              "      <td>2</td>\n",
              "      <td>10</td>\n",
              "      <td>0</td>\n",
              "      <td>4</td>\n",
              "      <td>1</td>\n",
              "      <td>0</td>\n",
              "      <td>0</td>\n",
              "      <td>39</td>\n",
              "      <td>37</td>\n",
              "      <td>1</td>\n",
              "    </tr>\n",
              "    <tr>\n",
              "      <th>4</th>\n",
              "      <td>27</td>\n",
              "      <td>2</td>\n",
              "      <td>4780</td>\n",
              "      <td>15</td>\n",
              "      <td>9</td>\n",
              "      <td>2</td>\n",
              "      <td>6</td>\n",
              "      <td>0</td>\n",
              "      <td>2</td>\n",
              "      <td>1</td>\n",
              "      <td>87</td>\n",
              "      <td>0</td>\n",
              "      <td>39</td>\n",
              "      <td>37</td>\n",
              "      <td>1</td>\n",
              "    </tr>\n",
              "    <tr>\n",
              "      <th>6</th>\n",
              "      <td>17</td>\n",
              "      <td>2</td>\n",
              "      <td>7091</td>\n",
              "      <td>0</td>\n",
              "      <td>5</td>\n",
              "      <td>4</td>\n",
              "      <td>7</td>\n",
              "      <td>1</td>\n",
              "      <td>4</td>\n",
              "      <td>1</td>\n",
              "      <td>0</td>\n",
              "      <td>0</td>\n",
              "      <td>29</td>\n",
              "      <td>37</td>\n",
              "      <td>0</td>\n",
              "    </tr>\n",
              "    <tr>\n",
              "      <th>...</th>\n",
              "      <td>...</td>\n",
              "      <td>...</td>\n",
              "      <td>...</td>\n",
              "      <td>...</td>\n",
              "      <td>...</td>\n",
              "      <td>...</td>\n",
              "      <td>...</td>\n",
              "      <td>...</td>\n",
              "      <td>...</td>\n",
              "      <td>...</td>\n",
              "      <td>...</td>\n",
              "      <td>...</td>\n",
              "      <td>...</td>\n",
              "      <td>...</td>\n",
              "      <td>...</td>\n",
              "    </tr>\n",
              "    <tr>\n",
              "      <th>16276</th>\n",
              "      <td>16</td>\n",
              "      <td>2</td>\n",
              "      <td>8927</td>\n",
              "      <td>9</td>\n",
              "      <td>12</td>\n",
              "      <td>4</td>\n",
              "      <td>9</td>\n",
              "      <td>3</td>\n",
              "      <td>4</td>\n",
              "      <td>1</td>\n",
              "      <td>0</td>\n",
              "      <td>0</td>\n",
              "      <td>39</td>\n",
              "      <td>37</td>\n",
              "      <td>0</td>\n",
              "    </tr>\n",
              "    <tr>\n",
              "      <th>16277</th>\n",
              "      <td>22</td>\n",
              "      <td>2</td>\n",
              "      <td>7893</td>\n",
              "      <td>9</td>\n",
              "      <td>12</td>\n",
              "      <td>0</td>\n",
              "      <td>9</td>\n",
              "      <td>1</td>\n",
              "      <td>4</td>\n",
              "      <td>0</td>\n",
              "      <td>0</td>\n",
              "      <td>0</td>\n",
              "      <td>35</td>\n",
              "      <td>37</td>\n",
              "      <td>0</td>\n",
              "    </tr>\n",
              "    <tr>\n",
              "      <th>16279</th>\n",
              "      <td>21</td>\n",
              "      <td>2</td>\n",
              "      <td>11193</td>\n",
              "      <td>9</td>\n",
              "      <td>12</td>\n",
              "      <td>2</td>\n",
              "      <td>9</td>\n",
              "      <td>0</td>\n",
              "      <td>4</td>\n",
              "      <td>1</td>\n",
              "      <td>0</td>\n",
              "      <td>0</td>\n",
              "      <td>49</td>\n",
              "      <td>37</td>\n",
              "      <td>0</td>\n",
              "    </tr>\n",
              "    <tr>\n",
              "      <th>16280</th>\n",
              "      <td>27</td>\n",
              "      <td>2</td>\n",
              "      <td>1593</td>\n",
              "      <td>9</td>\n",
              "      <td>12</td>\n",
              "      <td>0</td>\n",
              "      <td>0</td>\n",
              "      <td>3</td>\n",
              "      <td>1</td>\n",
              "      <td>1</td>\n",
              "      <td>73</td>\n",
              "      <td>0</td>\n",
              "      <td>39</td>\n",
              "      <td>37</td>\n",
              "      <td>0</td>\n",
              "    </tr>\n",
              "    <tr>\n",
              "      <th>16281</th>\n",
              "      <td>18</td>\n",
              "      <td>3</td>\n",
              "      <td>6062</td>\n",
              "      <td>9</td>\n",
              "      <td>12</td>\n",
              "      <td>2</td>\n",
              "      <td>3</td>\n",
              "      <td>0</td>\n",
              "      <td>4</td>\n",
              "      <td>1</td>\n",
              "      <td>0</td>\n",
              "      <td>0</td>\n",
              "      <td>59</td>\n",
              "      <td>37</td>\n",
              "      <td>1</td>\n",
              "    </tr>\n",
              "  </tbody>\n",
              "</table>\n",
              "<p>15060 rows × 15 columns</p>\n",
              "</div>"
            ],
            "text/plain": [
              "       age  workclass  fnlwgt  ...  hours-per-week  native-country  class\n",
              "1        8          2    8315  ...              39              37      0\n",
              "2       21          2    1754  ...              49              37      0\n",
              "3       11          1   10750  ...              39              37      1\n",
              "4       27          2    4780  ...              39              37      1\n",
              "6       17          2    7091  ...              29              37      0\n",
              "...    ...        ...     ...  ...             ...             ...    ...\n",
              "16276   16          2    8927  ...              39              37      0\n",
              "16277   22          2    7893  ...              35              37      0\n",
              "16279   21          2   11193  ...              49              37      0\n",
              "16280   27          2    1593  ...              39              37      0\n",
              "16281   18          3    6062  ...              59              37      1\n",
              "\n",
              "[15060 rows x 15 columns]"
            ]
          },
          "metadata": {
            "tags": []
          },
          "execution_count": 14
        }
      ]
    },
    {
      "cell_type": "markdown",
      "metadata": {
        "id": "lCpMyMWRT-r7"
      },
      "source": [
        "Splitting train data into array and using MinMaxScaler to scale the data\n",
        " & \n",
        "Splitting test data into array and using MinMaxScaler to scale the data"
      ]
    },
    {
      "cell_type": "code",
      "metadata": {
        "id": "ugv3BRf4CN5c"
      },
      "source": [
        "# Training data \n",
        "from pandas import read_csv\n",
        "from numpy import set_printoptions\n",
        "from sklearn.preprocessing import MinMaxScaler\n",
        "array = data_train_new.values\n",
        "# Seperate array into input and output\n",
        "X = array[:, 0:14]\n",
        "Y = array[:, 14]\n",
        "scaler = MinMaxScaler(feature_range=(0, 1))\n",
        "rX = scaler.fit_transform(X)\n"
      ],
      "execution_count": null,
      "outputs": []
    },
    {
      "cell_type": "code",
      "metadata": {
        "id": "HXfV2qFtUY-q"
      },
      "source": [
        "# FOR Test data\n",
        "array = data_test_new.values\n",
        "# Seperate array into input and output\n",
        "X_t = array[:, 0:14]\n",
        "Y_t = array[:, 14]\n",
        "scaler = MinMaxScaler(feature_range=(0, 1))\n",
        "rX_t = scaler.fit_transform(X_t)"
      ],
      "execution_count": null,
      "outputs": []
    },
    {
      "cell_type": "markdown",
      "metadata": {
        "id": "A3d04GDPWcbv"
      },
      "source": [
        "Filter Method - SelectKBest"
      ]
    },
    {
      "cell_type": "code",
      "metadata": {
        "id": "oNMMOjJLIHR5"
      },
      "source": [
        "from sklearn.feature_selection import SelectKBest\n",
        "from sklearn.feature_selection import chi2\n",
        "# feature extraction\n",
        "#Select k best on train set \n",
        "selectModel = SelectKBest(score_func=chi2, k=9)\n",
        "kBesttrain = selectModel.fit(rX,Y)\n",
        "selectTrainFeatures = kBesttrain.transform(rX)"
      ],
      "execution_count": null,
      "outputs": []
    },
    {
      "cell_type": "code",
      "metadata": {
        "colab": {
          "base_uri": "https://localhost:8080/"
        },
        "id": "2NKHtafhV7Lx",
        "outputId": "f683d386-ec7b-4586-9d4d-61471f8ecabd"
      },
      "source": [
        "selectTrainFeatures.shape"
      ],
      "execution_count": null,
      "outputs": [
        {
          "output_type": "execute_result",
          "data": {
            "text/plain": [
              "(30162, 9)"
            ]
          },
          "metadata": {
            "tags": []
          },
          "execution_count": 18
        }
      ]
    },
    {
      "cell_type": "code",
      "metadata": {
        "id": "Wwk81Ua6VlLJ"
      },
      "source": [
        "#Select k best on test set \n",
        "kBesttest = selectModel.fit(rX_t,Y_t)\n",
        "selectTestFeatures = kBesttest.transform(rX_t)"
      ],
      "execution_count": null,
      "outputs": []
    },
    {
      "cell_type": "code",
      "metadata": {
        "colab": {
          "base_uri": "https://localhost:8080/"
        },
        "id": "c2GU_XTgWAaD",
        "outputId": "da416b06-23e6-4e98-f755-e0225d203292"
      },
      "source": [
        "selectTestFeatures.shape"
      ],
      "execution_count": null,
      "outputs": [
        {
          "output_type": "execute_result",
          "data": {
            "text/plain": [
              "(15060, 9)"
            ]
          },
          "metadata": {
            "tags": []
          },
          "execution_count": 20
        }
      ]
    },
    {
      "cell_type": "markdown",
      "metadata": {
        "id": "q6hfGgKqV3Qo"
      },
      "source": [
        "Wrapper Method - Recurssive Feature Elemination (RFE)"
      ]
    },
    {
      "cell_type": "code",
      "metadata": {
        "id": "1yoDwiszXBmJ"
      },
      "source": [
        "#RFE on train set\n",
        "model_rfe = LogisticRegression(solver='liblinear') \n",
        "rfeModel = RFE(model_rfe, 9) \n",
        "rfeTrain = rfeModel.fit(rX,Y)\n",
        "rfeTrainFeatures = rfeTrain.transform(rX)"
      ],
      "execution_count": null,
      "outputs": []
    },
    {
      "cell_type": "code",
      "metadata": {
        "colab": {
          "base_uri": "https://localhost:8080/"
        },
        "id": "vS9r8X4RXQ_m",
        "outputId": "6c68c9b4-0588-4480-8f7e-65b303a4ca27"
      },
      "source": [
        "rfeTrainFeatures.shape"
      ],
      "execution_count": null,
      "outputs": [
        {
          "output_type": "execute_result",
          "data": {
            "text/plain": [
              "(30162, 9)"
            ]
          },
          "metadata": {
            "tags": []
          },
          "execution_count": 22
        }
      ]
    },
    {
      "cell_type": "code",
      "metadata": {
        "id": "d6I0_fbPXZGT"
      },
      "source": [
        "#RFE on test set\n",
        "rfeTest = rfeModel.fit(rX_t,Y_t)\n",
        "rfeTestFeatures = rfeTest.transform(rX_t)"
      ],
      "execution_count": null,
      "outputs": []
    },
    {
      "cell_type": "code",
      "metadata": {
        "colab": {
          "base_uri": "https://localhost:8080/"
        },
        "id": "SNf3NitLXlUX",
        "outputId": "bac64c99-5872-47e8-a544-05841cdcba6a"
      },
      "source": [
        "rfeTestFeatures.shape"
      ],
      "execution_count": null,
      "outputs": [
        {
          "output_type": "execute_result",
          "data": {
            "text/plain": [
              "(15060, 9)"
            ]
          },
          "metadata": {
            "tags": []
          },
          "execution_count": 24
        }
      ]
    },
    {
      "cell_type": "markdown",
      "metadata": {
        "id": "BfcTjYEXYpkL"
      },
      "source": [
        "Embedded method - using ExtraTreesClassifier"
      ]
    },
    {
      "cell_type": "code",
      "metadata": {
        "id": "MiG2SdaVYuHn"
      },
      "source": [
        "#ExtraTree on train set\n",
        "extraTreeModel = ExtraTreesClassifier(n_estimators=9)\n",
        "exTreeTrain = extraTreeModel.fit(rX, Y)\n",
        "clf_model = SelectFromModel(exTreeTrain, prefit=True)\n",
        "exTreeTrainFeatures = clf_model.transform(rX)"
      ],
      "execution_count": null,
      "outputs": []
    },
    {
      "cell_type": "code",
      "metadata": {
        "colab": {
          "base_uri": "https://localhost:8080/"
        },
        "id": "mO1R9zvBY_oL",
        "outputId": "046c6d80-0610-4f59-8be6-7ae2e303bca4"
      },
      "source": [
        "exTreeTrainFeatures.shape"
      ],
      "execution_count": null,
      "outputs": [
        {
          "output_type": "execute_result",
          "data": {
            "text/plain": [
              "(30162, 7)"
            ]
          },
          "metadata": {
            "tags": []
          },
          "execution_count": 26
        }
      ]
    },
    {
      "cell_type": "code",
      "metadata": {
        "id": "TcQSTfe9Zgv2"
      },
      "source": [
        "#ExtraTree on test set\n",
        "exTreeTest = extraTreeModel.fit(rX_t, Y_t)\n",
        "clf_modeltest = SelectFromModel(exTreeTest, prefit=True)\n",
        "exTreeTestFeatures = clf_modeltest.transform(rX_t)"
      ],
      "execution_count": null,
      "outputs": []
    },
    {
      "cell_type": "code",
      "metadata": {
        "colab": {
          "base_uri": "https://localhost:8080/"
        },
        "id": "UcVknE8lZnM8",
        "outputId": "304f7ced-a69c-40bf-e47c-27a19632f8c4"
      },
      "source": [
        "exTreeTestFeatures.shape"
      ],
      "execution_count": null,
      "outputs": [
        {
          "output_type": "execute_result",
          "data": {
            "text/plain": [
              "(15060, 8)"
            ]
          },
          "metadata": {
            "tags": []
          },
          "execution_count": 28
        }
      ]
    },
    {
      "cell_type": "markdown",
      "metadata": {
        "id": "-mLow_knXrZ6"
      },
      "source": [
        "Principal component Analysis (PCA) from the output of Filter (SelectKBest), Wrapper (RFE) & Embedded (ExtraTreesClassifier)"
      ]
    },
    {
      "cell_type": "markdown",
      "metadata": {
        "id": "nYdy-1RfcfS_"
      },
      "source": [
        "PCA -Filter"
      ]
    },
    {
      "cell_type": "code",
      "metadata": {
        "id": "3IBh5Rk9Zy19"
      },
      "source": [
        "##Principal component Analysis (PCA) from the output of Filter (SelectKBest)\n",
        "pca = PCA(n_components=5, random_state = 7) \n",
        "fit_pca_train = pca.fit(selectTrainFeatures) \n",
        "pca_filter_train_features = fit_pca_train.transform(selectTrainFeatures)"
      ],
      "execution_count": null,
      "outputs": []
    },
    {
      "cell_type": "code",
      "metadata": {
        "id": "GKAbaXFra-uF"
      },
      "source": [
        "## On selected test feature dataset for PCA # \n",
        "fit_pca_test = pca.fit(selectTestFeatures) \n",
        "pca_filter_test_features = fit_pca_test.transform(selectTestFeatures)"
      ],
      "execution_count": null,
      "outputs": []
    },
    {
      "cell_type": "code",
      "metadata": {
        "colab": {
          "base_uri": "https://localhost:8080/"
        },
        "id": "JR3o0OkcbBCc",
        "outputId": "02ae15c5-6d19-4378-d00a-b307912f2213"
      },
      "source": [
        "pca_filter_train_features.shape"
      ],
      "execution_count": null,
      "outputs": [
        {
          "output_type": "execute_result",
          "data": {
            "text/plain": [
              "(30162, 5)"
            ]
          },
          "metadata": {
            "tags": []
          },
          "execution_count": 32
        }
      ]
    },
    {
      "cell_type": "code",
      "metadata": {
        "colab": {
          "base_uri": "https://localhost:8080/"
        },
        "id": "qcc8tv3tbIeB",
        "outputId": "c12fc31b-e89e-4894-c070-188a66dbfe34"
      },
      "source": [
        "pca_filter_test_features.shape"
      ],
      "execution_count": null,
      "outputs": [
        {
          "output_type": "execute_result",
          "data": {
            "text/plain": [
              "(15060, 5)"
            ]
          },
          "metadata": {
            "tags": []
          },
          "execution_count": 33
        }
      ]
    },
    {
      "cell_type": "markdown",
      "metadata": {
        "id": "N8QR-XHOci66"
      },
      "source": [
        "PCA -Wrapper"
      ]
    },
    {
      "cell_type": "code",
      "metadata": {
        "id": "5b7WyY-9bRSx"
      },
      "source": [
        "##Principal component Analysis (PCA) from the output of Wrapper (RFE) \n",
        "fit_pca_train = pca.fit(rfeTrainFeatures) \n",
        "pca_wrapper_train_features = fit_pca_train.transform(rfeTrainFeatures)\n",
        "fit_pca_test = pca.fit(rfeTestFeatures) \n",
        "pca_wrapper_test_features = fit_pca_test.transform(rfeTestFeatures)"
      ],
      "execution_count": null,
      "outputs": []
    },
    {
      "cell_type": "code",
      "metadata": {
        "colab": {
          "base_uri": "https://localhost:8080/"
        },
        "id": "WpH0xsO5cVBh",
        "outputId": "05377c2c-a871-4384-d782-c03cc2ca302f"
      },
      "source": [
        "pca_wrapper_train_features.shape"
      ],
      "execution_count": null,
      "outputs": [
        {
          "output_type": "execute_result",
          "data": {
            "text/plain": [
              "(30162, 5)"
            ]
          },
          "metadata": {
            "tags": []
          },
          "execution_count": 35
        }
      ]
    },
    {
      "cell_type": "code",
      "metadata": {
        "colab": {
          "base_uri": "https://localhost:8080/"
        },
        "id": "4GdP3yLHcX_P",
        "outputId": "e5142255-d423-4216-abe0-3bb5b9ca4a0b"
      },
      "source": [
        "pca_wrapper_test_features.shape"
      ],
      "execution_count": null,
      "outputs": [
        {
          "output_type": "execute_result",
          "data": {
            "text/plain": [
              "(15060, 5)"
            ]
          },
          "metadata": {
            "tags": []
          },
          "execution_count": 36
        }
      ]
    },
    {
      "cell_type": "markdown",
      "metadata": {
        "id": "2eaLw7jrcnre"
      },
      "source": [
        "PCA - Embedded"
      ]
    },
    {
      "cell_type": "code",
      "metadata": {
        "id": "H2ca12Wecs-u"
      },
      "source": [
        "##Principal component Analysis (PCA) from the output of Wrapper (RFE) \n",
        "pca = PCA(n_components=5, random_state = 2) \n",
        "fit_pca_train = pca.fit(exTreeTrainFeatures) \n",
        "pca_embedded_train_features = fit_pca_train.transform(exTreeTrainFeatures)\n",
        "fit_pca_test = pca.fit(exTreeTestFeatures) \n",
        "pca_embedded_test_features = fit_pca_test.transform(exTreeTestFeatures)"
      ],
      "execution_count": null,
      "outputs": []
    },
    {
      "cell_type": "code",
      "metadata": {
        "colab": {
          "base_uri": "https://localhost:8080/"
        },
        "id": "hz1bwS2nft1O",
        "outputId": "c1a3a238-69d5-48e2-abac-668ffd46910f"
      },
      "source": [
        "pca_embedded_train_features.shape"
      ],
      "execution_count": null,
      "outputs": [
        {
          "output_type": "execute_result",
          "data": {
            "text/plain": [
              "(30162, 5)"
            ]
          },
          "metadata": {
            "tags": []
          },
          "execution_count": 38
        }
      ]
    },
    {
      "cell_type": "code",
      "metadata": {
        "colab": {
          "base_uri": "https://localhost:8080/"
        },
        "id": "jn7iv6c3fzyC",
        "outputId": "b0a2881b-9a51-4ab9-ce13-c26d8d12f173"
      },
      "source": [
        "pca_embedded_test_features.shape"
      ],
      "execution_count": null,
      "outputs": [
        {
          "output_type": "execute_result",
          "data": {
            "text/plain": [
              "(15060, 5)"
            ]
          },
          "metadata": {
            "tags": []
          },
          "execution_count": 39
        }
      ]
    },
    {
      "cell_type": "markdown",
      "metadata": {
        "id": "Wq0u5B0Xf4cl"
      },
      "source": [
        "###Using Neural Network Model on the PCA output"
      ]
    },
    {
      "cell_type": "markdown",
      "metadata": {
        "id": "RduO9SkThMjG"
      },
      "source": [
        "Training with PCA - FILTER METHOD output \"pca_filter_train_features \" "
      ]
    },
    {
      "cell_type": "code",
      "metadata": {
        "colab": {
          "base_uri": "https://localhost:8080/"
        },
        "id": "EaLIsicrgCrN",
        "outputId": "5062e512-039e-4ecf-9151-b3d135525a7a"
      },
      "source": [
        "optimizers = ['adam', 'rmsprop']\n",
        "inits = ['uniform', 'glorot_uniform'] \n",
        "epochs = [5, 7, 10]\n",
        "batches = [20, 30, 40]\n",
        "\n",
        "def create_model1(optimizer=optimizers, init=inits):\n",
        "  # creatoe model\n",
        "  mlp_model = Sequential()\n",
        "  mlp_model.add(Dense(12, input_dim= 5, activation='relu')) \n",
        "  mlp_model.add(Dense(10, activation='relu', kernel_regularizer=l2(0.01), bias_regularizer=l2(0.01))) \n",
        "  mlp_model.add(Dense(1, activation='sigmoid',kernel_regularizer=l2(0.01), bias_regularizer=l2(0.01)))\n",
        "\n",
        "  # Compile model\n",
        "  mlp_model.compile(loss = tf.keras.losses.mean_squared_error, metrics=[\"accuracy\"])\n",
        "  return mlp_model\n",
        "\n",
        "# create model\n",
        "model_keras = KerasClassifier(build_fn=create_model1, verbose=0)\n",
        "\n",
        "# grid search epochs, batch size and optimizer\n",
        "param_grid = dict(optimizer= optimizers, epochs=epochs, batch_size=batches, init=inits) \n",
        "grid = GridSearchCV(estimator=model_keras, param_grid=param_grid)\n",
        "grid_result = grid.fit(pca_filter_train_features, Y)\n",
        "\n",
        "# summarize results\n",
        "print(\"Best: %f using %s\" % (grid_result.best_score_, grid_result.best_params_)) "
      ],
      "execution_count": null,
      "outputs": [
        {
          "output_type": "stream",
          "text": [
            "Best: 0.808335 using {'batch_size': 30, 'epochs': 10, 'init': 'glorot_uniform', 'optimizer': 'rmsprop'}\n"
          ],
          "name": "stdout"
        }
      ]
    },
    {
      "cell_type": "markdown",
      "metadata": {
        "id": "1rc-EAeRhqws"
      },
      "source": [
        "Training with PCA - WRPPER METHOD output \"pca_wrapper_filter_features\"\n",
        "\n"
      ]
    },
    {
      "cell_type": "code",
      "metadata": {
        "id": "muyaJG7MiBvN",
        "colab": {
          "base_uri": "https://localhost:8080/"
        },
        "outputId": "2a07a56b-1e91-4f82-9f5d-2661e4c9f1bc"
      },
      "source": [
        "optimizers = ['adam', 'rmsprop']\n",
        "inits = ['uniform', 'glorot_uniform'] \n",
        "epochs = [5, 7, 10]\n",
        "batches = [20, 30, 40]\n",
        "\n",
        "def create_model3(optimizer=optimizers, init=inits):\n",
        "  # creatoe model\n",
        "  mlp_model = Sequential()\n",
        "  mlp_model.add(Dense(12, input_dim= 5, activation='relu')) \n",
        "  mlp_model.add(Dense(10, activation='relu', kernel_regularizer=l2(0.01), bias_regularizer=l2(0.01))) \n",
        "  mlp_model.add(Dense(1, activation='sigmoid',kernel_regularizer=l2(0.01), bias_regularizer=l2(0.01)))\n",
        "\n",
        "  # Compile model\n",
        "  mlp_model.compile(loss = tf.keras.losses.mean_squared_error, metrics=[\"accuracy\"])\n",
        "  return mlp_model\n",
        "\n",
        "# create model\n",
        "model_keras = KerasClassifier(build_fn=create_model3, verbose=0)\n",
        "\n",
        "# grid search epochs, batch size and optimizer\n",
        "param_grid = dict(optimizer= optimizers, epochs=epochs, batch_size=batches, init=inits) \n",
        "grid = GridSearchCV(estimator=model_keras, param_grid=param_grid)\n",
        "grid_result = grid.fit(pca_wrapper_train_features, Y)\n",
        "\n",
        "# summarize results\n",
        "print(\"Best: %f using %s\" % (grid_result.best_score_, grid_result.best_params_)) "
      ],
      "execution_count": null,
      "outputs": [
        {
          "output_type": "stream",
          "text": [
            "Best: 0.827134 using {'batch_size': 30, 'epochs': 10, 'init': 'uniform', 'optimizer': 'adam'}\n"
          ],
          "name": "stdout"
        }
      ]
    },
    {
      "cell_type": "markdown",
      "metadata": {
        "id": "jK1C3kI8ZCZ7"
      },
      "source": [
        "Training with PCA - EMBEDDED METHOD output \"pca_embedded_train_features\""
      ]
    },
    {
      "cell_type": "code",
      "metadata": {
        "colab": {
          "base_uri": "https://localhost:8080/"
        },
        "id": "Zf6q3KamZRHr",
        "outputId": "7b07077e-e05c-4c7e-a889-180e98dd42e2"
      },
      "source": [
        "optimizers = ['adam', 'rmsprop']\n",
        "inits = ['uniform', 'glorot_uniform'] \n",
        "epochs = [5, 7, 10]\n",
        "batches = [20, 30, 40]\n",
        "\n",
        "def create_model4(optimizer=optimizers, init=inits):\n",
        "  # creatoe model\n",
        "  mlp_model = Sequential()\n",
        "  mlp_model.add(Dense(12, input_dim= 5, activation='relu')) \n",
        "  mlp_model.add(Dense(10, activation='relu', kernel_regularizer=l2(0.01), bias_regularizer=l2(0.01))) \n",
        "  mlp_model.add(Dense(1, activation='sigmoid',kernel_regularizer=l2(0.01), bias_regularizer=l2(0.01)))\n",
        "\n",
        "\n",
        "  # Compile model\n",
        "  mlp_model.compile(loss = tf.keras.losses.mean_squared_error, metrics=[\"accuracy\"])\n",
        "  return mlp_model\n",
        "\n",
        "# create model\n",
        "model_keras = KerasClassifier(build_fn=create_model4, verbose=0)\n",
        "\n",
        "# grid search epochs, batch size and optimizer\n",
        "param_grid = dict(optimizer= optimizers, epochs=epochs, batch_size=batches, init=inits) \n",
        "grid = GridSearchCV(estimator=model_keras, param_grid=param_grid)\n",
        "grid_result = grid.fit(pca_embedded_train_features, Y)\n",
        "\n",
        "# summarize results\n",
        "print(\"Best: %f using %s\" % (grid_result.best_score_, grid_result.best_params_)) "
      ],
      "execution_count": null,
      "outputs": [
        {
          "output_type": "stream",
          "text": [
            "Best: 0.815894 using {'batch_size': 30, 'epochs': 10, 'init': 'uniform', 'optimizer': 'rmsprop'}\n"
          ],
          "name": "stdout"
        }
      ]
    },
    {
      "cell_type": "markdown",
      "metadata": {
        "id": "lFndcobgUkxa"
      },
      "source": [
        "###Creating WAME algorithm  with changing Learning Rate  so we create WAME1, WAME2, WAME3, WAME4 "
      ]
    },
    {
      "cell_type": "code",
      "metadata": {
        "id": "Q4aVWA6eUjGC"
      },
      "source": [
        "class WAME1(Optimizer):\n",
        " \n",
        "   def __init__(self, learning_rate=0.001, alpha = 0.9,\n",
        "                epsilon=1e-11, decay=0., eta_plus = 1.2, eta_minus = 0.1,\n",
        "                zeta_min=1e-2, zeta_max=1e2, zeta = 0, eta = 0,\n",
        "                **kwargs):\n",
        "      \n",
        "       super(WAME1, self).__init__(**kwargs)\n",
        "       self.__dict__.update(locals())\n",
        "       self.iterations = K.variable(0)\n",
        "       self.learning_rate = K.variable(learning_rate)\n",
        "       self.alpha = K.variable(alpha)\n",
        "       self.zeta = K.variable(zeta)\n",
        "       self.decay = K.variable(decay)\n",
        "       self.eta_plus = K.variable(eta_plus)\n",
        "       self.eta_minus = K.variable(eta_minus)\n",
        "       self.eta_min = eta_min\n",
        "       self.eta_max = eta_max\n",
        "       self.inital_decay = decay\n",
        "   \n",
        "   def get_updates(self, params, loss): # everything betweem 4 and 12\n",
        "                                       # \"the for loop in the paper\"\n",
        " \n",
        "       grads = self.get_gradients(loss, params)\n",
        "       self.updates = [K.update_add(self.iterations, 1)]\n",
        "       # 4\n",
        "       lr = self.learning_rate\n",
        "       if self.inital_decay > 0:\n",
        "           lr *= (1. / (1. + self.decay * self.iterations))\n",
        " \n",
        "       t = self.iterations + 1\n",
        " \n",
        "       shapes = [K.int_shape(p) for p in params]\n",
        "       prev_grads = [K.zeros(shape) for shape in shapes]\n",
        "       prev_param = [K.zeros(shape) for shape in shapes]\n",
        "       ms = [K.zeros(shape) for shape in shapes]\n",
        "       vs = [K.zeros(shape) for shape in shapes]\n",
        "       accs = [K.ones(shape) for shape in shapes]\n",
        "       acc_ms = [K.ones(shape) for shape in shapes]\n",
        "       acc_vs = [K.ones(shape) for shape in shapes]\n",
        "       self.weights = [self.iterations] + ms + vs\n",
        " \n",
        "       for p, g, m, v, a, am, av, pg, pp in zip(params, grads, ms, vs, accs,\n",
        "               acc_ms, acc_vs, prev_grads, prev_param):\n",
        " \n",
        "           change = pg * g #4 & 6\n",
        "           change_below_zero = K.less(change,0.) #true or false\n",
        "           change_above_zero = K.greater(change,0.) #true or false\n",
        "           zeeta = K.switch(\n",
        "               change_below_zero, # if we jump to line 6\n",
        "               a * self.eta_minus, # use line 7\n",
        "               K.switch(change_above_zero,  # if line 4 if true\n",
        "                        a * self.eta_plus, # line 5 \n",
        "                        a) # otheriwse leave a as it was\n",
        "             \n",
        "           )\n",
        "           a_clipped = K.clip(zeeta, self.eta_min, self.eta_max) #end of line 5 and 7 (min and max)\n",
        "           v_t = (self.alpha * v) + (1. - self.alpha) * K.square(g) #9\n",
        "           am_t = (self.alpha * am) + (1. - self.alpha) * a_clipped #10\n",
        "           a_rate = a_clipped / am_t #am_t == θij(t) # 11\n",
        "           p_t = p - lr * a_rate * g * (1/(K.sqrt(v_t + self.epsilon))) #12\n",
        " \n",
        "           new_p = p_t\n",
        " \n",
        "           self.updates.append(K.update(v, v_t))\n",
        "           self.updates.append(K.update(p, new_p))\n",
        "           self.updates.append(K.update(pg, p))\n",
        "           self.updates.append(K.update(a, zeeta))\n",
        "           self.updates.append(K.update(am, am_t))\n",
        "           self.updates.append(K.update(pp, p))\n",
        "       return self.updates\n",
        " \n",
        "   def get_config(self):\n",
        "       config = {'lr': float(K.get_value(self.lr)),\n",
        "                 'alpha': float(K.get_value(self.alpha)),\n",
        "                 'eta_plus': float(K.get_value(self.eta_plus)),\n",
        "                 'eta_minus': float(K.get_value(self.eta_minus)),\n",
        "                 'eta_min': float(self.eta_min),\n",
        "                 'eta_max': float(self.eta_max),\n",
        "                 'epsilon': self.epsilon}\n",
        "       base_config = super(WAME1, self).get_config()\n",
        "       return dict(list(base_config.items()) + list(config.items()))\n",
        " \n"
      ],
      "execution_count": null,
      "outputs": []
    },
    {
      "cell_type": "code",
      "metadata": {
        "id": "woOJNepbeXOr"
      },
      "source": [
        "class WAME2(Optimizer):\n",
        " \n",
        "   def __init__(self, learning_rate=0.0001, alpha = 0.9,\n",
        "                epsilon=1e-11, decay=0., eta_plus = 1.2, eta_minus = 0.1,\n",
        "                zeta_min=1e-2, zeta_max=1e2, zeta = 0, eta = 0,\n",
        "                **kwargs):\n",
        "      \n",
        "       super(WAME2, self).__init__(**kwargs)\n",
        "       self.__dict__.update(locals())\n",
        "       self.iterations = K.variable(0)\n",
        "       self.learning_rate = K.variable(learning_rate)\n",
        "       self.alpha = K.variable(alpha)\n",
        "       self.zeta = K.variable(zeta)\n",
        "       self.decay = K.variable(decay)\n",
        "       self.eta_plus = K.variable(eta_plus)\n",
        "       self.eta_minus = K.variable(eta_minus)\n",
        "       self.eta_min = eta_min\n",
        "       self.eta_max = eta_max\n",
        "       self.inital_decay = decay\n",
        "   \n",
        "   def get_updates(self, params, loss): # everything betweem 4 and 12\n",
        "                                       # \"the for loop in the paper\"\n",
        " \n",
        "       grads = self.get_gradients(loss, params)\n",
        "       self.updates = [K.update_add(self.iterations, 1)]\n",
        "       # 4\n",
        "       lr = self.learning_rate\n",
        "       if self.inital_decay > 0:\n",
        "           lr *= (1. / (1. + self.decay * self.iterations))\n",
        " \n",
        "       t = self.iterations + 1\n",
        " \n",
        "       shapes = [K.int_shape(p) for p in params]\n",
        "       prev_grads = [K.zeros(shape) for shape in shapes]\n",
        "       prev_param = [K.zeros(shape) for shape in shapes]\n",
        "       ms = [K.zeros(shape) for shape in shapes]\n",
        "       vs = [K.zeros(shape) for shape in shapes]\n",
        "       accs = [K.ones(shape) for shape in shapes]\n",
        "       acc_ms = [K.ones(shape) for shape in shapes]\n",
        "       acc_vs = [K.ones(shape) for shape in shapes]\n",
        "       self.weights = [self.iterations] + ms + vs\n",
        " \n",
        "       for p, g, m, v, a, am, av, pg, pp in zip(params, grads, ms, vs, accs,\n",
        "               acc_ms, acc_vs, prev_grads, prev_param):\n",
        " \n",
        "           change = pg * g #4 & 6\n",
        "           change_below_zero = K.less(change,0.) #true or false\n",
        "           change_above_zero = K.greater(change,0.) #true or false\n",
        "           zeeta = K.switch(\n",
        "               change_below_zero, # if we jump to line 6\n",
        "               a * self.eta_minus, # use line 7\n",
        "               K.switch(change_above_zero,  # if line 4 if true\n",
        "                        a * self.eta_plus, # line 5 \n",
        "                        a) # otheriwse leave a as it was\n",
        "             \n",
        "           )\n",
        "           a_clipped = K.clip(zeeta, self.eta_min, self.eta_max) #end of line 5 and 7 (min and max)\n",
        "           v_t = (self.alpha * v) + (1. - self.alpha) * K.square(g) #9\n",
        "           am_t = (self.alpha * am) + (1. - self.alpha) * a_clipped #10\n",
        "           a_rate = a_clipped / am_t #am_t == θij(t) # 11\n",
        "           p_t = p - lr * a_rate * g * (1/(K.sqrt(v_t + self.epsilon))) #12\n",
        " \n",
        "           new_p = p_t\n",
        " \n",
        "           self.updates.append(K.update(v, v_t))\n",
        "           self.updates.append(K.update(p, new_p))\n",
        "           self.updates.append(K.update(pg, p))\n",
        "           self.updates.append(K.update(a, zeeta))\n",
        "           self.updates.append(K.update(am, am_t))\n",
        "           self.updates.append(K.update(pp, p))\n",
        "       return self.updates\n",
        " \n",
        "   def get_config(self):\n",
        "       config = {'lr': float(K.get_value(self.lr)),\n",
        "                 'alpha': float(K.get_value(self.alpha)),\n",
        "                 'eta_plus': float(K.get_value(self.eta_plus)),\n",
        "                 'eta_minus': float(K.get_value(self.eta_minus)),\n",
        "                 'eta_min': float(self.eta_min),\n",
        "                 'eta_max': float(self.eta_max),\n",
        "                 'epsilon': self.epsilon}\n",
        "       base_config = super(WAME2, self).get_config()\n",
        "       return dict(list(base_config.items()) + list(config.items()))\n",
        " \n"
      ],
      "execution_count": null,
      "outputs": []
    },
    {
      "cell_type": "code",
      "metadata": {
        "id": "8h2YV1_JesrD"
      },
      "source": [
        "class WAME3(Optimizer):\n",
        " \n",
        "   def __init__(self, learning_rate=0.00001, alpha = 0.9,\n",
        "                epsilon=1e-11, decay=0., eta_plus = 1.2, eta_minus = 0.1,\n",
        "                zeta_min=1e-2, zeta_max=1e2, zeta = 0, eta = 0,\n",
        "                **kwargs):\n",
        "      \n",
        "       super(WAME3, self).__init__(**kwargs)\n",
        "       self.__dict__.update(locals())\n",
        "       self.iterations = K.variable(0)\n",
        "       self.learning_rate = K.variable(learning_rate)\n",
        "       self.alpha = K.variable(alpha)\n",
        "       self.zeta = K.variable(zeta)\n",
        "       self.decay = K.variable(decay)\n",
        "       self.eta_plus = K.variable(eta_plus)\n",
        "       self.eta_minus = K.variable(eta_minus)\n",
        "       self.eta_min = eta_min\n",
        "       self.eta_max = eta_max\n",
        "       self.inital_decay = decay\n",
        "   \n",
        "   def get_updates(self, params, loss): # everything betweem 4 and 12\n",
        "                                       # \"the for loop in the paper\"\n",
        " \n",
        "       grads = self.get_gradients(loss, params)\n",
        "       self.updates = [K.update_add(self.iterations, 1)]\n",
        "       # 4\n",
        "       lr = self.learning_rate\n",
        "       if self.inital_decay > 0:\n",
        "           lr *= (1. / (1. + self.decay * self.iterations))\n",
        " \n",
        "       t = self.iterations + 1\n",
        " \n",
        "       shapes = [K.int_shape(p) for p in params]\n",
        "       prev_grads = [K.zeros(shape) for shape in shapes]\n",
        "       prev_param = [K.zeros(shape) for shape in shapes]\n",
        "       ms = [K.zeros(shape) for shape in shapes]\n",
        "       vs = [K.zeros(shape) for shape in shapes]\n",
        "       accs = [K.ones(shape) for shape in shapes]\n",
        "       acc_ms = [K.ones(shape) for shape in shapes]\n",
        "       acc_vs = [K.ones(shape) for shape in shapes]\n",
        "       self.weights = [self.iterations] + ms + vs\n",
        " \n",
        "       for p, g, m, v, a, am, av, pg, pp in zip(params, grads, ms, vs, accs,\n",
        "               acc_ms, acc_vs, prev_grads, prev_param):\n",
        " \n",
        "           change = pg * g #4 & 6\n",
        "           change_below_zero = K.less(change,0.) #true or false\n",
        "           change_above_zero = K.greater(change,0.) #true or false\n",
        "           zeeta = K.switch(\n",
        "               change_below_zero, # if we jump to line 6\n",
        "               a * self.eta_minus, # use line 7\n",
        "               K.switch(change_above_zero,  # if line 4 if true\n",
        "                        a * self.eta_plus, # line 5 \n",
        "                        a) # otheriwse leave a as it was\n",
        "             \n",
        "           )\n",
        "           a_clipped = K.clip(zeeta, self.eta_min, self.eta_max) #end of line 5 and 7 (min and max)\n",
        "           v_t = (self.alpha * v) + (1. - self.alpha) * K.square(g) #9\n",
        "           am_t = (self.alpha * am) + (1. - self.alpha) * a_clipped #10\n",
        "           a_rate = a_clipped / am_t #am_t == θij(t) # 11\n",
        "           p_t = p - lr * a_rate * g * (1/(K.sqrt(v_t + self.epsilon))) #12\n",
        " \n",
        "           new_p = p_t\n",
        " \n",
        "           self.updates.append(K.update(v, v_t))\n",
        "           self.updates.append(K.update(p, new_p))\n",
        "           self.updates.append(K.update(pg, p))\n",
        "           self.updates.append(K.update(a, zeeta))\n",
        "           self.updates.append(K.update(am, am_t))\n",
        "           self.updates.append(K.update(pp, p))\n",
        "       return self.updates\n",
        " \n",
        "   def get_config(self):\n",
        "       config = {'lr': float(K.get_value(self.lr)),\n",
        "                 'alpha': float(K.get_value(self.alpha)),\n",
        "                 'eta_plus': float(K.get_value(self.eta_plus)),\n",
        "                 'eta_minus': float(K.get_value(self.eta_minus)),\n",
        "                 'eta_min': float(self.eta_min),\n",
        "                 'eta_max': float(self.eta_max),\n",
        "                 'epsilon': self.epsilon}\n",
        "       base_config = super(WAME3, self).get_config()\n",
        "       return dict(list(base_config.items()) + list(config.items()))\n",
        " \n"
      ],
      "execution_count": null,
      "outputs": []
    },
    {
      "cell_type": "code",
      "metadata": {
        "id": "axb4iOiefHHU"
      },
      "source": [
        "class WAME4(Optimizer):\n",
        " \n",
        "   def __init__(self, learning_rate=0.000001, alpha = 0.9,\n",
        "                epsilon=1e-11, decay=0., eta_plus = 1.2, eta_minus = 0.1,\n",
        "                zeta_min=1e-2, zeta_max=1e2, zeta = 0, eta = 0,\n",
        "                **kwargs):\n",
        "      \n",
        "       super(WAME4, self).__init__(**kwargs)\n",
        "       self.__dict__.update(locals())\n",
        "       self.iterations = K.variable(0)\n",
        "       self.learning_rate = K.variable(learning_rate)\n",
        "       self.alpha = K.variable(alpha)\n",
        "       self.zeta = K.variable(zeta)\n",
        "       self.decay = K.variable(decay)\n",
        "       self.eta_plus = K.variable(eta_plus)\n",
        "       self.eta_minus = K.variable(eta_minus)\n",
        "       self.eta_min = eta_min\n",
        "       self.eta_max = eta_max\n",
        "       self.inital_decay = decay\n",
        "   \n",
        "   def get_updates(self, params, loss): # everything betweem 4 and 12\n",
        "                                       # \"the for loop in the paper\"\n",
        " \n",
        "       grads = self.get_gradients(loss, params)\n",
        "       self.updates = [K.update_add(self.iterations, 1)]\n",
        "       # 4\n",
        "       lr = self.learning_rate\n",
        "       if self.inital_decay > 0:\n",
        "           lr *= (1. / (1. + self.decay * self.iterations))\n",
        " \n",
        "       t = self.iterations + 1\n",
        " \n",
        "       shapes = [K.int_shape(p) for p in params]\n",
        "       prev_grads = [K.zeros(shape) for shape in shapes]\n",
        "       prev_param = [K.zeros(shape) for shape in shapes]\n",
        "       ms = [K.zeros(shape) for shape in shapes]\n",
        "       vs = [K.zeros(shape) for shape in shapes]\n",
        "       accs = [K.ones(shape) for shape in shapes]\n",
        "       acc_ms = [K.ones(shape) for shape in shapes]\n",
        "       acc_vs = [K.ones(shape) for shape in shapes]\n",
        "       self.weights = [self.iterations] + ms + vs\n",
        " \n",
        "       for p, g, m, v, a, am, av, pg, pp in zip(params, grads, ms, vs, accs,\n",
        "               acc_ms, acc_vs, prev_grads, prev_param):\n",
        " \n",
        "           change = pg * g #4 & 6\n",
        "           change_below_zero = K.less(change,0.) #true or false\n",
        "           change_above_zero = K.greater(change,0.) #true or false\n",
        "           zeeta = K.switch(\n",
        "               change_below_zero, # if we jump to line 6\n",
        "               a * self.eta_minus, # use line 7\n",
        "               K.switch(change_above_zero,  # if line 4 if true\n",
        "                        a * self.eta_plus, # line 5 \n",
        "                        a) # otheriwse leave a as it was\n",
        "             \n",
        "           )\n",
        "           a_clipped = K.clip(zeeta, self.eta_min, self.eta_max) #end of line 5 and 7 (min and max)\n",
        "           v_t = (self.alpha * v) + (1. - self.alpha) * K.square(g) #9\n",
        "           am_t = (self.alpha * am) + (1. - self.alpha) * a_clipped #10\n",
        "           a_rate = a_clipped / am_t #am_t == θij(t) # 11\n",
        "           p_t = p - lr * a_rate * g * (1/(K.sqrt(v_t + self.epsilon))) #12\n",
        " \n",
        "           new_p = p_t\n",
        " \n",
        "           self.updates.append(K.update(v, v_t))\n",
        "           self.updates.append(K.update(p, new_p))\n",
        "           self.updates.append(K.update(pg, p))\n",
        "           self.updates.append(K.update(a, zeeta))\n",
        "           self.updates.append(K.update(am, am_t))\n",
        "           self.updates.append(K.update(pp, p))\n",
        "       return self.updates\n",
        " \n",
        "   def get_config(self):\n",
        "       config = {'lr': float(K.get_value(self.lr)),\n",
        "                 'alpha': float(K.get_value(self.alpha)),\n",
        "                 'eta_plus': float(K.get_value(self.eta_plus)),\n",
        "                 'eta_minus': float(K.get_value(self.eta_minus)),\n",
        "                 'eta_min': float(self.eta_min),\n",
        "                 'eta_max': float(self.eta_max),\n",
        "                 'epsilon': self.epsilon}\n",
        "       base_config = super(WAME4, self).get_config()\n",
        "       return dict(list(base_config.items()) + list(config.items()))\n",
        " \n"
      ],
      "execution_count": null,
      "outputs": []
    },
    {
      "cell_type": "markdown",
      "metadata": {
        "id": "2eRe9CEEj1pA"
      },
      "source": [
        "Configering The Keras Model For Filter, Wrapper and Embedded PCA Output and Geetting the best tune results in from Grid search CV"
      ]
    },
    {
      "cell_type": "markdown",
      "metadata": {
        "id": "CFSIoEQmpuUs"
      },
      "source": [
        "Training with PCA - FILTER METHOD output \"pca_filter_train_features \" with WAME 1, 2 , 3 & 4."
      ]
    },
    {
      "cell_type": "code",
      "metadata": {
        "colab": {
          "base_uri": "https://localhost:8080/"
        },
        "id": "zp73889fpUVE",
        "outputId": "8e7de87c-733b-43af-ba4c-a7466c4752b7"
      },
      "source": [
        "optimizers = ['adam', 'rmsprop', 'WAME1', 'WAME2', 'WAME3', 'WAME4']\n",
        "inits = ['uniform', 'glorot_uniform'] \n",
        "epochs = [5, 7, 10]\n",
        "batches = [20, 30, 40]\n",
        "\n",
        "def create_model5(optimizer=optimizers, init=inits):\n",
        "  # creatoe model\n",
        "  mlp_model = Sequential()\n",
        "  mlp_model.add(Dense(12, input_dim= 5, activation='relu')) \n",
        "  mlp_model.add(Dense(10, activation='relu', kernel_regularizer=l2(0.01), bias_regularizer=l2(0.01))) \n",
        "  mlp_model.add(Dense(1, activation='sigmoid',kernel_regularizer=l2(0.01), bias_regularizer=l2(0.01)))\n",
        "\n",
        "\n",
        "  # Compile model\n",
        "  mlp_model.compile(loss = tf.keras.losses.mean_squared_error, metrics=[\"accuracy\"])\n",
        "  return mlp_model\n",
        "\n",
        "# create model\n",
        "model_keras = KerasClassifier(build_fn=create_model5, verbose=0)\n",
        "\n",
        "# grid search epochs, batch size and optimizer\n",
        "param_grid = dict(optimizer= optimizers, epochs=epochs, batch_size=batches, init=inits) \n",
        "grid = GridSearchCV(estimator=model_keras, param_grid=param_grid)\n",
        "grid_result = grid.fit(pca_filter_train_features, Y)\n",
        "\n",
        "# summarize results\n",
        "print(\"Best: %f using %s\" % (grid_result.best_score_, grid_result.best_params_)) "
      ],
      "execution_count": null,
      "outputs": [
        {
          "output_type": "stream",
          "text": [
            "Best: 0.808700 using {'batch_size': 20, 'epochs': 10, 'init': 'glorot_uniform', 'optimizer': 'WAME1'}\n"
          ],
          "name": "stdout"
        }
      ]
    },
    {
      "cell_type": "markdown",
      "metadata": {
        "id": "VjDdADQJqIg_"
      },
      "source": [
        "Training with PCA - WRPPER METHOD output \"pca_wrapper_filter_features\" with WAME 1, 2, 3 & 4"
      ]
    },
    {
      "cell_type": "code",
      "metadata": {
        "colab": {
          "base_uri": "https://localhost:8080/"
        },
        "id": "-LZhbOKIqW_r",
        "outputId": "0b29674c-0987-42b5-dff1-2fe9b660e5af"
      },
      "source": [
        "optimizers = ['adam', 'rmsprop', 'WAME1', 'WAME2', 'WAME3', 'WAME4']\n",
        "inits = ['uniform', 'glorot_uniform'] \n",
        "epochs = [5, 7, 10]\n",
        "batches = [20, 30, 40]\n",
        "\n",
        "def create_model6(optimizer=optimizers, init=inits):\n",
        "  # creatoe model\n",
        "  mlp_model = Sequential()\n",
        "  mlp_model.add(Dense(12, input_dim= 5, activation='relu')) \n",
        "  mlp_model.add(Dense(10, activation='relu', kernel_regularizer=l2(0.01), bias_regularizer=l2(0.01))) \n",
        "  mlp_model.add(Dense(1, activation='sigmoid',kernel_regularizer=l2(0.01), bias_regularizer=l2(0.01)))\n",
        "\n",
        "\n",
        "  # Compile model\n",
        "  mlp_model.compile(loss = tf.keras.losses.mean_squared_error, metrics=[\"accuracy\"])\n",
        "  return mlp_model\n",
        "\n",
        "# create model\n",
        "model_keras = KerasClassifier(build_fn=create_model6, verbose=0)\n",
        "\n",
        "# grid search epochs, batch size and optimizer\n",
        "param_grid = dict(optimizer= optimizers, epochs=epochs, batch_size=batches, init=inits) \n",
        "grid = GridSearchCV(estimator=model_keras, param_grid=param_grid)\n",
        "grid_result = grid.fit(pca_wrapper_train_features, Y)\n",
        "\n",
        "# summarize results\n",
        "print(\"Best: %f using %s\" % (grid_result.best_score_, grid_result.best_params_)) "
      ],
      "execution_count": null,
      "outputs": [
        {
          "output_type": "stream",
          "text": [
            "Best: 0.828095 using {'batch_size': 20, 'epochs': 10, 'init': 'glorot_uniform', 'optimizer': 'WAME4'}\n"
          ],
          "name": "stdout"
        }
      ]
    },
    {
      "cell_type": "markdown",
      "metadata": {
        "id": "JJVK9ziYq6R6"
      },
      "source": [
        "Training with PCA - EMBEDDED METHOD output \"pca_embedded_train_features\" with WAME 1, 2, 3 & 4"
      ]
    },
    {
      "cell_type": "code",
      "metadata": {
        "colab": {
          "base_uri": "https://localhost:8080/"
        },
        "id": "vPrUMdRpq6-H",
        "outputId": "fb718cf6-0e18-483f-c2f1-8285e7a9a5de"
      },
      "source": [
        "optimizers = ['adam', 'rmsprop', 'WAME1', 'WAME2', 'WAME3', 'WAME4']\n",
        "inits = ['uniform', 'glorot_uniform'] \n",
        "epochs = [5, 7, 10]\n",
        "batches = [20, 30, 40]\n",
        "\n",
        "def create_model7(optimizer=optimizers, init=inits):\n",
        "  # creatoe model\n",
        "  mlp_model = Sequential()\n",
        "  mlp_model.add(Dense(12, input_dim= 5, activation='relu')) \n",
        "  mlp_model.add(Dense(10, activation='relu', kernel_regularizer=l2(0.01), bias_regularizer=l2(0.01))) \n",
        "  mlp_model.add(Dense(1, activation='sigmoid',kernel_regularizer=l2(0.01), bias_regularizer=l2(0.01)))\n",
        "\n",
        "\n",
        "  # Compile model\n",
        "  mlp_model.compile(loss = tf.keras.losses.mean_squared_error, metrics=[\"accuracy\"])\n",
        "  return mlp_model\n",
        "\n",
        "# create model\n",
        "model_keras = KerasClassifier(build_fn=create_model7, verbose=0)\n",
        "\n",
        "# grid search epochs, batch size and optimizer\n",
        "param_grid = dict(optimizer= optimizers, epochs=epochs, batch_size=batches, init=inits) \n",
        "grid = GridSearchCV(estimator=model_keras, param_grid=param_grid)\n",
        "grid_result = grid.fit(pca_embedded_train_features, Y)\n",
        "\n",
        "# summarize results\n",
        "print(\"Best: %f using %s\" % (grid_result.best_score_, grid_result.best_params_)) "
      ],
      "execution_count": null,
      "outputs": [
        {
          "output_type": "stream",
          "text": [
            "Best: 0.817651 using {'batch_size': 20, 'epochs': 10, 'init': 'glorot_uniform', 'optimizer': 'adam'}\n"
          ],
          "name": "stdout"
        }
      ]
    },
    {
      "cell_type": "markdown",
      "metadata": {
        "id": "-rjuVv1yr6q0"
      },
      "source": [
        "Comparing best models (Betweent Filter, Wrapper & Embedded with WAME Output)  :\n",
        "\n",
        "(a) Using Crossvalidation on hyperparameter tuned models of Keras Classifier (from output of Filerr, Wrapper & Embedded) and compare the performance accuracy"
      ]
    },
    {
      "cell_type": "code",
      "metadata": {
        "colab": {
          "base_uri": "https://localhost:8080/",
          "height": 1000
        },
        "id": "bmDJCdSPsbR9",
        "outputId": "9bc70920-2bbb-4325-9aef-1f0c7bedcd97"
      },
      "source": [
        "# The Keras on Filter output  \n",
        "# Best: 0.808700 using {'batch_size': 20, 'epochs': 10, 'init': 'glorot_uniform', 'optimizer': 'WAME1'}\n",
        "models1 = []\n",
        "models1.append(('Keras Classifier - Filter ', KerasClassifier(build_fn=create_model5, batch_size= 20, epochs= 10, init = 'glorot_uniform', optimizer='WAME1')))\n",
        "# evaluate each model in turn\n",
        "results = []\n",
        "names = []\n",
        "scoring = 'accuracy'\n",
        "for name, model1 in models1:\n",
        "  kfold = KFold(n_splits=10, random_state=7,shuffle=True)\n",
        "  cv_results = cross_val_score(model1, pca_filter_train_features, Y, cv=kfold, scoring=scoring)\n",
        "  results.append(cv_results)\n",
        "  names.append(name)\n",
        "  msg = \"%s: %f (%f)\" % (name, cv_results.mean(), cv_results.std())\n",
        "  print(msg)\n",
        "# boxplot algorithm comparison\n",
        "fig = pyplot.figure()\n",
        "fig.suptitle('Algorithm Comparison')\n",
        "ax = fig.add_subplot(111)\n",
        "pyplot.boxplot(results)\n",
        "ax.set_xticklabels(names)\n",
        "pyplot.show()"
      ],
      "execution_count": null,
      "outputs": [
        {
          "output_type": "stream",
          "text": [
            "Epoch 1/10\n",
            "1358/1358 [==============================] - 2s 1ms/step - loss: 0.2341 - accuracy: 0.7359\n",
            "Epoch 2/10\n",
            "1358/1358 [==============================] - 1s 1ms/step - loss: 0.1639 - accuracy: 0.7704\n",
            "Epoch 3/10\n",
            "1358/1358 [==============================] - 2s 1ms/step - loss: 0.1600 - accuracy: 0.7904\n",
            "Epoch 4/10\n",
            "1358/1358 [==============================] - 2s 1ms/step - loss: 0.1579 - accuracy: 0.7914\n",
            "Epoch 5/10\n",
            "1358/1358 [==============================] - 1s 1ms/step - loss: 0.1539 - accuracy: 0.7981\n",
            "Epoch 6/10\n",
            "1358/1358 [==============================] - 2s 1ms/step - loss: 0.1515 - accuracy: 0.8026\n",
            "Epoch 7/10\n",
            "1358/1358 [==============================] - 2s 1ms/step - loss: 0.1488 - accuracy: 0.8029\n",
            "Epoch 8/10\n",
            "1358/1358 [==============================] - 2s 1ms/step - loss: 0.1473 - accuracy: 0.8052\n",
            "Epoch 9/10\n",
            "1358/1358 [==============================] - 2s 1ms/step - loss: 0.1471 - accuracy: 0.8038\n",
            "Epoch 10/10\n",
            "1358/1358 [==============================] - 2s 1ms/step - loss: 0.1449 - accuracy: 0.8028\n"
          ],
          "name": "stdout"
        },
        {
          "output_type": "stream",
          "text": [
            "/usr/local/lib/python3.7/dist-packages/tensorflow/python/keras/engine/sequential.py:450: UserWarning: `model.predict_classes()` is deprecated and will be removed after 2021-01-01. Please use instead:* `np.argmax(model.predict(x), axis=-1)`,   if your model does multi-class classification   (e.g. if it uses a `softmax` last-layer activation).* `(model.predict(x) > 0.5).astype(\"int32\")`,   if your model does binary classification   (e.g. if it uses a `sigmoid` last-layer activation).\n",
            "  warnings.warn('`model.predict_classes()` is deprecated and '\n"
          ],
          "name": "stderr"
        },
        {
          "output_type": "stream",
          "text": [
            "Epoch 1/10\n",
            "1358/1358 [==============================] - 2s 1ms/step - loss: 0.2327 - accuracy: 0.7270\n",
            "Epoch 2/10\n",
            "1358/1358 [==============================] - 1s 1ms/step - loss: 0.1642 - accuracy: 0.7791\n",
            "Epoch 3/10\n",
            "1358/1358 [==============================] - 2s 1ms/step - loss: 0.1569 - accuracy: 0.8018\n",
            "Epoch 4/10\n",
            "1358/1358 [==============================] - 1s 1ms/step - loss: 0.1552 - accuracy: 0.7987\n",
            "Epoch 5/10\n",
            "1358/1358 [==============================] - 1s 1ms/step - loss: 0.1537 - accuracy: 0.7982\n",
            "Epoch 6/10\n",
            "1358/1358 [==============================] - 1s 1ms/step - loss: 0.1480 - accuracy: 0.8067\n",
            "Epoch 7/10\n",
            "1358/1358 [==============================] - 1s 1ms/step - loss: 0.1481 - accuracy: 0.8023\n",
            "Epoch 8/10\n",
            "1358/1358 [==============================] - 1s 1ms/step - loss: 0.1475 - accuracy: 0.8055\n",
            "Epoch 9/10\n",
            "1358/1358 [==============================] - 1s 1ms/step - loss: 0.1435 - accuracy: 0.8080\n",
            "Epoch 10/10\n",
            "1358/1358 [==============================] - 2s 1ms/step - loss: 0.1448 - accuracy: 0.8044\n",
            "Epoch 1/10\n",
            "1358/1358 [==============================] - 2s 1ms/step - loss: 0.2416 - accuracy: 0.7241\n",
            "Epoch 2/10\n",
            "1358/1358 [==============================] - 2s 1ms/step - loss: 0.1616 - accuracy: 0.7935\n",
            "Epoch 3/10\n",
            "1358/1358 [==============================] - 1s 1ms/step - loss: 0.1581 - accuracy: 0.7977\n",
            "Epoch 4/10\n",
            "1358/1358 [==============================] - 2s 1ms/step - loss: 0.1511 - accuracy: 0.8053\n",
            "Epoch 5/10\n",
            "1358/1358 [==============================] - 1s 1ms/step - loss: 0.1510 - accuracy: 0.8037\n",
            "Epoch 6/10\n",
            "1358/1358 [==============================] - 2s 1ms/step - loss: 0.1468 - accuracy: 0.8087\n",
            "Epoch 7/10\n",
            "1358/1358 [==============================] - 2s 1ms/step - loss: 0.1466 - accuracy: 0.8076\n",
            "Epoch 8/10\n",
            "1358/1358 [==============================] - 1s 1ms/step - loss: 0.1451 - accuracy: 0.8083\n",
            "Epoch 9/10\n",
            "1358/1358 [==============================] - 2s 1ms/step - loss: 0.1439 - accuracy: 0.8070\n",
            "Epoch 10/10\n",
            "1358/1358 [==============================] - 1s 1ms/step - loss: 0.1433 - accuracy: 0.8076\n",
            "Epoch 1/10\n",
            "1358/1358 [==============================] - 2s 1ms/step - loss: 0.2384 - accuracy: 0.7326\n",
            "Epoch 2/10\n",
            "1358/1358 [==============================] - 1s 1ms/step - loss: 0.1621 - accuracy: 0.7596\n",
            "Epoch 3/10\n",
            "1358/1358 [==============================] - 2s 1ms/step - loss: 0.1572 - accuracy: 0.7924\n",
            "Epoch 4/10\n",
            "1358/1358 [==============================] - 2s 1ms/step - loss: 0.1534 - accuracy: 0.8037\n",
            "Epoch 5/10\n",
            "1358/1358 [==============================] - 1s 1ms/step - loss: 0.1516 - accuracy: 0.7991\n",
            "Epoch 6/10\n",
            "1358/1358 [==============================] - 2s 1ms/step - loss: 0.1522 - accuracy: 0.8019\n",
            "Epoch 7/10\n",
            "1358/1358 [==============================] - 1s 1ms/step - loss: 0.1483 - accuracy: 0.8068\n",
            "Epoch 8/10\n",
            "1358/1358 [==============================] - 2s 1ms/step - loss: 0.1469 - accuracy: 0.8069\n",
            "Epoch 9/10\n",
            "1358/1358 [==============================] - 1s 1ms/step - loss: 0.1440 - accuracy: 0.8079\n",
            "Epoch 10/10\n",
            "1358/1358 [==============================] - 2s 1ms/step - loss: 0.1447 - accuracy: 0.8089\n",
            "Epoch 1/10\n",
            "1358/1358 [==============================] - 2s 1ms/step - loss: 0.2252 - accuracy: 0.7464\n",
            "Epoch 2/10\n",
            "1358/1358 [==============================] - 2s 1ms/step - loss: 0.1626 - accuracy: 0.7913\n",
            "Epoch 3/10\n",
            "1358/1358 [==============================] - 2s 1ms/step - loss: 0.1565 - accuracy: 0.8001\n",
            "Epoch 4/10\n",
            "1358/1358 [==============================] - 1s 1ms/step - loss: 0.1513 - accuracy: 0.8036\n",
            "Epoch 5/10\n",
            "1358/1358 [==============================] - 2s 1ms/step - loss: 0.1515 - accuracy: 0.8005\n",
            "Epoch 6/10\n",
            "1358/1358 [==============================] - 2s 1ms/step - loss: 0.1488 - accuracy: 0.8026\n",
            "Epoch 7/10\n",
            "1358/1358 [==============================] - 1s 1ms/step - loss: 0.1490 - accuracy: 0.8001\n",
            "Epoch 8/10\n",
            "1358/1358 [==============================] - 2s 1ms/step - loss: 0.1441 - accuracy: 0.8089\n",
            "Epoch 9/10\n",
            "1358/1358 [==============================] - 2s 1ms/step - loss: 0.1432 - accuracy: 0.8097\n",
            "Epoch 10/10\n",
            "1358/1358 [==============================] - 2s 1ms/step - loss: 0.1430 - accuracy: 0.8112\n",
            "Epoch 1/10\n",
            "1358/1358 [==============================] - 2s 1ms/step - loss: 0.2403 - accuracy: 0.7431\n",
            "Epoch 2/10\n",
            "1358/1358 [==============================] - 1s 1ms/step - loss: 0.1657 - accuracy: 0.7930\n",
            "Epoch 3/10\n",
            "1358/1358 [==============================] - 2s 1ms/step - loss: 0.1579 - accuracy: 0.7999\n",
            "Epoch 4/10\n",
            "1358/1358 [==============================] - 2s 1ms/step - loss: 0.1564 - accuracy: 0.7987\n",
            "Epoch 5/10\n",
            "1358/1358 [==============================] - 2s 1ms/step - loss: 0.1519 - accuracy: 0.8023\n",
            "Epoch 6/10\n",
            "1358/1358 [==============================] - 1s 1ms/step - loss: 0.1500 - accuracy: 0.8038\n",
            "Epoch 7/10\n",
            "1358/1358 [==============================] - 2s 1ms/step - loss: 0.1462 - accuracy: 0.8086\n",
            "Epoch 8/10\n",
            "1358/1358 [==============================] - 2s 1ms/step - loss: 0.1450 - accuracy: 0.8063\n",
            "Epoch 9/10\n",
            "1358/1358 [==============================] - 2s 1ms/step - loss: 0.1456 - accuracy: 0.8055\n",
            "Epoch 10/10\n",
            "1358/1358 [==============================] - 2s 1ms/step - loss: 0.1435 - accuracy: 0.8092\n",
            "Epoch 1/10\n",
            "1358/1358 [==============================] - 2s 1ms/step - loss: 0.2261 - accuracy: 0.7486\n",
            "Epoch 2/10\n",
            "1358/1358 [==============================] - 2s 1ms/step - loss: 0.1660 - accuracy: 0.7879\n",
            "Epoch 3/10\n",
            "1358/1358 [==============================] - 2s 1ms/step - loss: 0.1588 - accuracy: 0.7991\n",
            "Epoch 4/10\n",
            "1358/1358 [==============================] - 2s 1ms/step - loss: 0.1553 - accuracy: 0.8009\n",
            "Epoch 5/10\n",
            "1358/1358 [==============================] - 2s 1ms/step - loss: 0.1515 - accuracy: 0.8036\n",
            "Epoch 6/10\n",
            "1358/1358 [==============================] - 2s 1ms/step - loss: 0.1514 - accuracy: 0.8021\n",
            "Epoch 7/10\n",
            "1358/1358 [==============================] - 1s 1ms/step - loss: 0.1488 - accuracy: 0.8051\n",
            "Epoch 8/10\n",
            "1358/1358 [==============================] - 1s 1ms/step - loss: 0.1483 - accuracy: 0.8009\n",
            "Epoch 9/10\n",
            "1358/1358 [==============================] - 1s 1ms/step - loss: 0.1475 - accuracy: 0.8022\n",
            "Epoch 10/10\n",
            "1358/1358 [==============================] - 2s 1ms/step - loss: 0.1440 - accuracy: 0.8071\n",
            "Epoch 1/10\n",
            "1358/1358 [==============================] - 2s 1ms/step - loss: 0.2380 - accuracy: 0.7275\n",
            "Epoch 2/10\n",
            "1358/1358 [==============================] - 2s 1ms/step - loss: 0.1658 - accuracy: 0.7888\n",
            "Epoch 3/10\n",
            "1358/1358 [==============================] - 2s 1ms/step - loss: 0.1592 - accuracy: 0.7942\n",
            "Epoch 4/10\n",
            "1358/1358 [==============================] - 2s 1ms/step - loss: 0.1551 - accuracy: 0.7975\n",
            "Epoch 5/10\n",
            "1358/1358 [==============================] - 2s 1ms/step - loss: 0.1539 - accuracy: 0.7964\n",
            "Epoch 6/10\n",
            "1358/1358 [==============================] - 2s 1ms/step - loss: 0.1516 - accuracy: 0.7974\n",
            "Epoch 7/10\n",
            "1358/1358 [==============================] - 2s 1ms/step - loss: 0.1482 - accuracy: 0.8025\n",
            "Epoch 8/10\n",
            "1358/1358 [==============================] - 2s 1ms/step - loss: 0.1487 - accuracy: 0.7995\n",
            "Epoch 9/10\n",
            "1358/1358 [==============================] - 2s 1ms/step - loss: 0.1475 - accuracy: 0.8001\n",
            "Epoch 10/10\n",
            "1358/1358 [==============================] - 2s 1ms/step - loss: 0.1472 - accuracy: 0.8001\n",
            "Epoch 1/10\n",
            "1358/1358 [==============================] - 2s 1ms/step - loss: 0.2252 - accuracy: 0.7493\n",
            "Epoch 2/10\n",
            "1358/1358 [==============================] - 2s 1ms/step - loss: 0.1638 - accuracy: 0.7884\n",
            "Epoch 3/10\n",
            "1358/1358 [==============================] - 2s 1ms/step - loss: 0.1585 - accuracy: 0.7977\n",
            "Epoch 4/10\n",
            "1358/1358 [==============================] - 2s 1ms/step - loss: 0.1558 - accuracy: 0.7972\n",
            "Epoch 5/10\n",
            "1358/1358 [==============================] - 2s 1ms/step - loss: 0.1499 - accuracy: 0.8052\n",
            "Epoch 6/10\n",
            "1358/1358 [==============================] - 2s 1ms/step - loss: 0.1500 - accuracy: 0.8003\n",
            "Epoch 7/10\n",
            "1358/1358 [==============================] - 1s 1ms/step - loss: 0.1483 - accuracy: 0.8044\n",
            "Epoch 8/10\n",
            "1358/1358 [==============================] - 2s 1ms/step - loss: 0.1483 - accuracy: 0.8019\n",
            "Epoch 9/10\n",
            "1358/1358 [==============================] - 2s 1ms/step - loss: 0.1445 - accuracy: 0.8086\n",
            "Epoch 10/10\n",
            "1358/1358 [==============================] - 2s 1ms/step - loss: 0.1440 - accuracy: 0.8082\n",
            "Epoch 1/10\n",
            "1358/1358 [==============================] - 2s 1ms/step - loss: 0.2367 - accuracy: 0.7500\n",
            "Epoch 2/10\n",
            "1358/1358 [==============================] - 2s 1ms/step - loss: 0.1651 - accuracy: 0.7894\n",
            "Epoch 3/10\n",
            "1358/1358 [==============================] - 2s 1ms/step - loss: 0.1601 - accuracy: 0.7932\n",
            "Epoch 4/10\n",
            "1358/1358 [==============================] - 2s 1ms/step - loss: 0.1543 - accuracy: 0.7995\n",
            "Epoch 5/10\n",
            "1358/1358 [==============================] - 2s 1ms/step - loss: 0.1528 - accuracy: 0.8000\n",
            "Epoch 6/10\n",
            "1358/1358 [==============================] - 2s 1ms/step - loss: 0.1518 - accuracy: 0.8016\n",
            "Epoch 7/10\n",
            "1358/1358 [==============================] - 2s 1ms/step - loss: 0.1472 - accuracy: 0.8045\n",
            "Epoch 8/10\n",
            "1358/1358 [==============================] - 2s 1ms/step - loss: 0.1474 - accuracy: 0.8054\n",
            "Epoch 9/10\n",
            "1358/1358 [==============================] - 2s 1ms/step - loss: 0.1479 - accuracy: 0.8011\n",
            "Epoch 10/10\n",
            "1358/1358 [==============================] - 2s 1ms/step - loss: 0.1466 - accuracy: 0.8030\n",
            "Keras Classifier - Filter : 0.806280 (0.005541)\n"
          ],
          "name": "stdout"
        },
        {
          "output_type": "display_data",
          "data": {
            "image/png": "[encoded data removed]",
            "text/plain": [
              "<Figure size 432x288 with 1 Axes>"
            ]
          },
          "metadata": {
            "tags": [],
            "needs_background": "light"
          }
        }
      ]
    },
    {
      "cell_type": "code",
      "metadata": {
        "colab": {
          "base_uri": "https://localhost:8080/",
          "height": 1000
        },
        "id": "Eg8v7PN6t272",
        "outputId": "12e9d193-487c-4e4a-aa1b-7b5e85aa4361"
      },
      "source": [
        "# The Keras on Wrapper output\n",
        "#Best: 0.828095 using {'batch_size': 20, 'epochs': 10, 'init': 'glorot_uniform', 'optimizer': 'WAME4'}\n",
        "models2 = []\n",
        "models2.append(('Keras Classifier - Wrapper ', KerasClassifier(build_fn=create_model6, batch_size= 20, epochs= 10, init = 'glorot_uniform', optimizer='WAME4')))\n",
        "# evaluate each model in turn\n",
        "results = []\n",
        "names = []\n",
        "scoring = 'accuracy'\n",
        "for name, model2 in models2:\n",
        "  kfold = KFold(n_splits=10, random_state=7,shuffle=True)\n",
        "  cv_results = cross_val_score(model2, pca_wrapper_train_features, Y, cv=kfold, scoring=scoring)\n",
        "  results.append(cv_results)\n",
        "  names.append(name)\n",
        "  msg = \"%s: %f (%f)\" % (name, cv_results.mean(), cv_results.std())\n",
        "  print(msg)\n",
        "# boxplot algorithm comparison\n",
        "fig = pyplot.figure()\n",
        "fig.suptitle('Algorithm Comparison')\n",
        "ax = fig.add_subplot(111)\n",
        "pyplot.boxplot(results)\n",
        "ax.set_xticklabels(names)\n",
        "pyplot.show()"
      ],
      "execution_count": null,
      "outputs": [
        {
          "output_type": "stream",
          "text": [
            "Epoch 1/10\n",
            "1358/1358 [==============================] - 2s 1ms/step - loss: 0.2457 - accuracy: 0.7293\n",
            "Epoch 2/10\n",
            "1358/1358 [==============================] - 1s 1ms/step - loss: 0.1615 - accuracy: 0.8044\n",
            "Epoch 3/10\n",
            "1358/1358 [==============================] - 1s 1ms/step - loss: 0.1558 - accuracy: 0.8157\n",
            "Epoch 4/10\n",
            "1358/1358 [==============================] - 2s 1ms/step - loss: 0.1532 - accuracy: 0.8104\n",
            "Epoch 5/10\n",
            "1358/1358 [==============================] - 2s 1ms/step - loss: 0.1497 - accuracy: 0.8194\n",
            "Epoch 6/10\n",
            "1358/1358 [==============================] - 1s 1ms/step - loss: 0.1456 - accuracy: 0.8266\n",
            "Epoch 7/10\n",
            "1358/1358 [==============================] - 1s 1ms/step - loss: 0.1403 - accuracy: 0.8315\n",
            "Epoch 8/10\n",
            "1358/1358 [==============================] - 1s 1ms/step - loss: 0.1437 - accuracy: 0.8238\n",
            "Epoch 9/10\n",
            "1358/1358 [==============================] - 1s 1ms/step - loss: 0.1408 - accuracy: 0.8292\n",
            "Epoch 10/10\n",
            "1358/1358 [==============================] - 1s 1ms/step - loss: 0.1397 - accuracy: 0.8261\n"
          ],
          "name": "stdout"
        },
        {
          "output_type": "stream",
          "text": [
            "/usr/local/lib/python3.7/dist-packages/tensorflow/python/keras/engine/sequential.py:450: UserWarning: `model.predict_classes()` is deprecated and will be removed after 2021-01-01. Please use instead:* `np.argmax(model.predict(x), axis=-1)`,   if your model does multi-class classification   (e.g. if it uses a `softmax` last-layer activation).* `(model.predict(x) > 0.5).astype(\"int32\")`,   if your model does binary classification   (e.g. if it uses a `sigmoid` last-layer activation).\n",
            "  warnings.warn('`model.predict_classes()` is deprecated and '\n"
          ],
          "name": "stderr"
        },
        {
          "output_type": "stream",
          "text": [
            "Epoch 1/10\n",
            "1358/1358 [==============================] - 2s 1ms/step - loss: 0.2185 - accuracy: 0.7524\n",
            "Epoch 2/10\n",
            "1358/1358 [==============================] - 1s 1ms/step - loss: 0.1642 - accuracy: 0.7949\n",
            "Epoch 3/10\n",
            "1358/1358 [==============================] - 1s 1ms/step - loss: 0.1551 - accuracy: 0.8199\n",
            "Epoch 4/10\n",
            "1358/1358 [==============================] - 2s 1ms/step - loss: 0.1494 - accuracy: 0.8259\n",
            "Epoch 5/10\n",
            "1358/1358 [==============================] - 2s 1ms/step - loss: 0.1479 - accuracy: 0.8244\n",
            "Epoch 6/10\n",
            "1358/1358 [==============================] - 1s 1ms/step - loss: 0.1441 - accuracy: 0.8258\n",
            "Epoch 7/10\n",
            "1358/1358 [==============================] - 2s 1ms/step - loss: 0.1440 - accuracy: 0.8256\n",
            "Epoch 8/10\n",
            "1358/1358 [==============================] - 2s 1ms/step - loss: 0.1393 - accuracy: 0.8316\n",
            "Epoch 9/10\n",
            "1358/1358 [==============================] - 1s 1ms/step - loss: 0.1400 - accuracy: 0.8255\n",
            "Epoch 10/10\n",
            "1358/1358 [==============================] - 2s 1ms/step - loss: 0.1391 - accuracy: 0.8274\n",
            "Epoch 1/10\n",
            "1358/1358 [==============================] - 2s 1ms/step - loss: 0.2251 - accuracy: 0.7515\n",
            "Epoch 2/10\n",
            "1358/1358 [==============================] - 1s 1ms/step - loss: 0.1610 - accuracy: 0.7976\n",
            "Epoch 3/10\n",
            "1358/1358 [==============================] - 2s 1ms/step - loss: 0.1547 - accuracy: 0.8128\n",
            "Epoch 4/10\n",
            "1358/1358 [==============================] - 2s 1ms/step - loss: 0.1507 - accuracy: 0.8214\n",
            "Epoch 5/10\n",
            "1358/1358 [==============================] - 2s 1ms/step - loss: 0.1487 - accuracy: 0.8182\n",
            "Epoch 6/10\n",
            "1358/1358 [==============================] - 2s 1ms/step - loss: 0.1444 - accuracy: 0.8267\n",
            "Epoch 7/10\n",
            "1358/1358 [==============================] - 2s 1ms/step - loss: 0.1430 - accuracy: 0.8264\n",
            "Epoch 8/10\n",
            "1358/1358 [==============================] - 1s 1ms/step - loss: 0.1443 - accuracy: 0.8267\n",
            "Epoch 9/10\n",
            "1358/1358 [==============================] - 1s 1ms/step - loss: 0.1419 - accuracy: 0.8265\n",
            "Epoch 10/10\n",
            "1358/1358 [==============================] - 1s 1ms/step - loss: 0.1395 - accuracy: 0.8280\n",
            "Epoch 1/10\n",
            "1358/1358 [==============================] - 2s 1ms/step - loss: 0.2380 - accuracy: 0.7359\n",
            "Epoch 2/10\n",
            "1358/1358 [==============================] - 1s 1ms/step - loss: 0.1628 - accuracy: 0.8013\n",
            "Epoch 3/10\n",
            "1358/1358 [==============================] - 2s 1ms/step - loss: 0.1549 - accuracy: 0.8123\n",
            "Epoch 4/10\n",
            "1358/1358 [==============================] - 1s 1ms/step - loss: 0.1510 - accuracy: 0.8176\n",
            "Epoch 5/10\n",
            "1358/1358 [==============================] - 2s 1ms/step - loss: 0.1484 - accuracy: 0.8201\n",
            "Epoch 6/10\n",
            "1358/1358 [==============================] - 2s 1ms/step - loss: 0.1473 - accuracy: 0.8205\n",
            "Epoch 7/10\n",
            "1358/1358 [==============================] - 2s 1ms/step - loss: 0.1438 - accuracy: 0.8255\n",
            "Epoch 8/10\n",
            "1358/1358 [==============================] - 2s 1ms/step - loss: 0.1430 - accuracy: 0.8232\n",
            "Epoch 9/10\n",
            "1358/1358 [==============================] - 1s 1ms/step - loss: 0.1423 - accuracy: 0.8237\n",
            "Epoch 10/10\n",
            "1358/1358 [==============================] - 1s 1ms/step - loss: 0.1407 - accuracy: 0.8265\n",
            "Epoch 1/10\n",
            "1358/1358 [==============================] - 2s 1ms/step - loss: 0.2272 - accuracy: 0.7661\n",
            "Epoch 2/10\n",
            "1358/1358 [==============================] - 1s 1ms/step - loss: 0.1606 - accuracy: 0.8081\n",
            "Epoch 3/10\n",
            "1358/1358 [==============================] - 2s 1ms/step - loss: 0.1536 - accuracy: 0.8210\n",
            "Epoch 4/10\n",
            "1358/1358 [==============================] - 2s 1ms/step - loss: 0.1506 - accuracy: 0.8216\n",
            "Epoch 5/10\n",
            "1358/1358 [==============================] - 1s 1ms/step - loss: 0.1492 - accuracy: 0.8205\n",
            "Epoch 6/10\n",
            "1358/1358 [==============================] - 2s 1ms/step - loss: 0.1472 - accuracy: 0.8231\n",
            "Epoch 7/10\n",
            "1358/1358 [==============================] - 2s 1ms/step - loss: 0.1451 - accuracy: 0.8231\n",
            "Epoch 8/10\n",
            "1358/1358 [==============================] - 2s 1ms/step - loss: 0.1419 - accuracy: 0.8283\n",
            "Epoch 9/10\n",
            "1358/1358 [==============================] - 1s 1ms/step - loss: 0.1416 - accuracy: 0.8265\n",
            "Epoch 10/10\n",
            "1358/1358 [==============================] - 2s 1ms/step - loss: 0.1411 - accuracy: 0.8261\n",
            "Epoch 1/10\n",
            "1358/1358 [==============================] - 2s 1ms/step - loss: 0.2526 - accuracy: 0.7177\n",
            "Epoch 2/10\n",
            "1358/1358 [==============================] - 1s 1ms/step - loss: 0.1603 - accuracy: 0.8046\n",
            "Epoch 3/10\n",
            "1358/1358 [==============================] - 1s 1ms/step - loss: 0.1542 - accuracy: 0.8157\n",
            "Epoch 4/10\n",
            "1358/1358 [==============================] - 2s 1ms/step - loss: 0.1488 - accuracy: 0.8277\n",
            "Epoch 5/10\n",
            "1358/1358 [==============================] - 2s 1ms/step - loss: 0.1471 - accuracy: 0.8267\n",
            "Epoch 6/10\n",
            "1358/1358 [==============================] - 2s 1ms/step - loss: 0.1446 - accuracy: 0.8278\n",
            "Epoch 7/10\n",
            "1358/1358 [==============================] - 2s 1ms/step - loss: 0.1432 - accuracy: 0.8262\n",
            "Epoch 8/10\n",
            "1358/1358 [==============================] - 2s 1ms/step - loss: 0.1409 - accuracy: 0.8273\n",
            "Epoch 9/10\n",
            "1358/1358 [==============================] - 2s 1ms/step - loss: 0.1403 - accuracy: 0.8277\n",
            "Epoch 10/10\n",
            "1358/1358 [==============================] - 2s 1ms/step - loss: 0.1389 - accuracy: 0.8303\n",
            "Epoch 1/10\n",
            "1358/1358 [==============================] - 2s 1ms/step - loss: 0.2311 - accuracy: 0.7714\n",
            "Epoch 2/10\n",
            "1358/1358 [==============================] - 2s 1ms/step - loss: 0.1605 - accuracy: 0.8098\n",
            "Epoch 3/10\n",
            "1358/1358 [==============================] - 1s 1ms/step - loss: 0.1538 - accuracy: 0.8159\n",
            "Epoch 4/10\n",
            "1358/1358 [==============================] - 2s 1ms/step - loss: 0.1511 - accuracy: 0.8208\n",
            "Epoch 5/10\n",
            "1358/1358 [==============================] - 2s 1ms/step - loss: 0.1490 - accuracy: 0.8215\n",
            "Epoch 6/10\n",
            "1358/1358 [==============================] - 2s 1ms/step - loss: 0.1459 - accuracy: 0.8248\n",
            "Epoch 7/10\n",
            "1358/1358 [==============================] - 1s 1ms/step - loss: 0.1451 - accuracy: 0.8250\n",
            "Epoch 8/10\n",
            "1358/1358 [==============================] - 1s 1ms/step - loss: 0.1413 - accuracy: 0.8303\n",
            "Epoch 9/10\n",
            "1358/1358 [==============================] - 2s 1ms/step - loss: 0.1425 - accuracy: 0.8249\n",
            "Epoch 10/10\n",
            "1358/1358 [==============================] - 1s 1ms/step - loss: 0.1407 - accuracy: 0.8258\n",
            "Epoch 1/10\n",
            "1358/1358 [==============================] - 2s 1ms/step - loss: 0.2415 - accuracy: 0.7125\n",
            "Epoch 2/10\n",
            "1358/1358 [==============================] - 1s 1ms/step - loss: 0.1661 - accuracy: 0.7986\n",
            "Epoch 3/10\n",
            "1358/1358 [==============================] - 2s 1ms/step - loss: 0.1551 - accuracy: 0.8158\n",
            "Epoch 4/10\n",
            "1358/1358 [==============================] - 2s 1ms/step - loss: 0.1504 - accuracy: 0.8215\n",
            "Epoch 5/10\n",
            "1358/1358 [==============================] - 2s 1ms/step - loss: 0.1478 - accuracy: 0.8235\n",
            "Epoch 6/10\n",
            "1358/1358 [==============================] - 2s 1ms/step - loss: 0.1441 - accuracy: 0.8268\n",
            "Epoch 7/10\n",
            "1358/1358 [==============================] - 2s 1ms/step - loss: 0.1426 - accuracy: 0.8296\n",
            "Epoch 8/10\n",
            "1358/1358 [==============================] - 2s 1ms/step - loss: 0.1418 - accuracy: 0.8251\n",
            "Epoch 9/10\n",
            "1358/1358 [==============================] - 2s 1ms/step - loss: 0.1404 - accuracy: 0.8236\n",
            "Epoch 10/10\n",
            "1358/1358 [==============================] - 2s 1ms/step - loss: 0.1389 - accuracy: 0.8280\n",
            "Epoch 1/10\n",
            "1358/1358 [==============================] - 2s 1ms/step - loss: 0.2289 - accuracy: 0.7450\n",
            "Epoch 2/10\n",
            "1358/1358 [==============================] - 2s 1ms/step - loss: 0.1637 - accuracy: 0.7865\n",
            "Epoch 3/10\n",
            "1358/1358 [==============================] - 2s 1ms/step - loss: 0.1560 - accuracy: 0.8106\n",
            "Epoch 4/10\n",
            "1358/1358 [==============================] - 2s 1ms/step - loss: 0.1500 - accuracy: 0.8189\n",
            "Epoch 5/10\n",
            "1358/1358 [==============================] - 2s 1ms/step - loss: 0.1465 - accuracy: 0.8271\n",
            "Epoch 6/10\n",
            "1358/1358 [==============================] - 2s 1ms/step - loss: 0.1451 - accuracy: 0.8299\n",
            "Epoch 7/10\n",
            "1358/1358 [==============================] - 2s 1ms/step - loss: 0.1434 - accuracy: 0.8277\n",
            "Epoch 8/10\n",
            "1358/1358 [==============================] - 2s 1ms/step - loss: 0.1430 - accuracy: 0.8266\n",
            "Epoch 9/10\n",
            "1358/1358 [==============================] - 2s 1ms/step - loss: 0.1408 - accuracy: 0.8278\n",
            "Epoch 10/10\n",
            "1358/1358 [==============================] - 2s 1ms/step - loss: 0.1405 - accuracy: 0.8255\n",
            "Epoch 1/10\n",
            "1358/1358 [==============================] - 2s 1ms/step - loss: 0.2297 - accuracy: 0.7504\n",
            "Epoch 2/10\n",
            "1358/1358 [==============================] - 2s 1ms/step - loss: 0.1637 - accuracy: 0.8001\n",
            "Epoch 3/10\n",
            "1358/1358 [==============================] - 1s 1ms/step - loss: 0.1543 - accuracy: 0.8199\n",
            "Epoch 4/10\n",
            "1358/1358 [==============================] - 2s 1ms/step - loss: 0.1502 - accuracy: 0.8229\n",
            "Epoch 5/10\n",
            "1358/1358 [==============================] - 2s 1ms/step - loss: 0.1481 - accuracy: 0.8254\n",
            "Epoch 6/10\n",
            "1358/1358 [==============================] - 2s 1ms/step - loss: 0.1443 - accuracy: 0.8288\n",
            "Epoch 7/10\n",
            "1358/1358 [==============================] - 2s 1ms/step - loss: 0.1449 - accuracy: 0.8265\n",
            "Epoch 8/10\n",
            "1358/1358 [==============================] - 2s 1ms/step - loss: 0.1418 - accuracy: 0.8290\n",
            "Epoch 9/10\n",
            "1358/1358 [==============================] - 2s 1ms/step - loss: 0.1400 - accuracy: 0.8283\n",
            "Epoch 10/10\n",
            "1358/1358 [==============================] - 2s 1ms/step - loss: 0.1404 - accuracy: 0.8258\n",
            "Keras Classifier - Wrapper : 0.826039 (0.005873)\n"
          ],
          "name": "stdout"
        },
        {
          "output_type": "display_data",
          "data": {
            "image/png": "[encoded data removed]",
            "text/plain": [
              "<Figure size 432x288 with 1 Axes>"
            ]
          },
          "metadata": {
            "tags": [],
            "needs_background": "light"
          }
        }
      ]
    },
    {
      "cell_type": "code",
      "metadata": {
        "colab": {
          "base_uri": "https://localhost:8080/",
          "height": 1000
        },
        "id": "-2kg0B_suBxg",
        "outputId": "7ef1f4d5-6fe9-45ad-abd1-00a807d63a87"
      },
      "source": [
        "# The Keras on Embedded Method\n",
        "#Best: 0.817651 using {'batch_size': 20, 'epochs': 10, 'init': 'glorot_uniform', 'optimizer': 'adam'}\n",
        "models3 = []\n",
        "models3.append(('Keras Classifier - Embedded ', KerasClassifier(build_fn=create_model7, batch_size= 20, epochs= 10, init = 'glorot_uniform', optimizer='adam')))\n",
        "# evaluate each model in turn\n",
        "results = []\n",
        "names = []\n",
        "scoring = 'accuracy'\n",
        "for name, model3 in models3:\n",
        "  kfold = KFold(n_splits=10, random_state=7,shuffle=True)\n",
        "  cv_results = cross_val_score(model3, pca_embedded_train_features, Y, cv=kfold, scoring=scoring)\n",
        "  results.append(cv_results)\n",
        "  names.append(name)\n",
        "  msg = \"%s: %f (%f)\" % (name, cv_results.mean(), cv_results.std())\n",
        "  print(msg)\n",
        "# boxplot algorithm comparison\n",
        "fig = pyplot.figure()\n",
        "fig.suptitle('Algorithm Comparison')\n",
        "ax = fig.add_subplot(111)\n",
        "pyplot.boxplot(results)\n",
        "ax.set_xticklabels(names)\n",
        "pyplot.show()"
      ],
      "execution_count": null,
      "outputs": [
        {
          "output_type": "stream",
          "text": [
            "Epoch 1/10\n",
            "1358/1358 [==============================] - 2s 1ms/step - loss: 0.2341 - accuracy: 0.7454\n",
            "Epoch 2/10\n",
            "1358/1358 [==============================] - 2s 1ms/step - loss: 0.1693 - accuracy: 0.7747\n",
            "Epoch 3/10\n",
            "1358/1358 [==============================] - 2s 1ms/step - loss: 0.1604 - accuracy: 0.7947\n",
            "Epoch 4/10\n",
            "1358/1358 [==============================] - 2s 1ms/step - loss: 0.1565 - accuracy: 0.8017\n",
            "Epoch 5/10\n",
            "1358/1358 [==============================] - 2s 1ms/step - loss: 0.1519 - accuracy: 0.8089\n",
            "Epoch 6/10\n",
            "1358/1358 [==============================] - 2s 1ms/step - loss: 0.1507 - accuracy: 0.8109\n",
            "Epoch 7/10\n",
            "1358/1358 [==============================] - 2s 1ms/step - loss: 0.1509 - accuracy: 0.8117\n",
            "Epoch 8/10\n",
            "1358/1358 [==============================] - 1s 1ms/step - loss: 0.1493 - accuracy: 0.8095\n",
            "Epoch 9/10\n",
            "1358/1358 [==============================] - 2s 1ms/step - loss: 0.1483 - accuracy: 0.8098\n",
            "Epoch 10/10\n",
            "1358/1358 [==============================] - 2s 1ms/step - loss: 0.1448 - accuracy: 0.8175\n"
          ],
          "name": "stdout"
        },
        {
          "output_type": "stream",
          "text": [
            "/usr/local/lib/python3.7/dist-packages/tensorflow/python/keras/engine/sequential.py:450: UserWarning: `model.predict_classes()` is deprecated and will be removed after 2021-01-01. Please use instead:* `np.argmax(model.predict(x), axis=-1)`,   if your model does multi-class classification   (e.g. if it uses a `softmax` last-layer activation).* `(model.predict(x) > 0.5).astype(\"int32\")`,   if your model does binary classification   (e.g. if it uses a `sigmoid` last-layer activation).\n",
            "  warnings.warn('`model.predict_classes()` is deprecated and '\n"
          ],
          "name": "stderr"
        },
        {
          "output_type": "stream",
          "text": [
            "Epoch 1/10\n",
            "1358/1358 [==============================] - 2s 1ms/step - loss: 0.2327 - accuracy: 0.7513\n",
            "Epoch 2/10\n",
            "1358/1358 [==============================] - 1s 1ms/step - loss: 0.1700 - accuracy: 0.7696\n",
            "Epoch 3/10\n",
            "1358/1358 [==============================] - 1s 1ms/step - loss: 0.1606 - accuracy: 0.7926\n",
            "Epoch 4/10\n",
            "1358/1358 [==============================] - 1s 1ms/step - loss: 0.1570 - accuracy: 0.8006\n",
            "Epoch 5/10\n",
            "1358/1358 [==============================] - 2s 1ms/step - loss: 0.1545 - accuracy: 0.8037\n",
            "Epoch 6/10\n",
            "1358/1358 [==============================] - 2s 1ms/step - loss: 0.1491 - accuracy: 0.8126\n",
            "Epoch 7/10\n",
            "1358/1358 [==============================] - 1s 1ms/step - loss: 0.1514 - accuracy: 0.8089\n",
            "Epoch 8/10\n",
            "1358/1358 [==============================] - 2s 1ms/step - loss: 0.1503 - accuracy: 0.8043\n",
            "Epoch 9/10\n",
            "1358/1358 [==============================] - 1s 1ms/step - loss: 0.1482 - accuracy: 0.8126\n",
            "Epoch 10/10\n",
            "1358/1358 [==============================] - 1s 1ms/step - loss: 0.1472 - accuracy: 0.8126\n",
            "Epoch 1/10\n",
            "1358/1358 [==============================] - 2s 1ms/step - loss: 0.2403 - accuracy: 0.7324\n",
            "Epoch 2/10\n",
            "1358/1358 [==============================] - 2s 1ms/step - loss: 0.1666 - accuracy: 0.7913\n",
            "Epoch 3/10\n",
            "1358/1358 [==============================] - 2s 1ms/step - loss: 0.1598 - accuracy: 0.7995\n",
            "Epoch 4/10\n",
            "1358/1358 [==============================] - 2s 1ms/step - loss: 0.1553 - accuracy: 0.8045\n",
            "Epoch 5/10\n",
            "1358/1358 [==============================] - 2s 1ms/step - loss: 0.1502 - accuracy: 0.8111\n",
            "Epoch 6/10\n",
            "1358/1358 [==============================] - 2s 1ms/step - loss: 0.1499 - accuracy: 0.8121\n",
            "Epoch 7/10\n",
            "1358/1358 [==============================] - 2s 1ms/step - loss: 0.1494 - accuracy: 0.8074\n",
            "Epoch 8/10\n",
            "1358/1358 [==============================] - 2s 1ms/step - loss: 0.1467 - accuracy: 0.8147\n",
            "Epoch 9/10\n",
            "1358/1358 [==============================] - 2s 1ms/step - loss: 0.1458 - accuracy: 0.8152\n",
            "Epoch 10/10\n",
            "1358/1358 [==============================] - 2s 1ms/step - loss: 0.1439 - accuracy: 0.8179\n",
            "Epoch 1/10\n",
            "1358/1358 [==============================] - 2s 1ms/step - loss: 0.2417 - accuracy: 0.7442\n",
            "Epoch 2/10\n",
            "1358/1358 [==============================] - 1s 1ms/step - loss: 0.1668 - accuracy: 0.7871\n",
            "Epoch 3/10\n",
            "1358/1358 [==============================] - 1s 1ms/step - loss: 0.1593 - accuracy: 0.7971\n",
            "Epoch 4/10\n",
            "1358/1358 [==============================] - 2s 1ms/step - loss: 0.1593 - accuracy: 0.7967\n",
            "Epoch 5/10\n",
            "1358/1358 [==============================] - 2s 1ms/step - loss: 0.1545 - accuracy: 0.8031\n",
            "Epoch 6/10\n",
            "1358/1358 [==============================] - 2s 1ms/step - loss: 0.1496 - accuracy: 0.8110\n",
            "Epoch 7/10\n",
            "1358/1358 [==============================] - 2s 1ms/step - loss: 0.1488 - accuracy: 0.8111\n",
            "Epoch 8/10\n",
            "1358/1358 [==============================] - 2s 1ms/step - loss: 0.1491 - accuracy: 0.8099\n",
            "Epoch 9/10\n",
            "1358/1358 [==============================] - 2s 1ms/step - loss: 0.1469 - accuracy: 0.8134\n",
            "Epoch 10/10\n",
            "1358/1358 [==============================] - 2s 1ms/step - loss: 0.1470 - accuracy: 0.8131\n",
            "Epoch 1/10\n",
            "1358/1358 [==============================] - 2s 1ms/step - loss: 0.2414 - accuracy: 0.7388\n",
            "Epoch 2/10\n",
            "1358/1358 [==============================] - 2s 1ms/step - loss: 0.1685 - accuracy: 0.7860\n",
            "Epoch 3/10\n",
            "1358/1358 [==============================] - 1s 1ms/step - loss: 0.1630 - accuracy: 0.7935\n",
            "Epoch 4/10\n",
            "1358/1358 [==============================] - 2s 1ms/step - loss: 0.1544 - accuracy: 0.8048\n",
            "Epoch 5/10\n",
            "1358/1358 [==============================] - 2s 1ms/step - loss: 0.1534 - accuracy: 0.8072\n",
            "Epoch 6/10\n",
            "1358/1358 [==============================] - 2s 1ms/step - loss: 0.1507 - accuracy: 0.8109\n",
            "Epoch 7/10\n",
            "1358/1358 [==============================] - 1s 1ms/step - loss: 0.1496 - accuracy: 0.8095\n",
            "Epoch 8/10\n",
            "1358/1358 [==============================] - 2s 1ms/step - loss: 0.1472 - accuracy: 0.8156\n",
            "Epoch 9/10\n",
            "1358/1358 [==============================] - 1s 1ms/step - loss: 0.1467 - accuracy: 0.8134\n",
            "Epoch 10/10\n",
            "1358/1358 [==============================] - 2s 1ms/step - loss: 0.1479 - accuracy: 0.8080\n",
            "Epoch 1/10\n",
            "1358/1358 [==============================] - 2s 1ms/step - loss: 0.2360 - accuracy: 0.7409\n",
            "Epoch 2/10\n",
            "1358/1358 [==============================] - 2s 1ms/step - loss: 0.1680 - accuracy: 0.7735\n",
            "Epoch 3/10\n",
            "1358/1358 [==============================] - 2s 1ms/step - loss: 0.1571 - accuracy: 0.8017\n",
            "Epoch 4/10\n",
            "1358/1358 [==============================] - 2s 1ms/step - loss: 0.1556 - accuracy: 0.8048\n",
            "Epoch 5/10\n",
            "1358/1358 [==============================] - 2s 1ms/step - loss: 0.1529 - accuracy: 0.8079\n",
            "Epoch 6/10\n",
            "1358/1358 [==============================] - 2s 1ms/step - loss: 0.1509 - accuracy: 0.8110\n",
            "Epoch 7/10\n",
            "1358/1358 [==============================] - 2s 1ms/step - loss: 0.1479 - accuracy: 0.8124\n",
            "Epoch 8/10\n",
            "1358/1358 [==============================] - 2s 1ms/step - loss: 0.1483 - accuracy: 0.8133\n",
            "Epoch 9/10\n",
            "1358/1358 [==============================] - 2s 1ms/step - loss: 0.1477 - accuracy: 0.8108\n",
            "Epoch 10/10\n",
            "1358/1358 [==============================] - 2s 1ms/step - loss: 0.1435 - accuracy: 0.8206\n",
            "Epoch 1/10\n",
            "1358/1358 [==============================] - 2s 1ms/step - loss: 0.2340 - accuracy: 0.7611\n",
            "Epoch 2/10\n",
            "1358/1358 [==============================] - 2s 1ms/step - loss: 0.1694 - accuracy: 0.7826\n",
            "Epoch 3/10\n",
            "1358/1358 [==============================] - 2s 1ms/step - loss: 0.1609 - accuracy: 0.7934\n",
            "Epoch 4/10\n",
            "1358/1358 [==============================] - 2s 1ms/step - loss: 0.1563 - accuracy: 0.8042\n",
            "Epoch 5/10\n",
            "1358/1358 [==============================] - 2s 1ms/step - loss: 0.1554 - accuracy: 0.8007\n",
            "Epoch 6/10\n",
            "1358/1358 [==============================] - 2s 1ms/step - loss: 0.1513 - accuracy: 0.8104\n",
            "Epoch 7/10\n",
            "1358/1358 [==============================] - 2s 1ms/step - loss: 0.1510 - accuracy: 0.8092\n",
            "Epoch 8/10\n",
            "1358/1358 [==============================] - 2s 1ms/step - loss: 0.1482 - accuracy: 0.8131\n",
            "Epoch 9/10\n",
            "1358/1358 [==============================] - 2s 1ms/step - loss: 0.1483 - accuracy: 0.8140\n",
            "Epoch 10/10\n",
            "1358/1358 [==============================] - 2s 1ms/step - loss: 0.1475 - accuracy: 0.8156\n",
            "Epoch 1/10\n",
            "1358/1358 [==============================] - 2s 1ms/step - loss: 0.2339 - accuracy: 0.7481\n",
            "Epoch 2/10\n",
            "1358/1358 [==============================] - 1s 1ms/step - loss: 0.1652 - accuracy: 0.7899\n",
            "Epoch 3/10\n",
            "1358/1358 [==============================] - 2s 1ms/step - loss: 0.1586 - accuracy: 0.8002\n",
            "Epoch 4/10\n",
            "1358/1358 [==============================] - 2s 1ms/step - loss: 0.1549 - accuracy: 0.8039\n",
            "Epoch 5/10\n",
            "1358/1358 [==============================] - 2s 1ms/step - loss: 0.1517 - accuracy: 0.8073\n",
            "Epoch 6/10\n",
            "1358/1358 [==============================] - 2s 1ms/step - loss: 0.1516 - accuracy: 0.8088\n",
            "Epoch 7/10\n",
            "1358/1358 [==============================] - 2s 1ms/step - loss: 0.1488 - accuracy: 0.8109\n",
            "Epoch 8/10\n",
            "1358/1358 [==============================] - 2s 1ms/step - loss: 0.1467 - accuracy: 0.8165\n",
            "Epoch 9/10\n",
            "1358/1358 [==============================] - 1s 1ms/step - loss: 0.1455 - accuracy: 0.8142\n",
            "Epoch 10/10\n",
            "1358/1358 [==============================] - 2s 1ms/step - loss: 0.1475 - accuracy: 0.8119\n",
            "Epoch 1/10\n",
            "1358/1358 [==============================] - 2s 1ms/step - loss: 0.2402 - accuracy: 0.7532\n",
            "Epoch 2/10\n",
            "1358/1358 [==============================] - 2s 1ms/step - loss: 0.1699 - accuracy: 0.7673\n",
            "Epoch 3/10\n",
            "1358/1358 [==============================] - 2s 1ms/step - loss: 0.1636 - accuracy: 0.7874\n",
            "Epoch 4/10\n",
            "1358/1358 [==============================] - 2s 1ms/step - loss: 0.1575 - accuracy: 0.7972\n",
            "Epoch 5/10\n",
            "1358/1358 [==============================] - 2s 1ms/step - loss: 0.1558 - accuracy: 0.8011\n",
            "Epoch 6/10\n",
            "1358/1358 [==============================] - 2s 1ms/step - loss: 0.1523 - accuracy: 0.8057\n",
            "Epoch 7/10\n",
            "1358/1358 [==============================] - 2s 1ms/step - loss: 0.1489 - accuracy: 0.8138\n",
            "Epoch 8/10\n",
            "1358/1358 [==============================] - 2s 1ms/step - loss: 0.1490 - accuracy: 0.8123\n",
            "Epoch 9/10\n",
            "1358/1358 [==============================] - 2s 1ms/step - loss: 0.1463 - accuracy: 0.8151\n",
            "Epoch 10/10\n",
            "1358/1358 [==============================] - 2s 1ms/step - loss: 0.1483 - accuracy: 0.8138\n",
            "Epoch 1/10\n",
            "1358/1358 [==============================] - 2s 1ms/step - loss: 0.2303 - accuracy: 0.7598\n",
            "Epoch 2/10\n",
            "1358/1358 [==============================] - 2s 1ms/step - loss: 0.1671 - accuracy: 0.7893\n",
            "Epoch 3/10\n",
            "1358/1358 [==============================] - 2s 1ms/step - loss: 0.1610 - accuracy: 0.7962\n",
            "Epoch 4/10\n",
            "1358/1358 [==============================] - 2s 1ms/step - loss: 0.1574 - accuracy: 0.8004\n",
            "Epoch 5/10\n",
            "1358/1358 [==============================] - 2s 1ms/step - loss: 0.1538 - accuracy: 0.8022\n",
            "Epoch 6/10\n",
            "1358/1358 [==============================] - 2s 1ms/step - loss: 0.1537 - accuracy: 0.8013\n",
            "Epoch 7/10\n",
            "1358/1358 [==============================] - 2s 1ms/step - loss: 0.1478 - accuracy: 0.8120\n",
            "Epoch 8/10\n",
            "1358/1358 [==============================] - 2s 1ms/step - loss: 0.1485 - accuracy: 0.8104\n",
            "Epoch 9/10\n",
            "1358/1358 [==============================] - 2s 1ms/step - loss: 0.1483 - accuracy: 0.8090\n",
            "Epoch 10/10\n",
            "1358/1358 [==============================] - 2s 1ms/step - loss: 0.1485 - accuracy: 0.8089\n",
            "Keras Classifier - Embedded : 0.814933 (0.007052)\n"
          ],
          "name": "stdout"
        },
        {
          "output_type": "display_data",
          "data": {
            "image/png": "[encoded data removed]",
            "text/plain": [
              "<Figure size 432x288 with 1 Axes>"
            ]
          },
          "metadata": {
            "tags": [],
            "needs_background": "light"
          }
        }
      ]
    },
    {
      "cell_type": "markdown",
      "metadata": {
        "id": "zGQ7TJIevlbu"
      },
      "source": [
        "b) Predicting labels of test data instances and evaluating model based on :\n",
        "\n",
        "(i) Time taken to build model\n",
        "\n",
        "(ii) Time taken to test model\n",
        "\n",
        "(iii) Model Accuracy\n",
        "\n",
        "(iv) Model Error Rate\n",
        "\n",
        "(v) DetectionRate\n",
        "\n",
        "(vi) False Positive\n",
        "\n",
        "(vii) Type II Error\n",
        "\n",
        "(viii) Matthews correlation coefficient (MCC)"
      ]
    },
    {
      "cell_type": "code",
      "metadata": {
        "colab": {
          "base_uri": "https://localhost:8080/"
        },
        "id": "YwzgklanwZy6",
        "outputId": "c9154d30-ae98-42ff-cd89-9cb9aa63d53a"
      },
      "source": [
        "# Predicting of Test data of Filter method \n",
        "models = []\n",
        "models.append(('Keras Classifier - Filter', KerasClassifier(build_fn=create_model5, batch_size= 20, epochs= 10, init = 'glorot_uniform', optimizer='WAME1')))\n",
        "\n",
        "\n",
        "for name, model in models:\n",
        "  print(\"-----------------------------------------------\")\n",
        "  print(\"Model : \", name)\n",
        "  model_start = time.time()\n",
        "  model.fit(pca_filter_train_features, Y)\n",
        "  print(\"Time to build model (sec) : %.4f \" % round(time.time()-model_start,4))\n",
        "  start = time.time()\n",
        "  predicted = model.predict(pca_filter_test_features)\n",
        "  print(\"Time to test model (sec) : %.4f \" % round(time.time()-start,4))\n",
        "  matrix = confusion_matrix(Y_t, predicted)\n",
        "  print(\"Time elapsed (sec): %.4f \" % round(time.time()-model_start, 4))\n",
        "  print(matrix)\n",
        "\n",
        "  TN1 = matrix[0][0]\n",
        "  FN1 = matrix[1][0]\n",
        "  FP1 = matrix[0][1]\n",
        "  TP1 = matrix[1][1]\n",
        "\n",
        "  DetectionRate_LR = TP1/(TP1+FN1)\n",
        "  Alarm_LR =   FP1/(FP1+TN1)\n",
        "\n",
        "  # To built a MCC for LR\n",
        "  MCC_num_LR= (TP1*TN1)-(FP1*FN1) \n",
        "  MCC_din_LR= math.sqrt((TP1 + FP1)*(TP1+FN1)*(TN1 + FP1)*(TN1+FN1))\n",
        "\n",
        "  MCC_LR = MCC_num_LR / MCC_din_LR\n",
        "  Acc_LR = (TP1 + TN1) / (TP1+FP1+FN1+TN1)\n",
        "  Err_LR = 1 - Acc_LR\n",
        "  T2_Err = (FN1 / (FN1+TP1))\n",
        "  print(\"Model Accuracy : %s\"%(Acc_LR))\n",
        "  print(\"Model Error Rate : %s\"%(Err_LR))\n",
        "  print(\"Detection Rate :%s\"%(DetectionRate_LR))\n",
        "  print(\"False Positive Type 1 :%s\"%(Alarm_LR))\n",
        "  print(\"Type 2 Error : %s\"%(T2_Err))\n",
        "  print(\"Matthews correlation coefficient (MCC):%s\"%(MCC_LR))"
      ],
      "execution_count": null,
      "outputs": [
        {
          "output_type": "stream",
          "text": [
            "-----------------------------------------------\n",
            "Model :  Keras Classifier - Filter\n",
            "Epoch 1/10\n",
            "1509/1509 [==============================] - 2s 1ms/step - loss: 0.2341 - accuracy: 0.7492\n",
            "Epoch 2/10\n",
            "1509/1509 [==============================] - 2s 1ms/step - loss: 0.1627 - accuracy: 0.7964\n",
            "Epoch 3/10\n",
            "1509/1509 [==============================] - 2s 1ms/step - loss: 0.1570 - accuracy: 0.7966\n",
            "Epoch 4/10\n",
            "1509/1509 [==============================] - 2s 1ms/step - loss: 0.1551 - accuracy: 0.7962\n",
            "Epoch 5/10\n",
            "1509/1509 [==============================] - 2s 1ms/step - loss: 0.1494 - accuracy: 0.8039\n",
            "Epoch 6/10\n",
            "1509/1509 [==============================] - 2s 1ms/step - loss: 0.1478 - accuracy: 0.8065\n",
            "Epoch 7/10\n",
            "1509/1509 [==============================] - 2s 1ms/step - loss: 0.1483 - accuracy: 0.8009\n",
            "Epoch 8/10\n",
            "1509/1509 [==============================] - 2s 1ms/step - loss: 0.1457 - accuracy: 0.8061\n",
            "Epoch 9/10\n",
            "1509/1509 [==============================] - 2s 1ms/step - loss: 0.1429 - accuracy: 0.8112\n",
            "Epoch 10/10\n",
            "1509/1509 [==============================] - 2s 1ms/step - loss: 0.1430 - accuracy: 0.8099\n",
            "Time to build model (sec) : 17.6510 \n"
          ],
          "name": "stdout"
        },
        {
          "output_type": "stream",
          "text": [
            "/usr/local/lib/python3.7/dist-packages/tensorflow/python/keras/engine/sequential.py:450: UserWarning: `model.predict_classes()` is deprecated and will be removed after 2021-01-01. Please use instead:* `np.argmax(model.predict(x), axis=-1)`,   if your model does multi-class classification   (e.g. if it uses a `softmax` last-layer activation).* `(model.predict(x) > 0.5).astype(\"int32\")`,   if your model does binary classification   (e.g. if it uses a `sigmoid` last-layer activation).\n",
            "  warnings.warn('`model.predict_classes()` is deprecated and '\n"
          ],
          "name": "stderr"
        },
        {
          "output_type": "stream",
          "text": [
            "Time to test model (sec) : 0.4761 \n",
            "Time elapsed (sec): 18.1435 \n",
            "[[10631   729]\n",
            " [ 2161  1539]]\n",
            "Model Accuracy : 0.8081009296148738\n",
            "Model Error Rate : 0.1918990703851262\n",
            "Detection Rate :0.41594594594594597\n",
            "False Positive Type 1 :0.0641725352112676\n",
            "Type 2 Error : 0.5840540540540541\n",
            "Matthews correlation coefficient (MCC):0.42341114652864553\n"
          ],
          "name": "stdout"
        }
      ]
    },
    {
      "cell_type": "code",
      "metadata": {
        "colab": {
          "base_uri": "https://localhost:8080/"
        },
        "id": "WoMw1fYSSmfX",
        "outputId": "cdf4f77b-2ba7-4366-a05e-63eb36e1e09c"
      },
      "source": [
        "# Predicting of Test data of Wrapper method \n",
        "models = []\n",
        "models.append(('Keras Classifier - Wrapper', KerasClassifier(build_fn=create_model6, batch_size= 20, epochs= 10, init = 'glorot_uniform', optimizer='WAME4')))\n",
        "\n",
        "\n",
        "for name, model in models:\n",
        "  print(\"-----------------------------------------------\")\n",
        "  print(\"Model : \", name)\n",
        "  model_start = time.time()\n",
        "  model.fit(pca_wrapper_train_features, Y)\n",
        "  print(\"Time to build model (sec) : %.4f \" % round(time.time()-model_start,4))\n",
        "  start = time.time()\n",
        "  predicted = model.predict(pca_wrapper_test_features)\n",
        "  print(\"Time to test model (sec) : %.4f \" % round(time.time()-start,4))\n",
        "  matrix = confusion_matrix(Y_t, predicted)\n",
        "  print(\"Time elapsed (sec): %.4f \" % round(time.time()-model_start, 4))\n",
        "  print(matrix)\n",
        "\n",
        "  TN1 = matrix[0][0]\n",
        "  FN1 = matrix[1][0]\n",
        "  FP1 = matrix[0][1]\n",
        "  TP1 = matrix[1][1]\n",
        "\n",
        "  DetectionRate_LR = TP1/(TP1+FN1)\n",
        "  Alarm_LR =   FP1/(FP1+TN1)\n",
        "\n",
        "  # To built a MCC for LR\n",
        "  MCC_num_LR= (TP1*TN1)-(FP1*FN1) \n",
        "  MCC_din_LR= math.sqrt((TP1 + FP1)*(TP1+FN1)*(TN1 + FP1)*(TN1+FN1))\n",
        "\n",
        "  MCC_LR = MCC_num_LR / MCC_din_LR\n",
        "  Acc_LR = (TP1 + TN1) / (TP1+FP1+FN1+TN1)\n",
        "  Err_LR = 1 - Acc_LR\n",
        "  T2_Err = (FN1 / (FN1+TP1))\n",
        "  print(\"Model Accuracy : %s\"%(Acc_LR))\n",
        "  print(\"Model Error Rate : %s\"%(Err_LR))\n",
        "  print(\"Detection Rate :%s\"%(DetectionRate_LR))\n",
        "  print(\"False Positive Type 1 :%s\"%(Alarm_LR))\n",
        "  print(\"Type 2 Error : %s\"%(T2_Err))\n",
        "  print(\"Matthews correlation coefficient (MCC):%s\"%(MCC_LR))"
      ],
      "execution_count": null,
      "outputs": [
        {
          "output_type": "stream",
          "text": [
            "-----------------------------------------------\n",
            "Model :  Keras Classifier - Wrapper\n",
            "Epoch 1/10\n",
            "1509/1509 [==============================] - 2s 1ms/step - loss: 0.2256 - accuracy: 0.7534\n",
            "Epoch 2/10\n",
            "1509/1509 [==============================] - 2s 1ms/step - loss: 0.1613 - accuracy: 0.8051\n",
            "Epoch 3/10\n",
            "1509/1509 [==============================] - 2s 1ms/step - loss: 0.1530 - accuracy: 0.8225\n",
            "Epoch 4/10\n",
            "1509/1509 [==============================] - 2s 1ms/step - loss: 0.1511 - accuracy: 0.8188\n",
            "Epoch 5/10\n",
            "1509/1509 [==============================] - 2s 1ms/step - loss: 0.1439 - accuracy: 0.8289\n",
            "Epoch 6/10\n",
            "1509/1509 [==============================] - 2s 1ms/step - loss: 0.1434 - accuracy: 0.8280\n",
            "Epoch 7/10\n",
            "1509/1509 [==============================] - 2s 1ms/step - loss: 0.1421 - accuracy: 0.8257\n",
            "Epoch 8/10\n",
            "1509/1509 [==============================] - 2s 1ms/step - loss: 0.1404 - accuracy: 0.8286\n",
            "Epoch 9/10\n",
            "1509/1509 [==============================] - 2s 1ms/step - loss: 0.1397 - accuracy: 0.8277\n",
            "Epoch 10/10\n",
            "1509/1509 [==============================] - 2s 1ms/step - loss: 0.1388 - accuracy: 0.8252\n",
            "Time to build model (sec) : 17.2878 \n"
          ],
          "name": "stdout"
        },
        {
          "output_type": "stream",
          "text": [
            "/usr/local/lib/python3.7/dist-packages/tensorflow/python/keras/engine/sequential.py:450: UserWarning: `model.predict_classes()` is deprecated and will be removed after 2021-01-01. Please use instead:* `np.argmax(model.predict(x), axis=-1)`,   if your model does multi-class classification   (e.g. if it uses a `softmax` last-layer activation).* `(model.predict(x) > 0.5).astype(\"int32\")`,   if your model does binary classification   (e.g. if it uses a `sigmoid` last-layer activation).\n",
            "  warnings.warn('`model.predict_classes()` is deprecated and '\n"
          ],
          "name": "stderr"
        },
        {
          "output_type": "stream",
          "text": [
            "Time to test model (sec) : 0.4686 \n",
            "Time elapsed (sec): 17.7718 \n",
            "[[10644   716]\n",
            " [ 1893  1807]]\n",
            "Model Accuracy : 0.8267596281540505\n",
            "Model Error Rate : 0.17324037184594954\n",
            "Detection Rate :0.4883783783783784\n",
            "False Positive Type 1 :0.0630281690140845\n",
            "Type 2 Error : 0.5116216216216216\n",
            "Matthews correlation coefficient (MCC):0.49032184264367223\n"
          ],
          "name": "stdout"
        }
      ]
    },
    {
      "cell_type": "code",
      "metadata": {
        "colab": {
          "base_uri": "https://localhost:8080/"
        },
        "id": "uEympxhUTt3t",
        "outputId": "63cfa9d1-d2a8-47cc-b9ce-d378aee2e534"
      },
      "source": [
        "# Predicting of Test data of Embedded method \n",
        "models = []\n",
        "models.append(('Keras Classifier - Embedded', KerasClassifier(build_fn=create_model7, batch_size= 20, epochs= 10, init = 'glorot_uniform', optimizer='adam')))\n",
        "\n",
        "\n",
        "for name, model in models:\n",
        "  print(\"-----------------------------------------------\")\n",
        "  print(\"Model : \", name)\n",
        "  model_start = time.time()\n",
        "  model.fit(pca_embedded_train_features, Y)\n",
        "  print(\"Time to build model (sec) : %.4f \" % round(time.time()-model_start,4))\n",
        "  start = time.time()\n",
        "  predicted = model.predict(pca_embedded_test_features)\n",
        "  print(\"Time to test model (sec) : %.4f \" % round(time.time()-start,4))\n",
        "  matrix = confusion_matrix(Y_t, predicted)\n",
        "  print(\"Time elapsed (sec): %.4f \" % round(time.time()-model_start, 4))\n",
        "  print(matrix)\n",
        "\n",
        "  TN1 = matrix[0][0]\n",
        "  FN1 = matrix[1][0]\n",
        "  FP1 = matrix[0][1]\n",
        "  TP1 = matrix[1][1]\n",
        "\n",
        "  DetectionRate_LR = TP1/(TP1+FN1)\n",
        "  Alarm_LR =   FP1/(FP1+TN1)\n",
        "\n",
        "  # To built a MCC for LR\n",
        "  MCC_num_LR= (TP1*TN1)-(FP1*FN1) \n",
        "  MCC_din_LR= math.sqrt((TP1 + FP1)*(TP1+FN1)*(TN1 + FP1)*(TN1+FN1))\n",
        "\n",
        "  MCC_LR = MCC_num_LR / MCC_din_LR\n",
        "  Acc_LR = (TP1 + TN1) / (TP1+FP1+FN1+TN1)\n",
        "  Err_LR = 1 - Acc_LR\n",
        "  T2_Err = (FN1 / (FN1+TP1))\n",
        "  print(\"Model Accuracy : %s\"%(Acc_LR))\n",
        "  print(\"Model Error Rate : %s\"%(Err_LR))\n",
        "  print(\"Detection Rate :%s\"%(DetectionRate_LR))\n",
        "  print(\"False Positive Type 1 :%s\"%(Alarm_LR))\n",
        "  print(\"Type 2 Error : %s\"%(T2_Err))\n",
        "  print(\"Matthews correlation coefficient (MCC):%s\"%(MCC_LR))"
      ],
      "execution_count": null,
      "outputs": [
        {
          "output_type": "stream",
          "text": [
            "-----------------------------------------------\n",
            "Model :  Keras Classifier - Embedded\n",
            "Epoch 1/10\n",
            "1509/1509 [==============================] - 2s 1ms/step - loss: 0.2352 - accuracy: 0.7770\n",
            "Epoch 2/10\n",
            "1509/1509 [==============================] - 2s 1ms/step - loss: 0.1648 - accuracy: 0.7925\n",
            "Epoch 3/10\n",
            "1509/1509 [==============================] - 2s 1ms/step - loss: 0.1588 - accuracy: 0.7993\n",
            "Epoch 4/10\n",
            "1509/1509 [==============================] - 2s 1ms/step - loss: 0.1575 - accuracy: 0.7994\n",
            "Epoch 5/10\n",
            "1509/1509 [==============================] - 2s 1ms/step - loss: 0.1523 - accuracy: 0.8074\n",
            "Epoch 6/10\n",
            "1509/1509 [==============================] - 2s 1ms/step - loss: 0.1519 - accuracy: 0.8073\n",
            "Epoch 7/10\n",
            "1509/1509 [==============================] - 2s 1ms/step - loss: 0.1489 - accuracy: 0.8130\n",
            "Epoch 8/10\n",
            "1509/1509 [==============================] - 2s 1ms/step - loss: 0.1464 - accuracy: 0.8163\n",
            "Epoch 9/10\n",
            "1509/1509 [==============================] - 2s 1ms/step - loss: 0.1455 - accuracy: 0.8159\n",
            "Epoch 10/10\n",
            "1509/1509 [==============================] - 2s 1ms/step - loss: 0.1462 - accuracy: 0.8151\n",
            "Time to build model (sec) : 17.4145 \n"
          ],
          "name": "stdout"
        },
        {
          "output_type": "stream",
          "text": [
            "/usr/local/lib/python3.7/dist-packages/tensorflow/python/keras/engine/sequential.py:450: UserWarning: `model.predict_classes()` is deprecated and will be removed after 2021-01-01. Please use instead:* `np.argmax(model.predict(x), axis=-1)`,   if your model does multi-class classification   (e.g. if it uses a `softmax` last-layer activation).* `(model.predict(x) > 0.5).astype(\"int32\")`,   if your model does binary classification   (e.g. if it uses a `sigmoid` last-layer activation).\n",
            "  warnings.warn('`model.predict_classes()` is deprecated and '\n"
          ],
          "name": "stderr"
        },
        {
          "output_type": "stream",
          "text": [
            "Time to test model (sec) : 0.4760 \n",
            "Time elapsed (sec): 17.9057 \n",
            "[[7899 3461]\n",
            " [1939 1761]]\n",
            "Model Accuracy : 0.6414342629482072\n",
            "Model Error Rate : 0.35856573705179284\n",
            "Detection Rate :0.47594594594594597\n",
            "False Positive Type 1 :0.3046654929577465\n",
            "Type 2 Error : 0.524054054054054\n",
            "Matthews correlation coefficient (MCC):0.1549265991905138\n"
          ],
          "name": "stdout"
        }
      ]
    }
  ]
}